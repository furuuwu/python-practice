{
 "cells": [
  {
   "cell_type": "code",
   "execution_count": 1,
   "id": "71bcb17e-f442-4ba0-b9c1-f57965d421d9",
   "metadata": {
    "scrolled": true
   },
   "outputs": [
    {
     "name": "stdout",
     "output_type": "stream",
     "text": [
      "Hello World!\n"
     ]
    }
   ],
   "source": [
    "print(\"Hello World!\")"
   ]
  },
  {
   "cell_type": "markdown",
   "id": "6393f0e2",
   "metadata": {},
   "source": [
    "this is going to summarize a bunch of resources. For now:\n",
    "* https://www.w3schools.com/python/default.asp\n",
    "* [Kylie Ying - Introduction to Programming](https://www.youtube.com/watch?v=GGdmIL85qos&list=PLkWv3oO4kHnsiGHnifBxa79d-xPwYDiAx&index=1)"
   ]
  },
  {
   "cell_type": "markdown",
   "id": "781b8561",
   "metadata": {},
   "source": [
    "# installing python"
   ]
  },
  {
   "cell_type": "markdown",
   "id": "cd8adf98",
   "metadata": {},
   "source": [
    "* Anaconda distribution\n",
    "\n",
    "    https://www.anaconda.com/download\n",
    "* Miniconda\n",
    "\n",
    "    minimal installer for conda\n",
    "    https://docs.anaconda.com/miniconda/\n",
    "    \n",
    "* just python\n",
    "\n",
    "    https://www.python.org/"
   ]
  },
  {
   "cell_type": "markdown",
   "id": "b23748e6",
   "metadata": {},
   "source": [
    "`python --version`"
   ]
  },
  {
   "cell_type": "markdown",
   "id": "3b3e647d",
   "metadata": {},
   "source": [
    "# IDEs"
   ]
  },
  {
   "cell_type": "markdown",
   "id": "5ba7345d",
   "metadata": {},
   "source": [
    "[Rob Mulla - Jupyter Notebook Complete Beginner Guide](https://www.youtube.com/watch?v=5pf0_bpNbkw)"
   ]
  },
  {
   "cell_type": "markdown",
   "id": "79a2cb32",
   "metadata": {},
   "source": [
    "* VSCode\n",
    "\n",
    "    https://code.visualstudio.com/\n",
    "* Jupyter notebooks\n",
    "    \n",
    "    https://jupyter.org/\n",
    "    \n",
    "    The Jupyter Notebook is the original web application for creating and sharing computational documents.\n",
    "    \n",
    "* JupyterLab\n",
    "    \n",
    "    JupyterLab is the latest web-based interactive development environment for notebooks, code, and data"
   ]
  },
  {
   "cell_type": "markdown",
   "id": "3cfebf08",
   "metadata": {},
   "source": [
    "get information about the interpreter by using the `sys` module\n",
    "\n",
    "https://docs.python.org/3/library/sys.html"
   ]
  },
  {
   "cell_type": "code",
   "execution_count": 2,
   "id": "c70997e4",
   "metadata": {},
   "outputs": [],
   "source": [
    "import sys"
   ]
  },
  {
   "cell_type": "code",
   "execution_count": null,
   "id": "7a613fbf",
   "metadata": {
    "scrolled": true
   },
   "outputs": [],
   "source": [
    "help(sys)"
   ]
  },
  {
   "cell_type": "code",
   "execution_count": 4,
   "id": "3d8104bf",
   "metadata": {},
   "outputs": [
    {
     "data": {
      "text/plain": [
       "'3.10.4 (tags/v3.10.4:9d38120, Mar 23 2022, 23:13:41) [MSC v.1929 64 bit (AMD64)]'"
      ]
     },
     "execution_count": 4,
     "metadata": {},
     "output_type": "execute_result"
    }
   ],
   "source": [
    "sys.version\n",
    "# A string containing the version number of the Python interpreter plus additional information\n",
    "# on the build number and compiler used.\n",
    "# Do not extract version information out of it, rather, use version_info and the functions provided by the platform module."
   ]
  },
  {
   "cell_type": "code",
   "execution_count": 5,
   "id": "b02be8bd",
   "metadata": {},
   "outputs": [
    {
     "data": {
      "text/plain": [
       "sys.version_info(major=3, minor=10, micro=4, releaselevel='final', serial=0)"
      ]
     },
     "execution_count": 5,
     "metadata": {},
     "output_type": "execute_result"
    }
   ],
   "source": [
    "sys.version_info\n",
    "# A tuple containing the five components of the version number: major, minor, micro, releaselevel, and serial. \n",
    "# All values except releaselevel are integers; the release level is 'alpha', 'beta', 'candidate', or 'final'."
   ]
  },
  {
   "cell_type": "code",
   "execution_count": 6,
   "id": "f9d0e02a",
   "metadata": {},
   "outputs": [
    {
     "name": "stdout",
     "output_type": "stream",
     "text": [
      "using python v3\n"
     ]
    }
   ],
   "source": [
    "if sys.version_info.major != 3:\n",
    "    raise Exception('Version problem', 'this assumes python 3')\n",
    "else:\n",
    "    print(\"using python v3\")"
   ]
  },
  {
   "cell_type": "markdown",
   "id": "f19f64f5",
   "metadata": {},
   "source": [
    "not very useful in here because the kernel which is running also shows the version (top right corner)"
   ]
  },
  {
   "attachments": {
    "image.png": {
     "image/png": "[encoded data removed]"
    }
   },
   "cell_type": "markdown",
   "id": "bb596364",
   "metadata": {},
   "source": [
    "![image.png](attachment:image.png)"
   ]
  },
  {
   "cell_type": "code",
   "execution_count": null,
   "id": "02a2670b",
   "metadata": {},
   "outputs": [
    {
     "data": {
      "text/plain": [
       "'win32'"
      ]
     },
     "execution_count": 7,
     "metadata": {},
     "output_type": "execute_result"
    }
   ],
   "source": [
    "sys.platform\n",
    "# This string contains a platform identifier that can be used to append platform-specific components to sys.path, for instance.\n",
    "# The platform module provides detailed checks for the system’s identity."
   ]
  },
  {
   "cell_type": "code",
   "execution_count": 8,
   "id": "7a95d800",
   "metadata": {},
   "outputs": [],
   "source": [
    "if sys.platform.startswith('freebsd'):\n",
    "    # FreeBSD-specific code here...\n",
    "    pass\n",
    "elif sys.platform.startswith('linux'):\n",
    "    # Linux-specific code here...\n",
    "    pass\n",
    "elif sys.platform.startswith('aix'):\n",
    "    # AIX-specific code here...\n",
    "    pass\n",
    "elif sys.platform == 'win32':\n",
    "    print(\"On Windows\")\n",
    "elif sys.platform == 'darwin':\n",
    "    print(\"On a Mac\")\n",
    "elif sys.platform == 'cygwin':\n",
    "    print(\"Windows/Cygwin\")\n",
    "else:\n",
    "    print(\"IDK\")"
   ]
  },
  {
   "cell_type": "code",
   "execution_count": 9,
   "id": "992d50c9",
   "metadata": {},
   "outputs": [
    {
     "data": {
      "text/plain": [
       "'C:\\\\Users\\\\ricga\\\\AppData\\\\Local\\\\Programs\\\\Python\\\\Python310\\\\python.exe'"
      ]
     },
     "execution_count": 9,
     "metadata": {},
     "output_type": "execute_result"
    }
   ],
   "source": [
    "sys.executable\n",
    "# A string giving the absolute path of the executable binary for the Python interpreter, on systems where this makes sense."
   ]
  },
  {
   "cell_type": "code",
   "execution_count": 10,
   "id": "9cc4f6b1",
   "metadata": {
    "scrolled": true
   },
   "outputs": [
    {
     "data": {
      "text/plain": [
       "['D:\\\\repos\\\\python-jupyter',\n",
       " 'C:\\\\Users\\\\ricga\\\\AppData\\\\Local\\\\Programs\\\\Python\\\\Python310\\\\python310.zip',\n",
       " 'C:\\\\Users\\\\ricga\\\\AppData\\\\Local\\\\Programs\\\\Python\\\\Python310\\\\DLLs',\n",
       " 'C:\\\\Users\\\\ricga\\\\AppData\\\\Local\\\\Programs\\\\Python\\\\Python310\\\\lib',\n",
       " 'C:\\\\Users\\\\ricga\\\\AppData\\\\Local\\\\Programs\\\\Python\\\\Python310',\n",
       " '',\n",
       " 'C:\\\\Users\\\\ricga\\\\AppData\\\\Roaming\\\\Python\\\\Python310\\\\site-packages',\n",
       " 'C:\\\\Users\\\\ricga\\\\AppData\\\\Local\\\\Programs\\\\Python\\\\Python310\\\\lib\\\\site-packages',\n",
       " 'C:\\\\Users\\\\ricga\\\\AppData\\\\Local\\\\Programs\\\\Python\\\\Python310\\\\lib\\\\site-packages\\\\win32',\n",
       " 'C:\\\\Users\\\\ricga\\\\AppData\\\\Local\\\\Programs\\\\Python\\\\Python310\\\\lib\\\\site-packages\\\\win32\\\\lib',\n",
       " 'C:\\\\Users\\\\ricga\\\\AppData\\\\Local\\\\Programs\\\\Python\\\\Python310\\\\lib\\\\site-packages\\\\Pythonwin']"
      ]
     },
     "execution_count": 10,
     "metadata": {},
     "output_type": "execute_result"
    }
   ],
   "source": [
    "sys.path\n",
    "# A list of strings that specifies the search path for modules. \n",
    "# Initialized from the environment variable PYTHONPATH, plus an installation-dependent default."
   ]
  },
  {
   "cell_type": "markdown",
   "id": "7e673092",
   "metadata": {},
   "source": [
    "# dependencies management"
   ]
  },
  {
   "cell_type": "markdown",
   "id": "6bb0adc5",
   "metadata": {},
   "source": [
    "**using requirements.txt**\n",
    "\n",
    "    package1==1.0.0\n",
    "    package2>=2.0.0"
   ]
  },
  {
   "cell_type": "markdown",
   "id": "8a16d35e",
   "metadata": {},
   "source": [
    "**using a setup.py file**\n",
    "\n",
    "    from setuptools import setup, find_packages\n",
    "\n",
    "    setup(\n",
    "        name='your_package',\n",
    "        version='1.0.0',\n",
    "        packages=find_packages(),\n",
    "        install_requires=[\n",
    "            'package1==1.0.0',\n",
    "            'package2>=2.0.0',\n",
    "        ],\n",
    "        python_requires='>=3.0',\n",
    "    )"
   ]
  },
  {
   "cell_type": "markdown",
   "id": "e0cb9099",
   "metadata": {},
   "source": [
    "**using a pyproject.toml file**\n",
    "\n",
    "    [build-system]\n",
    "    requires = [\"setuptools>=42\", \"wheel\"]\n",
    "    build-backend = \"setuptools.build_meta\"\n",
    "\n",
    "    [project]\n",
    "    name = \"your_package\"\n",
    "    version = \"1.0.0\"\n",
    "    dependencies = [\n",
    "        \"package1==1.0.0\",\n",
    "        \"package2>=2.0.0\",\n",
    "    ]\n",
    "    requires-python = \">=3.0\""
   ]
  },
  {
   "cell_type": "markdown",
   "id": "8518cca8",
   "metadata": {},
   "source": [
    "**using Poetry**"
   ]
  },
  {
   "cell_type": "markdown",
   "id": "3ba5b522",
   "metadata": {},
   "source": [
    "https://github.com/python-poetry/poetry"
   ]
  },
  {
   "cell_type": "markdown",
   "id": "22387839",
   "metadata": {},
   "source": [
    "# virtual environments"
   ]
  },
  {
   "cell_type": "markdown",
   "id": "bb26b722",
   "metadata": {},
   "source": [
    "**without using a virtual environment**\n",
    "\n",
    "install python and the dependencies\n",
    "\n",
    "run a file\n",
    "\n",
    "`python 0.py`"
   ]
  },
  {
   "cell_type": "markdown",
   "id": "93147b47",
   "metadata": {},
   "source": [
    "**using a virtual environment**\n",
    "\n",
    "- create a virtual environment\n",
    "\n",
    "    `python -m venv venv`\n",
    "\n",
    "    this creates a virtual environment called venv using the venv module. -m stands for module\n",
    "\n",
    "    It adds a venv directory to the project\n",
    "\n",
    "- make sure you are using the right interpreter\n",
    "\n",
    "    (the one in `.\\venv\\Scripts\\python.exe`)\n",
    "\n",
    "- activate the virtual environment. \n",
    "\n",
    "    This depends on the shell you are using\n",
    "\n",
    "    If you are using Git Bash,\n",
    "\n",
    "    `source venv/Scripts/activate`\n",
    "\n",
    "    The name of the virtual environment (venv) should appear before the shell prompt\n",
    "\n",
    "- install dependencies\n",
    "\n",
    "    `pip install -r requirements.txt`\n",
    "\n",
    "    -r stands for recursive\n",
    "\n",
    "- deactivate the virtual environment\n",
    "\n",
    "    `deactivate`"
   ]
  },
  {
   "cell_type": "markdown",
   "id": "74752873",
   "metadata": {},
   "source": [
    "# version control"
   ]
  },
  {
   "cell_type": "markdown",
   "id": "f437eb17",
   "metadata": {},
   "source": [
    "**Git**"
   ]
  },
  {
   "cell_type": "code",
   "execution_count": 11,
   "id": "0a9744e8",
   "metadata": {},
   "outputs": [],
   "source": [
    "# TODO"
   ]
  },
  {
   "cell_type": "markdown",
   "id": "43e37aa6",
   "metadata": {},
   "source": [
    "**Github**"
   ]
  },
  {
   "cell_type": "code",
   "execution_count": 12,
   "id": "30cf36e6",
   "metadata": {},
   "outputs": [],
   "source": [
    "# TODO"
   ]
  },
  {
   "attachments": {
    "image.png": {
     "image/png": "[encoded data removed]"
    }
   },
   "cell_type": "markdown",
   "id": "cf3f0923",
   "metadata": {},
   "source": [
    "![image.png](attachment:image.png)"
   ]
  },
  {
   "cell_type": "markdown",
   "id": "25c74682-bb09-42d8-858a-18185fa401da",
   "metadata": {},
   "source": [
    "# variables <a name=\"variables\"></a>"
   ]
  },
  {
   "cell_type": "markdown",
   "id": "5b635f5f-0eac-4dda-ab81-bc6cecdead33",
   "metadata": {},
   "source": [
    "**Comments**"
   ]
  },
  {
   "cell_type": "code",
   "execution_count": 13,
   "id": "34679a52-0fbc-40b1-8ecb-f78f30bc7843",
   "metadata": {},
   "outputs": [],
   "source": [
    "# This is a comment. No code is executed"
   ]
  },
  {
   "cell_type": "code",
   "execution_count": 14,
   "id": "bf23dec6-a60e-4671-b95c-11da3c715818",
   "metadata": {},
   "outputs": [
    {
     "name": "stdout",
     "output_type": "stream",
     "text": [
      "Hello, World!\n"
     ]
    }
   ],
   "source": [
    "print(\"Hello, World!\") #This is a comment"
   ]
  },
  {
   "cell_type": "code",
   "execution_count": 15,
   "id": "d6fbfd0c-f137-4dcd-9203-09abd1cd5b1a",
   "metadata": {},
   "outputs": [
    {
     "name": "stdout",
     "output_type": "stream",
     "text": [
      "Hello, World!\n"
     ]
    }
   ],
   "source": [
    "#This is a comment\n",
    "#written in\n",
    "#more than just one line\n",
    "print(\"Hello, World!\")"
   ]
  },
  {
   "cell_type": "markdown",
   "id": "e80115ab-50d9-486b-a367-a35a35735d09",
   "metadata": {},
   "source": [
    "Since Python will ignore string literals that are not assigned to a variable, you can add a multiline string (triple quotes) in your code, and place your comment inside it:"
   ]
  },
  {
   "cell_type": "code",
   "execution_count": 16,
   "id": "58ab1c58-0d57-414d-8126-30867def2b21",
   "metadata": {},
   "outputs": [
    {
     "name": "stdout",
     "output_type": "stream",
     "text": [
      "Hello, World!\n"
     ]
    }
   ],
   "source": [
    "\"\"\"\n",
    "This is a comment\n",
    "written in\n",
    "more than just one line\n",
    "\"\"\"\n",
    "print(\"Hello, World!\")"
   ]
  },
  {
   "cell_type": "markdown",
   "id": "6d76d927-5933-4def-adf6-034eb032cd1a",
   "metadata": {},
   "source": [
    "**Defining and printing vars**"
   ]
  },
  {
   "cell_type": "code",
   "execution_count": 17,
   "id": "95afc853-c545-4deb-8266-c95e73a9e5ea",
   "metadata": {},
   "outputs": [
    {
     "name": "stdout",
     "output_type": "stream",
     "text": [
      "22\n"
     ]
    }
   ],
   "source": [
    "x = 22\n",
    "\n",
    "print(x)"
   ]
  },
  {
   "cell_type": "code",
   "execution_count": 18,
   "id": "39210b05-6933-4e29-a039-b41399cd1e24",
   "metadata": {},
   "outputs": [
    {
     "data": {
      "text/plain": [
       "int"
      ]
     },
     "execution_count": 18,
     "metadata": {},
     "output_type": "execute_result"
    }
   ],
   "source": [
    "type(x)"
   ]
  },
  {
   "cell_type": "code",
   "execution_count": 19,
   "id": "2376535c-b09f-428a-b1d2-4f091c22c2f8",
   "metadata": {},
   "outputs": [
    {
     "data": {
      "text/plain": [
       "22"
      ]
     },
     "execution_count": 19,
     "metadata": {},
     "output_type": "execute_result"
    }
   ],
   "source": [
    "x = 22\n",
    "\n",
    "x # in jupyter notebooks, the output of the last statement in each code cell is printed"
   ]
  },
  {
   "cell_type": "code",
   "execution_count": 20,
   "id": "516077f8-2948-4f5e-8c0d-9bf9028b6326",
   "metadata": {},
   "outputs": [
    {
     "data": {
      "text/plain": [
       "'Ricardo Abreu'"
      ]
     },
     "execution_count": 20,
     "metadata": {},
     "output_type": "execute_result"
    }
   ],
   "source": [
    "my_name = \"Ricardo Abreu\"\n",
    "\n",
    "my_name"
   ]
  },
  {
   "cell_type": "code",
   "execution_count": 21,
   "id": "f51350ba-3fa7-4cf6-b617-0f84691882f4",
   "metadata": {},
   "outputs": [
    {
     "data": {
      "text/plain": [
       "str"
      ]
     },
     "execution_count": 21,
     "metadata": {},
     "output_type": "execute_result"
    }
   ],
   "source": [
    "type(my_name)"
   ]
  },
  {
   "cell_type": "code",
   "execution_count": 22,
   "id": "134a182f-b856-4459-a960-330761a29c5d",
   "metadata": {},
   "outputs": [
    {
     "name": "stdout",
     "output_type": "stream",
     "text": [
      "Choco\n",
      "Vanilla\n",
      "Berry\n"
     ]
    }
   ],
   "source": [
    "x, y, z = 'Choco', 'Vanilla', 'Berry'\n",
    "\n",
    "print(x)\n",
    "print(y)\n",
    "print(z)"
   ]
  },
  {
   "cell_type": "code",
   "execution_count": 23,
   "id": "da262be6-5504-4c08-9a26-92a46978271a",
   "metadata": {},
   "outputs": [
    {
     "name": "stdout",
     "output_type": "stream",
     "text": [
      "Choco\n",
      "Choco\n",
      "Choco\n"
     ]
    }
   ],
   "source": [
    "x = y = z = 'Choco'\n",
    "\n",
    "print(x)\n",
    "print(y)\n",
    "print(z)"
   ]
  },
  {
   "cell_type": "code",
   "execution_count": 24,
   "id": "c986c3c2-d49e-4786-9632-039b4f2ec073",
   "metadata": {},
   "outputs": [
    {
     "name": "stdout",
     "output_type": "stream",
     "text": [
      "['Choco', 'Vanilla', 'Berry']\n"
     ]
    }
   ],
   "source": [
    "x, y, z = 'Choco', 'Vanilla', 'Berry'\n",
    "icecream = [x, y, z]\n",
    "\n",
    "print(icecream)"
   ]
  },
  {
   "cell_type": "code",
   "execution_count": 25,
   "id": "4612b532-3d04-474a-8333-b5e458c3b054",
   "metadata": {},
   "outputs": [
    {
     "data": {
      "text/plain": [
       "list"
      ]
     },
     "execution_count": 25,
     "metadata": {},
     "output_type": "execute_result"
    }
   ],
   "source": [
    "type(icecream)"
   ]
  },
  {
   "cell_type": "code",
   "execution_count": 26,
   "id": "77f8f4f7-88e2-4939-a634-fec8bcbf7c51",
   "metadata": {},
   "outputs": [
    {
     "name": "stdout",
     "output_type": "stream",
     "text": [
      "Choco\n",
      "Vanilla\n",
      "Berry\n"
     ]
    }
   ],
   "source": [
    "a, b, c = icecream\n",
    "\n",
    "print(a)\n",
    "print(b)\n",
    "print(c)"
   ]
  },
  {
   "cell_type": "markdown",
   "id": "f8bba53c-37f7-4956-8116-3a4d5581f4ba",
   "metadata": {},
   "source": [
    "## Variable naming conventions"
   ]
  },
  {
   "cell_type": "markdown",
   "id": "25db39c3-a9b7-4dd7-8865-b9633c09bc5a",
   "metadata": {},
   "source": [
    "First of all, they should be in english. If you're not a speaker, you learn it,... or you go do something else. If you don't know how to say something or are unsure, you look it up and learn in the process. Even if you didn't know it yet (because you're a dinosaur), now there's the AI and you can ask it what to rename to and to do it for you. There is no excuse imo."
   ]
  },
  {
   "cell_type": "markdown",
   "id": "32c09005-4a0c-41d4-a7d7-c4b3458223b1",
   "metadata": {},
   "source": [
    "**Camel case**"
   ]
  },
  {
   "attachments": {
    "f424eb72-7647-472d-81af-50fa602ff4f0.png": {
     "image/png": "[encoded data removed]"
    }
   },
   "cell_type": "markdown",
   "id": "f49fd027-4649-4249-ba92-52c24286df10",
   "metadata": {},
   "source": [
    "![image.png](attachment:f424eb72-7647-472d-81af-50fa602ff4f0.png)"
   ]
  },
  {
   "cell_type": "code",
   "execution_count": 3,
   "id": "2e220bcf-9f66-4b14-b1ff-d16ebf65c583",
   "metadata": {},
   "outputs": [],
   "source": [
    "# Camel case\n",
    "testVariableCase = 'Ric' # Words are delimited by capital letters, except the initial word"
   ]
  },
  {
   "cell_type": "markdown",
   "id": "ffbf50fb-6ee1-44cf-b812-1a0097f6b08c",
   "metadata": {},
   "source": [
    "**Pascal case**"
   ]
  },
  {
   "cell_type": "code",
   "execution_count": 4,
   "id": "8b330b6b-3d22-45c7-80e3-ad7aaef92e1f",
   "metadata": {},
   "outputs": [],
   "source": [
    "# Pascal case\n",
    "TestVariableCase = 'Ric' # Words are delimited by capital letters"
   ]
  },
  {
   "cell_type": "markdown",
   "id": "1234b61e-25cc-4e98-bb99-bb31434b537e",
   "metadata": {},
   "source": [
    "**Snake case**"
   ]
  },
  {
   "cell_type": "code",
   "execution_count": 5,
   "id": "baf04f98-bb6d-4575-b79d-7b4824b81285",
   "metadata": {},
   "outputs": [],
   "source": [
    "# Snake case\n",
    "test_variable_case = 'Ric' # Words are delimited by an underscore"
   ]
  },
  {
   "cell_type": "markdown",
   "id": "f4a1db73-a4a2-4faf-ba0c-5df6545cf296",
   "metadata": {},
   "source": [
    "**Hungarian notation**"
   ]
  },
  {
   "cell_type": "markdown",
   "id": "91482164-7014-4b99-9254-56c97a6753d4",
   "metadata": {},
   "source": [
    "https://en.wikipedia.org/wiki/Hungarian_notation"
   ]
  },
  {
   "cell_type": "code",
   "execution_count": 6,
   "id": "8b2c95f9-db91-4e78-99d1-4663b8f50787",
   "metadata": {},
   "outputs": [],
   "source": [
    "# Hungarian notation\n",
    "# This notation describes the variable type or purpose at the start of the variable name, \n",
    "# followed by a descriptor that indicates the variable's function. The Camelcase notation is used to delimit words.\n",
    "stestVariableCase = 'Ric'\n",
    "\n",
    "\n",
    "arrDistributeGroup = [] # Array called \"Distribute Group\"\n",
    "sUserName = '' # String called \"User Name\"\n",
    "iRandomSeed = 0 # Integer called \"Random Seed\"\n",
    "bBusy = True # Boolean called \"Busy\""
   ]
  },
  {
   "cell_type": "markdown",
   "id": "5139a8a9-1d73-4d33-ab4a-3080743d9748",
   "metadata": {},
   "source": [
    "**PEP**"
   ]
  },
  {
   "cell_type": "markdown",
   "id": "87c5b81f-ca2b-4b8f-abf0-2baddc6d3938",
   "metadata": {},
   "source": [
    "https://peps.python.org/pep-0008/"
   ]
  },
  {
   "attachments": {
    "567f0827-3a08-4068-802b-ed213493984a.png": {
     "image/png": "[encoded data removed]"
    }
   },
   "cell_type": "markdown",
   "id": "9f1deed6-7199-4a4f-9920-0356158b46ff",
   "metadata": {},
   "source": [
    "![image.png](attachment:567f0827-3a08-4068-802b-ed213493984a.png)"
   ]
  },
  {
   "attachments": {
    "50747ca1-cc0d-406f-aaf0-971840d68fc3.png": {
     "image/png": "[encoded data removed]"
    }
   },
   "cell_type": "markdown",
   "id": "b736afd1-992a-4ff8-81e9-298977a36c10",
   "metadata": {},
   "source": [
    "![image.png](attachment:50747ca1-cc0d-406f-aaf0-971840d68fc3.png)"
   ]
  },
  {
   "cell_type": "markdown",
   "id": "0f717be5-6484-4529-b7cb-602b886d14ef",
   "metadata": {},
   "source": [
    "Python and Ruby both recommend `UpperCamelCase` for class names, `CAPITALIZED_WITH_UNDERSCORES` for constants, and `snake_case` for other names.\n",
    "\n",
    "In Python, if a name is intended to be `\"private\"`, it is prefixed by one or two underscores. Private variables are enforced in Python only by convention. Names can also be suffixed with an underscore to prevent conflict with Python keywords. \n",
    "\n",
    "Prefixing with double underscores changes behaviour in classes with regard to name mangling. Prefixing and suffixing with double underscores - the so-called `\"dunder\" (\"double under\") methods` in Python - are reserved for \"magic names\" which fulfill special behaviour in Python objects."
   ]
  },
  {
   "cell_type": "markdown",
   "id": "8aaf12f2-a3f8-4bf8-8ba7-4ec06b146e5f",
   "metadata": {},
   "source": [
    "## variable data types <a name=\"data-types\"></a>"
   ]
  },
  {
   "cell_type": "markdown",
   "id": "92b1048c-b8d4-4451-9dee-74c55154b6b8",
   "metadata": {},
   "source": [
    "### Numeric"
   ]
  },
  {
   "cell_type": "code",
   "execution_count": 186,
   "id": "c91ed19b",
   "metadata": {},
   "outputs": [
    {
     "name": "stdout",
     "output_type": "stream",
     "text": [
      "c = 10 belongs to type: <class 'int'> \n",
      "\n"
     ]
    }
   ],
   "source": [
    "c = 10  # integer\n",
    "print(\"c = 10 belongs to type:\", type(c), \"\\n\")  # <class 'int'>"
   ]
  },
  {
   "cell_type": "code",
   "execution_count": 30,
   "id": "26d55f2f-91ce-4a5f-8852-ecafff32a996",
   "metadata": {},
   "outputs": [
    {
     "data": {
      "text/plain": [
       "int"
      ]
     },
     "execution_count": 30,
     "metadata": {},
     "output_type": "execute_result"
    }
   ],
   "source": [
    "type(-12 + 100)"
   ]
  },
  {
   "cell_type": "code",
   "execution_count": 31,
   "id": "e22281d8-acf4-4865-8f9e-e6f73074fddf",
   "metadata": {},
   "outputs": [
    {
     "data": {
      "text/plain": [
       "float"
      ]
     },
     "execution_count": 31,
     "metadata": {},
     "output_type": "execute_result"
    }
   ],
   "source": [
    "type(0.55)"
   ]
  },
  {
   "cell_type": "markdown",
   "id": "6012ec6b",
   "metadata": {},
   "source": [
    "There are three distinct numeric types: integers, floating point numbers, and complex numbers. In addition, Booleans are a subtype of integers. Integers have unlimited precision. Floating point numbers are usually implemented using double in C; information about the precision and internal representation of floating point numbers for the machine on which your program is running is available in sys.float_info. Complex numbers have a real and imaginary part, which are each a floating point number. To extract these parts from a complex number z, use z.real and z.imag. (The standard library includes the additional numeric types fractions.Fraction, for rationals, and decimal.Decimal, for floating-point numbers with user-definable precision.)\n",
    "\n",
    "Numbers are created by numeric literals or as the result of built-in functions and operators. Unadorned integer literals (including hex, octal and binary numbers) yield integers. Numeric literals containing a decimal point or an exponent sign yield floating point numbers. Appending 'j' or 'J' to a numeric literal yields an imaginary number (a complex number with a zero real part) which you can add to an integer or float to get a complex number with real and imaginary parts.\n",
    "\n",
    "The constructors int(), float(), and complex() can be used to produce numbers of a specific type.\n",
    "\n",
    "All numeric types (except complex) support the following operations (for priorities of the operations, see Operator precedence)\n",
    "- addition `x + y`, sum of x and y\n",
    "- subtraction `x − y`, difference of x and y\n",
    "- multiplication `x ∗ y`, product of x and y\n",
    "- division/quotient `x / y`, quotient of x and y\n",
    "- integer division `x // y`, floored quotient of x and y\n",
    "- module `x % y`, remainder of `x / y`\n",
    "- negation `-x`, x negated\n",
    "- `+x`, x unchanged\n",
    "- absolute value or magnitude of x, `abs(x)`\n",
    "- `complex(re, im)`, a complex number with real part re, imaginary part im. im defaults to zero.\n",
    "- `c.conjugate()`, conjugate of the complex number c\n",
    "- `divmod(x, y)`, the pair `(x // y, x % y)`\n",
    "- exponentiation `pow(x, y)` or `x ∗∗ y`, x to the power y\n",
    "- `int(x)`, x converted to integer\n",
    "- `float(x)`, x converted to floating point"
   ]
  },
  {
   "cell_type": "code",
   "execution_count": 188,
   "id": "0c9b5cbe",
   "metadata": {},
   "outputs": [
    {
     "data": {
      "text/plain": [
       "7e-05"
      ]
     },
     "execution_count": 188,
     "metadata": {},
     "output_type": "execute_result"
    }
   ],
   "source": [
    "a = 0.00007  # float defined using decimal notation\n",
    "a"
   ]
  },
  {
   "cell_type": "code",
   "execution_count": 189,
   "id": "d6a79f8d",
   "metadata": {},
   "outputs": [
    {
     "data": {
      "text/plain": [
       "0.000164"
      ]
     },
     "execution_count": 189,
     "metadata": {},
     "output_type": "execute_result"
    }
   ],
   "source": [
    "# 1.64 * 10^(-4)\n",
    "b = 1.64e-4  # float defined using scientific notation\n",
    "b"
   ]
  },
  {
   "cell_type": "code",
   "execution_count": 190,
   "id": "3d78a05e",
   "metadata": {},
   "outputs": [
    {
     "data": {
      "text/plain": [
       "0.000164"
      ]
     },
     "execution_count": 190,
     "metadata": {},
     "output_type": "execute_result"
    }
   ],
   "source": [
    "b2 = 1.64 * 10**-4  # exponentiation operator ∗∗\n",
    "b2"
   ]
  },
  {
   "cell_type": "code",
   "execution_count": 32,
   "id": "a3b30fcd-11ad-4f33-a90d-1d7e602063d6",
   "metadata": {},
   "outputs": [
    {
     "data": {
      "text/plain": [
       "complex"
      ]
     },
     "execution_count": 32,
     "metadata": {},
     "output_type": "execute_result"
    }
   ],
   "source": [
    "type(3 + 12j)"
   ]
  },
  {
   "cell_type": "code",
   "execution_count": 191,
   "id": "3dc1cac5",
   "metadata": {},
   "outputs": [
    {
     "data": {
      "text/plain": [
       "(1+3j)"
      ]
     },
     "execution_count": 191,
     "metadata": {},
     "output_type": "execute_result"
    }
   ],
   "source": [
    "f = 1 + 3j  # j represents the imaginary unit j = sqrt(-1)\n",
    "f"
   ]
  },
  {
   "cell_type": "code",
   "execution_count": 193,
   "id": "8d707c4e",
   "metadata": {},
   "outputs": [
    {
     "data": {
      "text/plain": [
       "(3+4j)"
      ]
     },
     "execution_count": 193,
     "metadata": {},
     "output_type": "execute_result"
    }
   ],
   "source": [
    "d = complex(3, 4) # built-in function complex(a,b) creates the complex number a+b*j\n",
    "d"
   ]
  },
  {
   "cell_type": "code",
   "execution_count": 33,
   "id": "bff3ecc7-0827-4fee-87db-0f74fd078497",
   "metadata": {},
   "outputs": [
    {
     "data": {
      "text/plain": [
       "complex"
      ]
     },
     "execution_count": 33,
     "metadata": {},
     "output_type": "execute_result"
    }
   ],
   "source": [
    "type(1j)"
   ]
  },
  {
   "cell_type": "code",
   "execution_count": 198,
   "id": "34ff57d7",
   "metadata": {},
   "outputs": [],
   "source": [
    "# EXERCISE\n",
    "a = 5.0 / 3\n",
    "b = 1.645"
   ]
  },
  {
   "cell_type": "markdown",
   "id": "ffa987b3",
   "metadata": {},
   "source": [
    "use f-strings to format the printing of variable\n",
    "\n",
    "Within the f-string, any variable can be enclosed inside curly brackets; for example, `print(f′{a}′)` will print the numerical value of the variable a, and `print(f′{a**2}′)` prints the numerical value of a2.\n",
    "\n",
    "By using the f-string formats `print(f′{a:.3}′)`, `print(f′{a:.2e}′)`, `print(f′{a:.2f}′)` and `print(f′{a:g}′)`, we print the variable a using two decimals, using scientific notation, and as a float in generic notation, respectively."
   ]
  },
  {
   "cell_type": "code",
   "execution_count": 199,
   "id": "1d495c1d",
   "metadata": {},
   "outputs": [],
   "source": [
    "# a) print a using scientific notation with two significant figures"
   ]
  },
  {
   "cell_type": "code",
   "execution_count": 201,
   "id": "d24d3140",
   "metadata": {},
   "outputs": [
    {
     "data": {
      "text/plain": [
       "1.6666666666666667"
      ]
     },
     "execution_count": 201,
     "metadata": {},
     "output_type": "execute_result"
    }
   ],
   "source": [
    "a # not what i want"
   ]
  },
  {
   "cell_type": "code",
   "execution_count": 202,
   "id": "e5f7d6de",
   "metadata": {},
   "outputs": [
    {
     "name": "stdout",
     "output_type": "stream",
     "text": [
      "Without formatting, the variable a=1.6666666666666667 \n",
      "\n"
     ]
    }
   ],
   "source": [
    "print(f\"Without formatting, the variable a={a}\", \"\\n\")"
   ]
  },
  {
   "cell_type": "code",
   "execution_count": 203,
   "id": "57f95947",
   "metadata": {},
   "outputs": [
    {
     "name": "stdout",
     "output_type": "stream",
     "text": [
      "Using scientific notation, the variable a=1.67e+00\n"
     ]
    }
   ],
   "source": [
    "print(f\"Using scientific notation, the variable a={a:.2e}\")"
   ]
  },
  {
   "cell_type": "code",
   "execution_count": 204,
   "id": "d6d388b6",
   "metadata": {},
   "outputs": [],
   "source": [
    "# b) print a^2 without any formatting and by using generic notation"
   ]
  },
  {
   "cell_type": "code",
   "execution_count": 205,
   "id": "acba80c7",
   "metadata": {},
   "outputs": [
    {
     "name": "stdout",
     "output_type": "stream",
     "text": [
      "Without formatting, the square of variable a is 2.777777777777778\n"
     ]
    }
   ],
   "source": [
    "print(f\"Without formatting, the square of variable a is {a**2}\")"
   ]
  },
  {
   "cell_type": "code",
   "execution_count": 208,
   "id": "91a65036",
   "metadata": {},
   "outputs": [
    {
     "name": "stdout",
     "output_type": "stream",
     "text": [
      "Using generic notation, the square of variable a is 2.77778\n"
     ]
    }
   ],
   "source": [
    "print(\n",
    "f\"Using generic notation, the square of variable a is \\\n",
    "{a**2:g}\"\n",
    ")"
   ]
  },
  {
   "cell_type": "code",
   "execution_count": 209,
   "id": "6221101b",
   "metadata": {},
   "outputs": [],
   "source": [
    "# c) print b using two decimal points"
   ]
  },
  {
   "cell_type": "code",
   "execution_count": 210,
   "id": "febc19b0",
   "metadata": {},
   "outputs": [
    {
     "name": "stdout",
     "output_type": "stream",
     "text": [
      "Using two decimals, the variable b=1.645 is 1.65\n"
     ]
    }
   ],
   "source": [
    "print(f\"Using two decimals, the variable b=1.645 is {b:.3}\")"
   ]
  },
  {
   "cell_type": "code",
   "execution_count": 213,
   "id": "8b4e49f7",
   "metadata": {},
   "outputs": [
    {
     "name": "stdout",
     "output_type": "stream",
     "text": [
      "round(a, 2) produces 1.67\n",
      "round(b, 1) produces 1.6\n"
     ]
    }
   ],
   "source": [
    "# round(a,2) and round(b,1)\n",
    "print(\"round(a, 2) produces\", round(a, 2))\n",
    "print(\"round(b, 1) produces\", round(b, 1))"
   ]
  },
  {
   "cell_type": "markdown",
   "id": "89e4e3ca-05d3-4872-bb4d-869988a7cdad",
   "metadata": {},
   "source": [
    "### Boolean"
   ]
  },
  {
   "cell_type": "code",
   "execution_count": 194,
   "id": "10a23b2a",
   "metadata": {},
   "outputs": [
    {
     "data": {
      "text/plain": [
       "bool"
      ]
     },
     "execution_count": 194,
     "metadata": {},
     "output_type": "execute_result"
    }
   ],
   "source": [
    "is_active = True\n",
    "type(is_active)"
   ]
  },
  {
   "cell_type": "code",
   "execution_count": null,
   "id": "acd93d40-891a-4d79-bc25-9c0d84eeed6d",
   "metadata": {},
   "outputs": [],
   "source": [
    "type(True)"
   ]
  },
  {
   "cell_type": "code",
   "execution_count": null,
   "id": "510c7b95-1895-4935-ac0d-46bd105752a8",
   "metadata": {},
   "outputs": [],
   "source": [
    "type(False)"
   ]
  },
  {
   "cell_type": "code",
   "execution_count": null,
   "id": "9bbfea9e-92a3-4d58-9db0-90b3199189a3",
   "metadata": {},
   "outputs": [],
   "source": [
    "1 > 5"
   ]
  },
  {
   "cell_type": "code",
   "execution_count": null,
   "id": "77e9509e-5b3e-487d-849e-9899c4c948cc",
   "metadata": {},
   "outputs": [],
   "source": [
    "1 == 1"
   ]
  },
  {
   "cell_type": "markdown",
   "id": "ce21d8e3-02ec-4336-9ba7-0013b1aedc04",
   "metadata": {},
   "source": [
    "**boolean variable naming**"
   ]
  },
  {
   "cell_type": "markdown",
   "id": "4e7c6a41-5c60-413e-aa97-7ac1053f94d6",
   "metadata": {},
   "source": [
    "* https://dev.to/michi/tips-on-naming-boolean-variables-cleaner-code-35ig"
   ]
  },
  {
   "cell_type": "code",
   "execution_count": null,
   "id": "65293742-cdfd-4778-9d58-9f67958a839c",
   "metadata": {},
   "outputs": [],
   "source": [
    "isUsersOnline = True\n",
    "areUsersOnline = True\n",
    "# vs\n",
    "isEveryUserOnline = True\n",
    "isEachUserOnline = True\n",
    "# vs\n",
    "everyUserIsOnline = True\n",
    "allUsersAreOnline = True\n",
    "\n",
    "# NONE of these follow python's recommendations"
   ]
  },
  {
   "cell_type": "markdown",
   "id": "0a64c6e9-4178-4ac2-93fb-a87a2c735a3f",
   "metadata": {},
   "source": [
    "There are a lot of different opinions on this. My preference is:\n",
    "* it should read well/natural\n",
    "* it should use the positive (rather than the negative)\n",
    "* you should avoid including the type (even if this is a dynamically typed language). There's other mechanisms for that, like type annotations"
   ]
  },
  {
   "cell_type": "markdown",
   "id": "b515f357-00ab-474d-91aa-8f834417d794",
   "metadata": {},
   "source": [
    "When expressing logical conditions like \"every,\" \"each,\" \"some,\" \"one,\" and \"all\" in programming, it's helpful to map them to mathematical or logical concepts such as `universal quantification` (for all, $\\forall$) and `existential quantification` (there exists, $\\exists$)."
   ]
  },
  {
   "cell_type": "markdown",
   "id": "ad6f97f3-28f7-452f-8b1a-eecd73f7358a",
   "metadata": {},
   "source": [
    "<table><thead><tr><th>Term</th><th>Logic Symbol</th><th>Programming Function</th><th>Example Variable Name</th></tr></thead><tbody><tr><td>Every/Each</td><td>∀ (for all)</td><td><code>all()</code></td><td><code>isEveryUserOnline</code>, <code>allUsersAreOnline</code></td></tr><tr><td>Some/One or More</td><td>∃ (there exists)</td><td><code>any()</code></td><td><code>isSomeUserOnline</code>, <code>someUsersAreOnline</code></td></tr><tr><td>Exactly One</td><td>∃! (exactly one)</td><td><code>sum() == 1</code></td><td><code>isExactlyOneUserOnline</code></td></tr><tr><td>None</td><td>¬∃ (none exists)</td><td><code>not any()</code></td><td><code>noUsersAreOnline</code></td></tr></tbody></table>"
   ]
  },
  {
   "cell_type": "code",
   "execution_count": 7,
   "id": "a1847c4a-9479-49e8-98f0-9703af1fcca7",
   "metadata": {},
   "outputs": [],
   "source": [
    "# to exemplify this, i'll be using this class (classes are covered later on)\n",
    "class User:\n",
    "    def __init__(self, username, is_online=False):\n",
    "        self.username = username\n",
    "        self.is_online = is_online\n",
    "\n",
    "    def __repr__(self):\n",
    "        return f\"User({self.username}, is_online={self.is_online})\"        "
   ]
  },
  {
   "cell_type": "code",
   "execution_count": 8,
   "id": "1b7ce7e2-a138-4841-94cf-b92f33a451f1",
   "metadata": {},
   "outputs": [],
   "source": [
    "# List of user objects\n",
    "users = [\n",
    "    User(\"Alice\", is_online=True),\n",
    "    User(\"Bob\", is_online=False),\n",
    "    User(\"Charlie\", is_online=True),\n",
    "    User(\"Diana\", is_online=False)\n",
    "]"
   ]
  },
  {
   "cell_type": "markdown",
   "id": "5a68854c-e60a-4bc1-a549-ee30456ad8d2",
   "metadata": {},
   "source": [
    "* Every / Each / All\n",
    "\n",
    "  These terms are used for universal quantification ($\\forall$), meaning that the condition applies to every element in a set.\n",
    "\n",
    "   In programming, this usually means looping through a collection and checking that all conditions are met for all elements."
   ]
  },
  {
   "cell_type": "code",
   "execution_count": 9,
   "id": "033fe2b9-93d3-454d-892d-14b882c169ca",
   "metadata": {},
   "outputs": [
    {
     "data": {
      "text/plain": [
       "False"
      ]
     },
     "execution_count": 9,
     "metadata": {},
     "output_type": "execute_result"
    }
   ],
   "source": [
    "# Check if all users are online\n",
    "all_users_online = all(user.is_online for user in users)\n",
    "# this means, \"for every user in the set, the user is online\"\n",
    "# translated to a math statement, this is ∀x (x ∈ users → x.is_online = True)\n",
    "all_users_online\n",
    "\n",
    "# or you can name it these things\n",
    "# all_users_are_online\n",
    "# each_user_is_online\n",
    "# every_user_online\n",
    "\n",
    "# note that\n",
    "# is_every_user_online\n",
    "# has a type hint. Not everyone will like that (i don't)"
   ]
  },
  {
   "cell_type": "markdown",
   "id": "88811189-2de4-4745-994a-c443c201310f",
   "metadata": {},
   "source": [
    "* Some / (One or more) / (At least one)\n",
    "\n",
    "    These terms are used for existential quantification ($\\exists$), meaning that the condition applies to at least one element in a set.\n",
    "\n",
    "    In programming, this is often expressed with an any() function or a similar logic that checks if at least one element meets the condition."
   ]
  },
  {
   "cell_type": "code",
   "execution_count": 10,
   "id": "66cad594-1d18-4ab7-b65f-1f2642eca9d7",
   "metadata": {},
   "outputs": [],
   "source": [
    "# Checks if at least one user is online\n",
    "some_users_online = any(user.is_online for user in users)\n",
    "# \"there exists at least one user in the set who is online\"\n",
    "# ∃x (x ∈ users ∧ x.is_online = True)"
   ]
  },
  {
   "cell_type": "markdown",
   "id": "3cf9123b-eade-4db7-86ad-c4565fa12c50",
   "metadata": {},
   "source": [
    "* One / (Exactly One) / (Only one)\n",
    "\n",
    "    used for checking if exactly one element in a set satisfies a condition."
   ]
  },
  {
   "cell_type": "code",
   "execution_count": 11,
   "id": "5945d8cf-6869-4f38-aa2d-bb94d5d12516",
   "metadata": {},
   "outputs": [],
   "source": [
    "# Checks if exactly one user is online\n",
    "exactly_one_user_online = sum(user.is_online for user in users) == 1\n",
    "# ∃!x (x ∈ users ∧ x.is_online = True)"
   ]
  },
  {
   "cell_type": "markdown",
   "id": "3794758e-df33-4cc5-9f02-b37d24ce22f6",
   "metadata": {},
   "source": [
    "* None / Zero\n",
    "\n",
    "  means no elements in the set satisfy the condition, i.e., the set is empty or no elements meet the criteria."
   ]
  },
  {
   "cell_type": "code",
   "execution_count": 12,
   "id": "cc33869b-47a0-4cb3-9337-865fc0f7b4aa",
   "metadata": {},
   "outputs": [],
   "source": [
    "# Checks if no user is online\n",
    "no_users_online = not any(user.is_online for user in users)\n",
    "# \"there is no user who is online\"\n",
    "# ¬∃x (x ∈ users ∧ x.is_online = True)"
   ]
  },
  {
   "cell_type": "markdown",
   "id": "24827acb-6497-41e4-9aff-19ae00c5ab82",
   "metadata": {},
   "source": [
    "### Sequence types"
   ]
  },
  {
   "cell_type": "markdown",
   "id": "d6d40a5e-e826-40af-98df-ea40d3773599",
   "metadata": {},
   "source": [
    "**Strings**\n",
    "\n",
    "between quotes/apostrophes"
   ]
  },
  {
   "cell_type": "code",
   "execution_count": 196,
   "id": "ac7b4396",
   "metadata": {},
   "outputs": [
    {
     "data": {
      "text/plain": [
       "'some text'"
      ]
     },
     "execution_count": 196,
     "metadata": {},
     "output_type": "execute_result"
    }
   ],
   "source": [
    "e = \"some text\"\n",
    "e"
   ]
  },
  {
   "cell_type": "code",
   "execution_count": 197,
   "id": "ea53f190",
   "metadata": {},
   "outputs": [
    {
     "data": {
      "text/plain": [
       "str"
      ]
     },
     "execution_count": 197,
     "metadata": {},
     "output_type": "execute_result"
    }
   ],
   "source": [
    "type(e)"
   ]
  },
  {
   "cell_type": "code",
   "execution_count": null,
   "id": "6d1bd495-5d2b-44bd-887c-cae7423b1c41",
   "metadata": {},
   "outputs": [],
   "source": [
    "'Single quotes'"
   ]
  },
  {
   "cell_type": "code",
   "execution_count": null,
   "id": "74161e3d-47f0-4c65-bf8d-c1d246f25585",
   "metadata": {},
   "outputs": [],
   "source": [
    "\"Double quotes\""
   ]
  },
  {
   "cell_type": "code",
   "execution_count": null,
   "id": "6f964a0c-2da8-439d-b8d3-0eb679f36059",
   "metadata": {},
   "outputs": [],
   "source": [
    "primavera = \"\"\"\n",
    "Triple quotes - multiline\n",
    "\n",
    "Alberto Caeiro\n",
    "Quando vier a Primavera,\n",
    "\n",
    "Quando vier a Primavera,\n",
    "Se eu já estiver morto,\n",
    "As flores florirão da mesma maneira\n",
    "E as árvores não serão menos verdes que na Primavera passada.\n",
    "A realidade não precisa de mim.\n",
    "Sinto uma alegria enorme\n",
    "Ao pensar que a minha morte não tem importância nenhuma.\n",
    "Se soubesse que amanhã morria\n",
    "E a Primavera era depois de amanhã,\n",
    "Morreria contente, porque ela era depois de amanhã.\n",
    "Se esse é o seu tempo, quando havia ela de vir senão no seu tempo?\n",
    "Gosto que tudo seja real e que tudo esteja certo;\n",
    "E gosto porque assim seria, mesmo que eu não gostasse.\n",
    "Por isso, se morrer agora, morro contente,\n",
    "Porque tudo é real e tudo está certo.\n",
    "Podem rezar latim sobre o meu caixão, se quiserem.\n",
    "Se quiserem, podem dançar e cantar à roda dele.\n",
    "Não tenho preferências para quando já não puder ter preferências.\n",
    "O que for, quando for, é que será o que é.\n",
    "\"\"\""
   ]
  },
  {
   "cell_type": "code",
   "execution_count": null,
   "id": "49f84384-74a8-412f-83d6-b0eee804aeed",
   "metadata": {},
   "outputs": [],
   "source": [
    "print(primavera) # printing is needed for propper formating of strings"
   ]
  },
  {
   "cell_type": "code",
   "execution_count": null,
   "id": "113d7b7e-a037-482e-a592-db20d66aa9a9",
   "metadata": {},
   "outputs": [],
   "source": [
    "\"I've always wanted to be a cat but no meow meow for me\""
   ]
  },
  {
   "cell_type": "code",
   "execution_count": null,
   "id": "4b5fec73-b3dc-492b-a195-210217d7b773",
   "metadata": {},
   "outputs": [],
   "source": [
    "a = 'Hello World'"
   ]
  },
  {
   "cell_type": "code",
   "execution_count": null,
   "id": "1bb8be26-f078-45a7-b064-846a5f7da2a9",
   "metadata": {},
   "outputs": [],
   "source": [
    "a[0]"
   ]
  },
  {
   "cell_type": "code",
   "execution_count": null,
   "id": "31766dd1-d3d0-4d2f-8815-e11997678e58",
   "metadata": {},
   "outputs": [],
   "source": [
    "a[:5]"
   ]
  },
  {
   "cell_type": "code",
   "execution_count": null,
   "id": "228de4dd-dfa1-48ef-87d3-2f46afef1dc2",
   "metadata": {},
   "outputs": [],
   "source": [
    "a[-1]"
   ]
  },
  {
   "cell_type": "code",
   "execution_count": null,
   "id": "a0b59d9c-8d1a-4053-9b83-650e1b34d8c6",
   "metadata": {},
   "outputs": [],
   "source": [
    "a[2:5]"
   ]
  },
  {
   "cell_type": "code",
   "execution_count": null,
   "id": "3ada839c-31ef-4a61-8bdc-f293aa0ae327",
   "metadata": {},
   "outputs": [],
   "source": [
    "print(a + \"\\nAnd Goodbye!\") # string concatenation"
   ]
  },
  {
   "cell_type": "markdown",
   "id": "0ee5d473-f1f2-47a9-ba8d-93927e17e009",
   "metadata": {},
   "source": [
    "**Lists**\n",
    "\n",
    "mutable"
   ]
  },
  {
   "cell_type": "code",
   "execution_count": null,
   "id": "a5fddc8a-749f-44d0-8ea0-f9b9b6aefa47",
   "metadata": {},
   "outputs": [],
   "source": [
    "[1, 2, 3] # defined using rectangle brackets"
   ]
  },
  {
   "cell_type": "code",
   "execution_count": null,
   "id": "dd6abd2e-d76f-42a3-944d-8b7c1be3adbc",
   "metadata": {},
   "outputs": [],
   "source": [
    "['another', 'day', '...']"
   ]
  },
  {
   "cell_type": "code",
   "execution_count": null,
   "id": "bc975f85-47ce-4c12-a249-27d391bda285",
   "metadata": {},
   "outputs": [],
   "source": [
    "x, y, z = 'Choco', 'Vanilla', 'Blueberry'\n",
    "icecream = [x, y, z]\n",
    "\n",
    "icecream.append('Caramel') # appending to a list\n",
    "icecream"
   ]
  },
  {
   "cell_type": "code",
   "execution_count": null,
   "id": "11ed93ed-f397-4399-ba78-792215a54b27",
   "metadata": {},
   "outputs": [],
   "source": [
    "icecream[0] = 'Strawberry'\n",
    "icecream"
   ]
  },
  {
   "cell_type": "markdown",
   "id": "ce915854",
   "metadata": {},
   "source": [
    "lists are indexed starting at 0. We can access the elements of a list by their index\n",
    "\n",
    "eg. `print(a[0])` prints the first element in list a\n",
    "\n",
    "use negative indices to access elements starting from the end of the list\n",
    "\n",
    "eg. `print(a[-1])` prints the last element in the list\n",
    "\n",
    "lists are mutable (they can be altered), so we can redefine any of the elements in the list\n",
    "\n",
    "eg.  `a[-1] = -2` sets the last element of the list to −2\n",
    "\n",
    "define sub-lists called slices `a[start:end:step]`\n",
    "\n",
    "eg. the slice `a[2:5:2]` starts at index 2 and increases by a step of 2 taking every\n",
    "second element in the list, but does not include the ending value 5 of the index.\n",
    "\n",
    "unpacking a list\n",
    "\n",
    "eg. `a, b, c = [1,2,3]` stores the value of 1 in the variable a, the value of 2 in b, and the value of 3 in c"
   ]
  },
  {
   "cell_type": "code",
   "execution_count": null,
   "id": "2cbeee15-5f84-464b-aea4-f936c6860e88",
   "metadata": {},
   "outputs": [],
   "source": [
    "nested_list = ['gamer', [1, True]] # nested list\n",
    "nested_list"
   ]
  },
  {
   "cell_type": "code",
   "execution_count": null,
   "id": "d58a0df9-22fa-4e57-aef9-8dab99e3dbeb",
   "metadata": {},
   "outputs": [],
   "source": [
    "nested_list[1][1]"
   ]
  },
  {
   "cell_type": "code",
   "execution_count": 226,
   "id": "9e9759be",
   "metadata": {},
   "outputs": [],
   "source": [
    "# EXERCISE\n",
    "a = [2,[3,0],5,[1,1,2],'s',[1,4],2,5]"
   ]
  },
  {
   "cell_type": "code",
   "execution_count": 227,
   "id": "b9b9b013",
   "metadata": {},
   "outputs": [
    {
     "data": {
      "text/plain": [
       "7"
      ]
     },
     "execution_count": 227,
     "metadata": {},
     "output_type": "execute_result"
    }
   ],
   "source": [
    "# a) add the first and last element in this list\n",
    "a[0]+a[-1]"
   ]
  },
  {
   "cell_type": "code",
   "execution_count": 228,
   "id": "3004bcf9",
   "metadata": {},
   "outputs": [],
   "source": [
    "# b) set the third element to -2\n",
    "a[2] = -2"
   ]
  },
  {
   "cell_type": "code",
   "execution_count": 229,
   "id": "55eb8206",
   "metadata": {},
   "outputs": [
    {
     "data": {
      "text/plain": [
       "2"
      ]
     },
     "execution_count": 229,
     "metadata": {},
     "output_type": "execute_result"
    }
   ],
   "source": [
    "# c) a[3][2] element of the list\n",
    "a[3][2]"
   ]
  },
  {
   "cell_type": "code",
   "execution_count": 230,
   "id": "f754961d",
   "metadata": {},
   "outputs": [
    {
     "data": {
      "text/plain": [
       "[-2, 's', 2]"
      ]
     },
     "execution_count": 230,
     "metadata": {},
     "output_type": "execute_result"
    }
   ],
   "source": [
    "# d) create a new list which starts from the third element in list a, and contains every third element of a\n",
    "a[2:len(a):2]"
   ]
  },
  {
   "cell_type": "code",
   "execution_count": 231,
   "id": "c0363dd7",
   "metadata": {},
   "outputs": [
    {
     "data": {
      "text/plain": [
       "[2, [3, 0], -2, [1, 1, 2], 's']"
      ]
     },
     "execution_count": 231,
     "metadata": {},
     "output_type": "execute_result"
    }
   ],
   "source": [
    "# e) new list that contains the first five elements of a\n",
    "a[:5]"
   ]
  },
  {
   "cell_type": "markdown",
   "id": "1fde7598",
   "metadata": {},
   "source": [
    "lists are copied by reference by default. This means that when you assign a list to a new variable, both variables will point to the same list object in memory. Any changes made to the list through one variable will be reflected in the other.\n",
    "\n",
    "eg. `b = a` does not create a new list b from list a, but simply makes a reference to a. By setting `a[0] = 1`, this automatically sets also the first element of list b to 1.\n",
    "\n",
    "If you want to create a copy of a list that is independent of the original list, you need to create a shallow copy or a deep copy, depending on your needs. A shallow copy creates a new list object, but the elements of the list are still references to the same objects as in the original list. A deep copy creates a new list object and recursively copies all objects found in the original list. This ensures that the new list is completely independent of the original list, even for nested lists."
   ]
  },
  {
   "cell_type": "code",
   "execution_count": 232,
   "id": "2ac47b9b",
   "metadata": {},
   "outputs": [
    {
     "name": "stdout",
     "output_type": "stream",
     "text": [
      "[1, 0, 4] [1, 0, 4]\n"
     ]
    }
   ],
   "source": [
    "# default copy\n",
    "c = [1,[2,3],4]\n",
    "d = c\n",
    "d[1] = 0\n",
    "print(c,d)"
   ]
  },
  {
   "cell_type": "code",
   "execution_count": 233,
   "id": "537d7d9e",
   "metadata": {},
   "outputs": [
    {
     "name": "stdout",
     "output_type": "stream",
     "text": [
      "Original List: [1, 2, 3]\n",
      "Shallow Copy: [1, 2, 3, 4]\n"
     ]
    }
   ],
   "source": [
    "# shallow copy with copy()\n",
    "original_list = [1, 2, 3]\n",
    "shallow_copy = original_list.copy()\n",
    "\n",
    "shallow_copy.append(4)\n",
    "\n",
    "print(\"Original List:\", original_list)  # Output: [1, 2, 3]\n",
    "print(\"Shallow Copy:\", shallow_copy)    # Output: [1, 2, 3, 4]"
   ]
  },
  {
   "cell_type": "code",
   "execution_count": 234,
   "id": "c9f4f35e",
   "metadata": {},
   "outputs": [
    {
     "name": "stdout",
     "output_type": "stream",
     "text": [
      "Original List: [1, 2, 3]\n",
      "Shallow Copy: [1, 2, 3, 4]\n"
     ]
    }
   ],
   "source": [
    "# shallow copy with slicing\n",
    "original_list = [1, 2, 3]\n",
    "shallow_copy = original_list[:]\n",
    "\n",
    "shallow_copy.append(4)\n",
    "\n",
    "print(\"Original List:\", original_list)  # Output: [1, 2, 3]\n",
    "print(\"Shallow Copy:\", shallow_copy)    # Output: [1, 2, 3, 4]"
   ]
  },
  {
   "cell_type": "code",
   "execution_count": 237,
   "id": "b41d9d4c",
   "metadata": {},
   "outputs": [],
   "source": [
    "# shallow copy using the copy module\n",
    "import copy\n",
    "original_list = [1, 2, 3]\n",
    "new_list = copy.copy(original_list)"
   ]
  },
  {
   "cell_type": "code",
   "execution_count": 238,
   "id": "a124e846",
   "metadata": {},
   "outputs": [
    {
     "name": "stdout",
     "output_type": "stream",
     "text": [
      "Original List: [[1, 2], [3, 4]]\n",
      "Deep Copy: [[1, 2, 5], [3, 4]]\n"
     ]
    }
   ],
   "source": [
    "# deep copy using the copy module\n",
    "original_list = [[1, 2], [3, 4]]\n",
    "deep_copy = copy.deepcopy(original_list)\n",
    "\n",
    "deep_copy[0].append(5)\n",
    "\n",
    "print(\"Original List:\", original_list)  # Output: [[1, 2], [3, 4]]\n",
    "print(\"Deep Copy:\", deep_copy)          # Output: [[1, 2, 5], [3, 4]]"
   ]
  },
  {
   "cell_type": "markdown",
   "id": "4d411143",
   "metadata": {},
   "source": [
    "Range sequences\n",
    "\n",
    "`range(a:b:step)`, where a, b and step are integers\n",
    "\n",
    "sequence of integers from a to b (excluding b), incremented by the\n",
    "variable step."
   ]
  },
  {
   "cell_type": "code",
   "execution_count": 239,
   "id": "6e15e456",
   "metadata": {},
   "outputs": [],
   "source": [
    "# Exercise\n",
    "a = range(1, 7, 2)"
   ]
  },
  {
   "cell_type": "code",
   "execution_count": 240,
   "id": "63e707b4",
   "metadata": {},
   "outputs": [
    {
     "data": {
      "text/plain": [
       "[1, 3, 5]"
      ]
     },
     "execution_count": 240,
     "metadata": {},
     "output_type": "execute_result"
    }
   ],
   "source": [
    "# a) convert an object range into a list\n",
    "list(a)"
   ]
  },
  {
   "cell_type": "code",
   "execution_count": 241,
   "id": "d9cb3e3e",
   "metadata": {
    "scrolled": true
   },
   "outputs": [
    {
     "name": "stdout",
     "output_type": "stream",
     "text": [
      "max(a) gives:  5\n",
      "sum(a) gives:  9\n",
      "len(a) gives:  3\n"
     ]
    }
   ],
   "source": [
    "# b) operations on a range\n",
    "# maximum element, the sum of the elements and the length\n",
    "\n",
    "print(\"max(a) gives: \", max(a))\n",
    "print(\"sum(a) gives: \", sum(a))\n",
    "print(\"len(a) gives: \", len(a))"
   ]
  },
  {
   "cell_type": "markdown",
   "id": "dc4a2f4e",
   "metadata": {},
   "source": [
    "list comprehensions\n",
    "\n",
    "`[expression for item in sequence]`\n",
    "\n",
    "eg. `[u**2 for u in [1,2,3]]`, sequence with the squares of the integer sequence `[1,2,3]`\n",
    "\n",
    "eg. `[x%4 for x in range(0,12)]`, periodic sequence of (0,1,2,3) and length 12"
   ]
  },
  {
   "cell_type": "code",
   "execution_count": 242,
   "id": "b42bf5c0",
   "metadata": {},
   "outputs": [
    {
     "data": {
      "text/plain": [
       "[1, 8, 27]"
      ]
     },
     "execution_count": 242,
     "metadata": {},
     "output_type": "execute_result"
    }
   ],
   "source": [
    "b = [u**3 for u in [1, 2, 3]]\n",
    "b"
   ]
  },
  {
   "cell_type": "code",
   "execution_count": 243,
   "id": "5d320b55",
   "metadata": {},
   "outputs": [
    {
     "data": {
      "text/plain": [
       "[0, 1, 2, 0, 1, 2, 0, 1, 2, 0, 1, 2]"
      ]
     },
     "execution_count": 243,
     "metadata": {},
     "output_type": "execute_result"
    }
   ],
   "source": [
    "f = [x % 3 for x in range(0, 12)]\n",
    "f"
   ]
  },
  {
   "cell_type": "markdown",
   "id": "d91c02b4-4de8-46ca-8d25-c6e06e72d925",
   "metadata": {},
   "source": [
    "**Tuple**\n",
    "\n",
    "immutable"
   ]
  },
  {
   "cell_type": "code",
   "execution_count": null,
   "id": "870e89c2-7633-43a5-91d4-2f33beb56de9",
   "metadata": {},
   "outputs": [],
   "source": [
    "a = (1,2,3,2,1)\n",
    "a"
   ]
  },
  {
   "cell_type": "code",
   "execution_count": null,
   "id": "bbd18b13-207e-4510-adc1-cfeb24397b98",
   "metadata": {},
   "outputs": [],
   "source": [
    "type(a)"
   ]
  },
  {
   "cell_type": "code",
   "execution_count": null,
   "id": "10076219-31e8-46d9-986b-903167bd9849",
   "metadata": {},
   "outputs": [],
   "source": [
    "a[1]"
   ]
  },
  {
   "cell_type": "code",
   "execution_count": null,
   "id": "1ce272ef-2443-4b60-942d-b3dfa390fb51",
   "metadata": {},
   "outputs": [],
   "source": [
    "a.append(3) # cannot change it!"
   ]
  },
  {
   "cell_type": "markdown",
   "id": "0ccef9b4-346c-478b-b3c1-15b1b9c7fa0a",
   "metadata": {},
   "source": [
    "### Set types"
   ]
  },
  {
   "cell_type": "markdown",
   "id": "f6995ca2",
   "metadata": {},
   "source": [
    "no duplicates, no garanteed order"
   ]
  },
  {
   "cell_type": "code",
   "execution_count": null,
   "id": "3f2f2e56-2d92-4d7b-a172-3e93db2200d6",
   "metadata": {},
   "outputs": [],
   "source": [
    "a = {1, 2, 3, 3} # defined using \"squigly\" brackets\n",
    "a"
   ]
  },
  {
   "cell_type": "code",
   "execution_count": null,
   "id": "f3ede3d9-e1bd-48c8-a652-51769a458ea9",
   "metadata": {},
   "outputs": [],
   "source": [
    "type(a)"
   ]
  },
  {
   "cell_type": "markdown",
   "id": "aa1f4763",
   "metadata": {},
   "source": [
    "A set object is an unordered collection of distinct hashable objects. Common uses include membership testing, removing duplicates from a sequence, and computing mathematical operations such as intersection, union, difference, and symmetric difference.\n",
    "\n",
    "There are currently two built-in set types, `set` and `frozenset`. The set type is mutable — the contents can be changed using methods like add() and remove(). Since it is mutable, it has no hash value and cannot be used as either a dictionary key or as an element of another set. The frozenset type is immutable and hashable — its contents cannot be altered after it is created; it can therefore be used as a dictionary key or as an element of another set."
   ]
  },
  {
   "cell_type": "code",
   "execution_count": null,
   "id": "a6966da5-acbd-4f74-aa41-8bf45ac1de45",
   "metadata": {},
   "outputs": [],
   "source": [
    "b = {2, 5, 0}\n",
    "\n",
    "a | b # inclusive OR, using a bar"
   ]
  },
  {
   "cell_type": "code",
   "execution_count": null,
   "id": "76d23fe3-926d-4874-ac43-fefdace311ad",
   "metadata": {},
   "outputs": [],
   "source": [
    "a ^ b # exclusive OR, using a carret. The elements in one set or the other but not in both"
   ]
  },
  {
   "cell_type": "code",
   "execution_count": null,
   "id": "6fe96e9e-d9e4-44ff-b7f7-397de48ab938",
   "metadata": {},
   "outputs": [],
   "source": [
    "a & b # AND, using a ampersand"
   ]
  },
  {
   "cell_type": "code",
   "execution_count": null,
   "id": "842ea65b-35ca-43a0-92fd-888b8a846af7",
   "metadata": {},
   "outputs": [],
   "source": [
    "a - b # DIFFERENCE"
   ]
  },
  {
   "cell_type": "code",
   "execution_count": null,
   "id": "2063bfb0-c94e-4d4f-8c87-36d80b6269f2",
   "metadata": {},
   "outputs": [],
   "source": [
    "b - a"
   ]
  },
  {
   "cell_type": "markdown",
   "id": "7c5165a8",
   "metadata": {},
   "source": [
    "### Mapping types"
   ]
  },
  {
   "cell_type": "markdown",
   "id": "1ce0545a-ca14-4c65-bafa-b8469eb0facc",
   "metadata": {},
   "source": [
    "**Dictionaries**\n",
    "\n",
    "key-value pairs"
   ]
  },
  {
   "cell_type": "code",
   "execution_count": null,
   "id": "dd3e1b66-012b-40eb-8177-f88a03c25ddc",
   "metadata": {},
   "outputs": [],
   "source": [
    "player = {'name': 'Ric', 'health': 100, 'skills': ['sleep']}\n",
    "player"
   ]
  },
  {
   "cell_type": "code",
   "execution_count": null,
   "id": "fa7f70eb-a8e5-4a3d-a69b-455543d1d519",
   "metadata": {},
   "outputs": [],
   "source": [
    "player.values()"
   ]
  },
  {
   "cell_type": "code",
   "execution_count": null,
   "id": "917f43cc-1531-4b1d-a5c0-3c7e960680c1",
   "metadata": {},
   "outputs": [],
   "source": [
    "player.keys()"
   ]
  },
  {
   "cell_type": "code",
   "execution_count": null,
   "id": "55c33761-3f58-490d-91c0-eb47da28545c",
   "metadata": {},
   "outputs": [],
   "source": [
    "player.items()"
   ]
  },
  {
   "cell_type": "markdown",
   "id": "f7180a25",
   "metadata": {},
   "source": [
    "A mapping object maps hashable values to arbitrary objects. Mappings are mutable objects. There is currently only one standard mapping type, the dictionary."
   ]
  },
  {
   "cell_type": "code",
   "execution_count": null,
   "id": "f96b5c52-bf4f-4c5b-b7e1-04e51559c3e8",
   "metadata": {},
   "outputs": [],
   "source": [
    "player[0]"
   ]
  },
  {
   "cell_type": "code",
   "execution_count": null,
   "id": "75d483d7-4b03-4346-be78-efaeb909f6b7",
   "metadata": {},
   "outputs": [],
   "source": [
    "player['name']"
   ]
  },
  {
   "cell_type": "code",
   "execution_count": null,
   "id": "4e611e74-7342-4b60-899c-36f14cf62d74",
   "metadata": {},
   "outputs": [],
   "source": [
    "player['name'] = 'Ricardo'\n",
    "player"
   ]
  },
  {
   "cell_type": "code",
   "execution_count": null,
   "id": "496d2569-4aea-47e2-b87b-5771e7af6656",
   "metadata": {},
   "outputs": [],
   "source": [
    "player.update({'name': 'Ric', 'health': 80, 'skills': ['yawn'], 'height (in cm)': 173})\n",
    "player"
   ]
  },
  {
   "cell_type": "code",
   "execution_count": null,
   "id": "a1cf7847-16e7-4873-9dd5-437a2879fc7e",
   "metadata": {},
   "outputs": [],
   "source": [
    "del player['height (in cm)']\n",
    "player"
   ]
  },
  {
   "cell_type": "markdown",
   "id": "8bf8d1d4",
   "metadata": {},
   "source": [
    "### Other object types"
   ]
  },
  {
   "cell_type": "markdown",
   "id": "8b6d0820",
   "metadata": {},
   "source": [
    "* Functions\n",
    "* Context Manager types\n",
    "* Type Annotation types\n",
    "    * Generic Alias\n",
    "    * Union\n",
    "* Module type"
   ]
  },
  {
   "cell_type": "markdown",
   "id": "517ddd79",
   "metadata": {},
   "source": [
    "### classes and objects"
   ]
  },
  {
   "cell_type": "code",
   "execution_count": 218,
   "id": "508a4abf",
   "metadata": {},
   "outputs": [],
   "source": [
    "class Person:\n",
    "    def __init__(self, name):\n",
    "        self.name = name\n",
    "\n",
    "    def greet(self):\n",
    "        return f\"Hello, my name is {self.name}.\""
   ]
  },
  {
   "cell_type": "code",
   "execution_count": 220,
   "id": "b882eb10",
   "metadata": {},
   "outputs": [
    {
     "data": {
      "text/plain": [
       "<__main__.Person at 0x1b63ad526b0>"
      ]
     },
     "execution_count": 220,
     "metadata": {},
     "output_type": "execute_result"
    }
   ],
   "source": [
    "alice = Person(\"Alice\")\n",
    "alice"
   ]
  },
  {
   "cell_type": "code",
   "execution_count": 221,
   "id": "a8ef1ba0",
   "metadata": {},
   "outputs": [
    {
     "data": {
      "text/plain": [
       "__main__.Person"
      ]
     },
     "execution_count": 221,
     "metadata": {},
     "output_type": "execute_result"
    }
   ],
   "source": [
    "type(alice)"
   ]
  },
  {
   "cell_type": "code",
   "execution_count": 222,
   "id": "17a21eb0",
   "metadata": {},
   "outputs": [
    {
     "data": {
      "text/plain": [
       "'Hello, my name is Alice.'"
      ]
     },
     "execution_count": 222,
     "metadata": {},
     "output_type": "execute_result"
    }
   ],
   "source": [
    "alice.greet()"
   ]
  },
  {
   "cell_type": "code",
   "execution_count": 223,
   "id": "ce5168e7",
   "metadata": {},
   "outputs": [],
   "source": [
    "# Exercise\n",
    "# Number guessing game"
   ]
  },
  {
   "cell_type": "code",
   "execution_count": 224,
   "id": "3aa14de5",
   "metadata": {},
   "outputs": [],
   "source": [
    "import random\n",
    "\n",
    "# Define a Game class\n",
    "class NumberGuessingGame:\n",
    "    def __init__(self, lower=1, upper=100):\n",
    "        # Initialize game parameters\n",
    "        self.lower = lower\n",
    "        self.upper = upper\n",
    "        self.number_to_guess = random.randint(self.lower, self.upper)\n",
    "        self.guess_count = 0\n",
    "\n",
    "    def play(self):\n",
    "        print(f\"Welcome to the Number Guessing Game!\")\n",
    "        print(f\"Guess a number between {self.lower} and {self.upper}\")\n",
    "\n",
    "        while True:\n",
    "            try:\n",
    "                # Get user's guess\n",
    "                guess = int(input(\"Enter your guess: \"))\n",
    "                self.guess_count += 1\n",
    "\n",
    "                # Check if guess is correct\n",
    "                if guess < self.number_to_guess:\n",
    "                    print(\"Too low! Try again.\")\n",
    "                elif guess > self.number_to_guess:\n",
    "                    print(\"Too high! Try again.\")\n",
    "                else:\n",
    "                    print(f\"Congratulations! You guessed the number in {self.guess_count} attempts.\")\n",
    "                    break\n",
    "            except ValueError:\n",
    "                print(\"Please enter a valid number!\")\n",
    "\n",
    "    def reset(self):\n",
    "        # Reset the game to allow a new round\n",
    "        self.number_to_guess = random.randint(self.lower, self.upper)\n",
    "        self.guess_count = 0\n",
    "        print(\"\\nGame reset. Let's play again!\")"
   ]
  },
  {
   "cell_type": "code",
   "execution_count": 225,
   "id": "7e0de332",
   "metadata": {},
   "outputs": [
    {
     "name": "stdout",
     "output_type": "stream",
     "text": [
      "Welcome to the Number Guessing Game!\n",
      "Guess a number between 1 and 100\n",
      "Enter your guess: 80\n",
      "Too high! Try again.\n",
      "Enter your guess: 50\n",
      "Too low! Try again.\n",
      "Enter your guess: 60\n",
      "Too low! Try again.\n",
      "Enter your guess: 65\n",
      "Too low! Try again.\n",
      "Enter your guess: 75\n",
      "Congratulations! You guessed the number in 5 attempts.\n"
     ]
    }
   ],
   "source": [
    "# Instantiate and play the game\n",
    "game = NumberGuessingGame()\n",
    "game.play()\n",
    "\n",
    "# Reset and play again if you want to\n",
    "# game.reset()\n",
    "# game.play()"
   ]
  },
  {
   "cell_type": "markdown",
   "id": "bb166011-04ae-4ccc-bac4-ca0dc8e5a1ce",
   "metadata": {},
   "source": [
    "## Operators <a name=\"operators\"></a>"
   ]
  },
  {
   "cell_type": "markdown",
   "id": "5c41399e-6e4c-45ec-9345-4bc20c2c76fd",
   "metadata": {},
   "source": [
    "**Comparison operators**"
   ]
  },
  {
   "cell_type": "code",
   "execution_count": null,
   "id": "38e6cb88-a8a0-459f-aec0-67d352cec1f6",
   "metadata": {},
   "outputs": [],
   "source": [
    "10 == 10 # IS EQUAL TO"
   ]
  },
  {
   "cell_type": "code",
   "execution_count": null,
   "id": "5c8744b1-1be4-4ec3-abfc-eb63a2c63710",
   "metadata": {},
   "outputs": [],
   "source": [
    "10 != 10 # IS DIFFERENT FROM"
   ]
  },
  {
   "cell_type": "markdown",
   "id": "4bdde632-6a3d-449e-8bb6-f3ddac8dc41f",
   "metadata": {},
   "source": [
    "**Logical operators**"
   ]
  },
  {
   "cell_type": "code",
   "execution_count": null,
   "id": "c8907d31-96fa-41bd-a910-d3b3cf535af7",
   "metadata": {},
   "outputs": [],
   "source": [
    "# And"
   ]
  },
  {
   "cell_type": "code",
   "execution_count": null,
   "id": "1bcb40b2-e80d-479e-b0e5-318a98c7bde6",
   "metadata": {},
   "outputs": [],
   "source": [
    "True and True"
   ]
  },
  {
   "cell_type": "code",
   "execution_count": null,
   "id": "a9b3ebc4-f27d-447d-976c-4fe2076c37cc",
   "metadata": {},
   "outputs": [],
   "source": [
    "False and True"
   ]
  },
  {
   "cell_type": "code",
   "execution_count": null,
   "id": "c0a382cb-685e-4b3a-b6f6-da9092bc5128",
   "metadata": {},
   "outputs": [],
   "source": [
    "False and False"
   ]
  },
  {
   "cell_type": "code",
   "execution_count": null,
   "id": "6c64cf3f-d5d6-48ee-a89f-8557d214fc84",
   "metadata": {},
   "outputs": [],
   "source": [
    "# Or"
   ]
  },
  {
   "cell_type": "code",
   "execution_count": null,
   "id": "bc56961a-e867-497c-b262-bb16f4d16579",
   "metadata": {},
   "outputs": [],
   "source": [
    "True or True"
   ]
  },
  {
   "cell_type": "code",
   "execution_count": null,
   "id": "eb6572f8-95e8-463c-97ed-bf9aa4d338af",
   "metadata": {},
   "outputs": [],
   "source": [
    "True or False"
   ]
  },
  {
   "cell_type": "code",
   "execution_count": null,
   "id": "e8d773e4-4f3a-4737-b5dc-c7c3291a00b8",
   "metadata": {},
   "outputs": [],
   "source": [
    "False or False"
   ]
  },
  {
   "cell_type": "code",
   "execution_count": null,
   "id": "3e222eb8-b1e5-40a6-9f3e-a1bab99dcdc2",
   "metadata": {},
   "outputs": [],
   "source": [
    "# Not"
   ]
  },
  {
   "cell_type": "code",
   "execution_count": null,
   "id": "28bd6223-74a7-4177-9cd9-24b7da40c41f",
   "metadata": {},
   "outputs": [],
   "source": [
    "not True"
   ]
  },
  {
   "cell_type": "code",
   "execution_count": null,
   "id": "95593eac-a8a1-49cd-97a9-ba82f98c1862",
   "metadata": {},
   "outputs": [],
   "source": [
    "not False"
   ]
  },
  {
   "cell_type": "markdown",
   "id": "6835c516-4e22-464a-ad24-9088dcd02303",
   "metadata": {},
   "source": [
    "**Membership operators**"
   ]
  },
  {
   "cell_type": "code",
   "execution_count": null,
   "id": "2e61f7ac-a2ad-44af-9b00-5c244f00a286",
   "metadata": {},
   "outputs": [],
   "source": [
    "'a' in ('a', 'b', 'c', 'd')"
   ]
  },
  {
   "cell_type": "code",
   "execution_count": null,
   "id": "7ecb40b5-19e4-4edd-ac53-ff9d735ca872",
   "metadata": {},
   "outputs": [],
   "source": [
    "'a' not in ('a', 'b', 'c', 'd')"
   ]
  },
  {
   "cell_type": "code",
   "execution_count": null,
   "id": "38c34e80-3102-4266-bea4-63d298048ae6",
   "metadata": {},
   "outputs": [],
   "source": [
    "'love' in 'I love you'"
   ]
  },
  {
   "cell_type": "code",
   "execution_count": null,
   "id": "5360dbc4-4b33-4d22-a19a-fea05134b625",
   "metadata": {},
   "outputs": [],
   "source": [
    "trusted_users = ['joao', 'rafael', 'maria']\n",
    "'ric' in trusted_users"
   ]
  },
  {
   "cell_type": "markdown",
   "id": "4234f929-5230-49fc-83de-9740f5dcdd06",
   "metadata": {},
   "source": [
    "**Converting data types**"
   ]
  },
  {
   "cell_type": "code",
   "execution_count": null,
   "id": "1cf4d2ed-5d11-4d53-9c13-6b2763196a99",
   "metadata": {},
   "outputs": [],
   "source": [
    "# String -> Integer"
   ]
  },
  {
   "cell_type": "code",
   "execution_count": null,
   "id": "2620a844-eeec-4ae0-99da-2272ad65df71",
   "metadata": {},
   "outputs": [],
   "source": [
    "num_7 = int('7')"
   ]
  },
  {
   "cell_type": "code",
   "execution_count": null,
   "id": "565489a9-69a5-47fc-a755-c2d14b9bec26",
   "metadata": {},
   "outputs": [],
   "source": [
    "print(num_7)\n",
    "print(type(num_7))"
   ]
  },
  {
   "cell_type": "code",
   "execution_count": null,
   "id": "891722c6-d357-4dbb-9423-35d59e32c807",
   "metadata": {},
   "outputs": [],
   "source": [
    "# List -> Tuple"
   ]
  },
  {
   "cell_type": "code",
   "execution_count": null,
   "id": "6a3fed70-5c4f-4b3d-996c-67eb3e57dc4f",
   "metadata": {},
   "outputs": [],
   "source": [
    "a = [1, 2, 3, 3]\n",
    "a_tuple = tuple(a)\n",
    "a_tuple"
   ]
  },
  {
   "cell_type": "code",
   "execution_count": null,
   "id": "acb11fed-c9bf-44c3-ad74-330e993c18df",
   "metadata": {},
   "outputs": [],
   "source": [
    "# List -> Set"
   ]
  },
  {
   "cell_type": "code",
   "execution_count": null,
   "id": "88516015-a164-4cf4-ae78-dc8a9c562013",
   "metadata": {},
   "outputs": [],
   "source": [
    "a = [1, 2, 3, 3]\n",
    "a_set = set(a)\n",
    "a_set"
   ]
  },
  {
   "cell_type": "code",
   "execution_count": null,
   "id": "1e88a62f-eae0-42ae-92c9-a5baac0d600e",
   "metadata": {},
   "outputs": [],
   "source": [
    "# Dictionary -> Lists"
   ]
  },
  {
   "cell_type": "code",
   "execution_count": null,
   "id": "0a6fd2f0-a7cb-4bc1-ba53-59ab0479791d",
   "metadata": {},
   "outputs": [],
   "source": [
    "person = {\"name\": \"Alice\", \"age\": 25, \"city\": \"London\"}\n",
    "\n",
    "# Convert dictionary keys to a list\n",
    "keys_list = list(person.keys())\n",
    "\n",
    "# Convert dictionary values to a list\n",
    "values_list = list(person.values())\n",
    "\n",
    "print(\"Keys List:\", keys_list)\n",
    "print(\"Values List:\", values_list)"
   ]
  },
  {
   "cell_type": "code",
   "execution_count": null,
   "id": "346aba08-715a-4665-b45f-6e5b80c3802d",
   "metadata": {},
   "outputs": [],
   "source": [
    "# String -> List"
   ]
  },
  {
   "cell_type": "code",
   "execution_count": null,
   "id": "d50c2163-e282-43c4-bdb9-1bf786d78e6c",
   "metadata": {},
   "outputs": [],
   "source": [
    "hello_str = 'Hello World'\n",
    "list(hello_str)"
   ]
  },
  {
   "cell_type": "code",
   "execution_count": null,
   "id": "afa83c31-2548-4565-a8ab-f3e80a091498",
   "metadata": {},
   "outputs": [],
   "source": [
    "# String -> Set"
   ]
  },
  {
   "cell_type": "code",
   "execution_count": null,
   "id": "8d7d5ad7-28fa-41d4-ba00-e737cf7e809c",
   "metadata": {},
   "outputs": [],
   "source": [
    "hello_str = 'Hello World'\n",
    "set(hello_str)"
   ]
  },
  {
   "cell_type": "markdown",
   "id": "48268e0a-33a2-4615-bdfd-adc35e816d16",
   "metadata": {
    "jp-MarkdownHeadingCollapsed": true
   },
   "source": [
    "# conditions"
   ]
  },
  {
   "cell_type": "markdown",
   "id": "b5686576-deee-4c8c-ab4b-4baa0e16a0a6",
   "metadata": {},
   "source": [
    "The **IF-ELSE** statement is used to express conditions"
   ]
  },
  {
   "cell_type": "code",
   "execution_count": null,
   "id": "1ebb435c-d64f-4a81-90e4-a277bbc0bf0c",
   "metadata": {},
   "outputs": [],
   "source": [
    "if 2 > 1:\n",
    "    print(\"2 > 1\") # indentation is mandatory"
   ]
  },
  {
   "cell_type": "code",
   "execution_count": null,
   "id": "091c5218-0375-4c64-882d-7ab62ea2f021",
   "metadata": {},
   "outputs": [],
   "source": [
    "if 1 > 2:\n",
    "    print(\"1 > 2\")\n",
    "else:\n",
    "    print(\"2 > 1\")"
   ]
  },
  {
   "cell_type": "code",
   "execution_count": null,
   "id": "c8ae7843-3907-4a5b-a6ad-adb64a776a86",
   "metadata": {},
   "outputs": [],
   "source": [
    "# Example: Checking the status of a person based on their age\n",
    "\n",
    "age = 25\n",
    "\n",
    "if age < 18:\n",
    "    print(\"You're a minor.\")\n",
    "elif age >= 18 and age < 65:\n",
    "    print(\"You're an adult.\")\n",
    "else:\n",
    "    print(\"You're a senior citizen.\")"
   ]
  },
  {
   "cell_type": "code",
   "execution_count": null,
   "id": "b3aa9933-9c99-42e1-a05e-437d19db38bf",
   "metadata": {},
   "outputs": [],
   "source": [
    "say_hello = False\n",
    "print('Hello') if say_hello else print('Gn')"
   ]
  },
  {
   "cell_type": "markdown",
   "id": "7e31b39f-d93a-45d6-bf31-5d370e126d34",
   "metadata": {},
   "source": [
    "nested if statements"
   ]
  },
  {
   "cell_type": "code",
   "execution_count": null,
   "id": "8f325cf9-a779-4007-a331-e0c169114cdd",
   "metadata": {},
   "outputs": [],
   "source": [
    "# Example: Checking if a number is positive, negative, or zero, and whether it's even or odd if it's positive\n",
    "\n",
    "number = 8\n",
    "\n",
    "if number >= 0:\n",
    "    print(\"The number is positive or zero.\")\n",
    "    \n",
    "    if number == 0:\n",
    "        print(\"The number is zero.\")\n",
    "    else:\n",
    "        if number % 2 == 0:\n",
    "            print(\"The number is positive and even.\")\n",
    "        else:\n",
    "            print(\"The number is positive and odd.\")\n",
    "else:\n",
    "    print(\"The number is negative.\")"
   ]
  },
  {
   "cell_type": "markdown",
   "id": "2594dbce-b000-42f7-906f-b7bbe671c3d5",
   "metadata": {
    "jp-MarkdownHeadingCollapsed": true
   },
   "source": [
    "# loops"
   ]
  },
  {
   "cell_type": "markdown",
   "id": "47bbef6f-8e1d-4742-bc24-fdc91a4ad232",
   "metadata": {},
   "source": [
    "The **FOR** loop is used to express repetition (of blocks of code)"
   ]
  },
  {
   "cell_type": "code",
   "execution_count": null,
   "id": "abd0d5a5-7a90-4d78-98a6-0ebbeaa62055",
   "metadata": {},
   "outputs": [],
   "source": [
    "print('Hello')\n",
    "print('Hello')\n",
    "print('Hello')\n",
    "print('Hello')\n",
    "print('Hello')"
   ]
  },
  {
   "cell_type": "code",
   "execution_count": null,
   "id": "4838874d-634a-4e42-b467-88cb3c67ccda",
   "metadata": {},
   "outputs": [],
   "source": [
    "ind = [0, 1, 2, 3, 4]\n",
    "for i in ind:\n",
    "    print('Hello')"
   ]
  },
  {
   "cell_type": "code",
   "execution_count": null,
   "id": "83466250-13ff-4765-82a0-d886ae112714",
   "metadata": {},
   "outputs": [],
   "source": [
    "print(range(5)) # Create a range of numbers from 0 to 5 (exclusive).\n",
    "for i in range(5):\n",
    "    print('Hello')"
   ]
  },
  {
   "cell_type": "code",
   "execution_count": null,
   "id": "429cd4bc-807d-4c24-b508-3e344d051ebc",
   "metadata": {},
   "outputs": [],
   "source": [
    "# Example: Looping through a list of fruits and printing each one\n",
    "\n",
    "fruits = [\"apple\", \"banana\", \"cherry\", \"mango\"]\n",
    "\n",
    "for fruit in fruits:\n",
    "    print(fruit)"
   ]
  },
  {
   "cell_type": "code",
   "execution_count": null,
   "id": "d58f4ddd-3048-41e9-8c65-c37bf8830539",
   "metadata": {},
   "outputs": [],
   "source": [
    "# Example: Looping through a list using index numbers\n",
    "\n",
    "fruits = [\"apple\", \"banana\", \"cherry\", \"mango\"]\n",
    "\n",
    "for i in range(len(fruits)):\n",
    "    print(f\"Index {i}: {fruits[i]}\")"
   ]
  },
  {
   "cell_type": "code",
   "execution_count": null,
   "id": "0aabcc77-788a-469a-af51-29e41464fe10",
   "metadata": {},
   "outputs": [],
   "source": [
    "# Example: Looping through the keys of a dictionary\n",
    "\n",
    "person = {\"name\": \"Alice\", \"age\": 30, \"city\": \"New York\"}\n",
    "\n",
    "for key in person:\n",
    "    print(key)"
   ]
  },
  {
   "cell_type": "code",
   "execution_count": null,
   "id": "ff59e231-bd9b-4151-ba77-ed416d1b392c",
   "metadata": {},
   "outputs": [],
   "source": [
    "# Example: Looping through the values of a dictionary\n",
    "\n",
    "person = {\"name\": \"Alice\", \"age\": 30, \"city\": \"New York\"}\n",
    "\n",
    "for value in person.values():\n",
    "    print(value)"
   ]
  },
  {
   "cell_type": "code",
   "execution_count": null,
   "id": "8e1f1bc8-0fc5-44f7-801a-08d41eebfcf2",
   "metadata": {},
   "outputs": [],
   "source": [
    "# Example: Looping through both keys and values of a dictionary\n",
    "\n",
    "person = {\"name\": \"Alice\", \"age\": 30, \"city\": \"New York\"}\n",
    "\n",
    "for key, value in person.items():\n",
    "    print(key, '->', value)\n",
    "\n",
    "print('\\n')\n",
    "\n",
    "for key, value in person.items():\n",
    "    print(f\"{key}: {value}\")"
   ]
  },
  {
   "cell_type": "markdown",
   "id": "cc2b5ce6-726f-40d8-86cd-1f4fa2f17834",
   "metadata": {},
   "source": [
    "Although dictionaries don't maintain order (before Python 3.7), you can loop through keys with their index like this:"
   ]
  },
  {
   "cell_type": "code",
   "execution_count": null,
   "id": "dae1ddfc-1bc5-4406-83ce-863136c5e95c",
   "metadata": {},
   "outputs": [],
   "source": [
    "# Example: Looping through dictionary keys with an index\n",
    "\n",
    "person = {\"name\": \"Alice\", \"age\": 30, \"city\": \"New York\"}\n",
    "\n",
    "for index, key in enumerate(person):\n",
    "    print(f\"Index {index}: {key} -> {person[key]}\")"
   ]
  },
  {
   "cell_type": "markdown",
   "id": "39354339-7c6e-4718-813b-dcf2f9031f76",
   "metadata": {},
   "source": [
    "nested for loops"
   ]
  },
  {
   "cell_type": "code",
   "execution_count": null,
   "id": "99af5c5e-50b2-4e36-b627-8238af05289c",
   "metadata": {},
   "outputs": [],
   "source": [
    "# Outer loop\n",
    "for i in range(1, 4):  # i will take values 1, 2, 3\n",
    "    # Inner loop\n",
    "    for j in range(1, 4):  # j will take values 1, 2, 3\n",
    "        print(f\"i = {i}, j = {j}\")"
   ]
  },
  {
   "cell_type": "code",
   "execution_count": null,
   "id": "4b040c3f-cc87-4c56-8751-17d2bec7d611",
   "metadata": {},
   "outputs": [],
   "source": [
    "list1 = ['A', 'B', 'C']\n",
    "list2 = [1, 2, 3]\n",
    "\n",
    "# Outer loop iterates through list1\n",
    "for item1 in list1:\n",
    "    # Inner loop iterates through list2\n",
    "    for item2 in list2:\n",
    "        print(f\"item1 = {item1}, item2 = {item2}\")"
   ]
  },
  {
   "cell_type": "code",
   "execution_count": 246,
   "id": "f148eaea",
   "metadata": {},
   "outputs": [],
   "source": [
    "# EXERCISE"
   ]
  },
  {
   "cell_type": "markdown",
   "id": "fdf836bd",
   "metadata": {},
   "source": [
    "Create a function $f(v_o,a,t)$ which evaluates the position y of a particle starting at the origin,\n",
    "moving with initial speed v0, under a constant acceleration a, and at time t\n",
    "\n",
    "$y = v_0 t + \\frac{1}{2} a t^2$\n",
    "\n",
    "Use it to evaluate the position of the particle at times t = 0, 1, 2 and 3 seconds"
   ]
  },
  {
   "cell_type": "code",
   "execution_count": 247,
   "id": "7218f91b",
   "metadata": {},
   "outputs": [],
   "source": [
    "# create the function\n",
    "def f(v0, a, t):\n",
    "    y = v0 * t + (1 / 2) * a * t**2\n",
    "    return y"
   ]
  },
  {
   "cell_type": "code",
   "execution_count": 248,
   "id": "90816714",
   "metadata": {},
   "outputs": [
    {
     "name": "stdout",
     "output_type": "stream",
     "text": [
      "position y(t) =  [0.0, 2.0, 6.0, 12.0]\n"
     ]
    }
   ],
   "source": [
    "# use it\n",
    "ypos = []\n",
    "v0 = 1\n",
    "a = 2\n",
    "for t in [0, 1, 2, 3]:  # or in range(4)\n",
    "    ypos.append(f(v0, a, t))\n",
    "\n",
    "print(\"position y(t) = \", ypos)"
   ]
  },
  {
   "cell_type": "code",
   "execution_count": 249,
   "id": "b5e35c67",
   "metadata": {},
   "outputs": [],
   "source": [
    "# using default values\n",
    "def f(t, v0=1, a=2):  # non-default parameters must come first\n",
    "    y = v0 * t + (1 / 2) * a * t**2\n",
    "    return y"
   ]
  },
  {
   "cell_type": "code",
   "execution_count": 250,
   "id": "255aba6e",
   "metadata": {},
   "outputs": [
    {
     "name": "stdout",
     "output_type": "stream",
     "text": [
      "position y(t) =  [0.0, 2.0, 6.0, 12.0]\n"
     ]
    }
   ],
   "source": [
    "ypos = []\n",
    "for t in [0, 1, 2, 3]:\n",
    "    ypos.append(f(t))\n",
    "\n",
    "print(\"position y(t) = \", ypos)"
   ]
  },
  {
   "cell_type": "markdown",
   "id": "1cfa11f4-1fe1-4452-86ac-3c396574f4a4",
   "metadata": {},
   "source": [
    "The **WHILE** loop is another option of a structure for looping"
   ]
  },
  {
   "cell_type": "code",
   "execution_count": null,
   "id": "60a8f11f-2bd1-4bf4-a74a-b5a725cc7d3f",
   "metadata": {},
   "outputs": [],
   "source": [
    "i = 0\n",
    "\n",
    "while i < 10:\n",
    "    i += 1\n",
    "\n",
    "    if i == 5:\n",
    "        print(\"Skipping number 5\")\n",
    "        continue  # Skip the rest of the loop when i is 5\n",
    "\n",
    "    if i == 8:\n",
    "        print(\"Stopping the loop at number 8\")\n",
    "        break  # Exit the loop when i is 8\n",
    "\n",
    "    print(f\"Current number is {i}\")"
   ]
  },
  {
   "cell_type": "markdown",
   "id": "4d1be3e0-ad84-4c36-922d-645fd54ef5ba",
   "metadata": {
    "jp-MarkdownHeadingCollapsed": true
   },
   "source": [
    "# functions"
   ]
  },
  {
   "cell_type": "markdown",
   "id": "c45da242-dfd2-4763-b16e-fc91f64642fc",
   "metadata": {},
   "source": [
    "blocks of code that only run when you call them"
   ]
  },
  {
   "cell_type": "code",
   "execution_count": null,
   "id": "dfdc4fea-e30b-4109-89ee-ee2353f3a9e4",
   "metadata": {},
   "outputs": [],
   "source": [
    "# function definition\n",
    "def a_function_name():\n",
    "    print(\"Hello World...\") # function body"
   ]
  },
  {
   "cell_type": "code",
   "execution_count": null,
   "id": "dbdc2cf0-03e4-4a48-a9a1-eca4c9f05021",
   "metadata": {},
   "outputs": [],
   "source": [
    "a_function_name() # function call"
   ]
  },
  {
   "cell_type": "markdown",
   "id": "8f37a82d-0a34-4613-9bd0-f9f0e90e27fa",
   "metadata": {},
   "source": [
    "a single argument"
   ]
  },
  {
   "cell_type": "code",
   "execution_count": null,
   "id": "6926ed21-7523-4b76-b2f0-0f6a35b965f0",
   "metadata": {},
   "outputs": [],
   "source": [
    "def my_squared(n):\n",
    "    return n**2"
   ]
  },
  {
   "cell_type": "code",
   "execution_count": null,
   "id": "ababac29-d3a4-4fd0-b059-b16ceefd2e36",
   "metadata": {},
   "outputs": [],
   "source": [
    "my_squared(2)"
   ]
  },
  {
   "cell_type": "code",
   "execution_count": 214,
   "id": "85d677c3",
   "metadata": {},
   "outputs": [],
   "source": [
    "def greet(name):\n",
    "    return f\"Hello, {name}!\""
   ]
  },
  {
   "cell_type": "code",
   "execution_count": 215,
   "id": "6f9a6219",
   "metadata": {},
   "outputs": [
    {
     "data": {
      "text/plain": [
       "function"
      ]
     },
     "execution_count": 215,
     "metadata": {},
     "output_type": "execute_result"
    }
   ],
   "source": [
    "type(greet)"
   ]
  },
  {
   "cell_type": "markdown",
   "id": "f45ed5f2-57a0-4d35-9506-09f9db4bd378",
   "metadata": {},
   "source": [
    "multiple arguments"
   ]
  },
  {
   "cell_type": "code",
   "execution_count": null,
   "id": "8f7ca202-7af9-4d42-9876-3fd8e65c0c66",
   "metadata": {},
   "outputs": [],
   "source": [
    "def my_power(n, power):\n",
    "    return n**power"
   ]
  },
  {
   "cell_type": "code",
   "execution_count": null,
   "id": "0ce9fa31-1dcf-4d8b-b5a8-01655e9adf35",
   "metadata": {},
   "outputs": [],
   "source": [
    "my_power(3, 3)"
   ]
  },
  {
   "cell_type": "code",
   "execution_count": null,
   "id": "deafd8ee-e8c5-4ba6-af46-be9dee313fe1",
   "metadata": {},
   "outputs": [],
   "source": [
    "help(my_power)"
   ]
  },
  {
   "cell_type": "markdown",
   "id": "5f1306d6-9c32-44bb-80a2-c93b99527150",
   "metadata": {},
   "source": [
    "keyword arguments"
   ]
  },
  {
   "cell_type": "code",
   "execution_count": null,
   "id": "833483bb-c51d-4a5d-8fcf-89cd14e520e0",
   "metadata": {},
   "outputs": [],
   "source": [
    "my_power(n=3, power=5)"
   ]
  },
  {
   "cell_type": "code",
   "execution_count": null,
   "id": "9ab71b28-32af-4b2c-9cc7-b90a3bed5422",
   "metadata": {},
   "outputs": [],
   "source": [
    "my_power(power=3, n=5)"
   ]
  },
  {
   "cell_type": "markdown",
   "id": "91bd386d-6bdc-4cd2-b9a3-97ff55545ec4",
   "metadata": {},
   "source": [
    "arbitrary arguments"
   ]
  },
  {
   "cell_type": "code",
   "execution_count": null,
   "id": "fa360ade-679f-4a3d-88af-c7b398cc6529",
   "metadata": {},
   "outputs": [],
   "source": [
    "def my_printAll(*args):\n",
    "    print(type(args)) # it's a tuple\n",
    "    for s in args:\n",
    "        print(s)"
   ]
  },
  {
   "cell_type": "code",
   "execution_count": null,
   "id": "55ee5625-00f6-406b-8e14-e6d4e0a1a16c",
   "metadata": {},
   "outputs": [],
   "source": [
    "my_printAll('Hello', 'World', '!')"
   ]
  },
  {
   "cell_type": "code",
   "execution_count": null,
   "id": "9a1058e6-8653-4e9a-a4dd-109808d8b46d",
   "metadata": {},
   "outputs": [],
   "source": [
    "def my_sumNums(*nums):\n",
    "    total = 0\n",
    "    for n in nums:\n",
    "        total += n\n",
    "    return total"
   ]
  },
  {
   "cell_type": "code",
   "execution_count": null,
   "id": "36c22884-c3fc-4146-ba47-4ec02659f29b",
   "metadata": {},
   "outputs": [],
   "source": [
    "my_sumNums(1, 2, 3, 5, 7, 8, 20, 33)"
   ]
  },
  {
   "cell_type": "markdown",
   "id": "a74a05e8-85ce-4a0c-9365-2b4de61f8bee",
   "metadata": {},
   "source": [
    "arbitrary **k**ey**w**ord **arg**ument**s**"
   ]
  },
  {
   "cell_type": "code",
   "execution_count": null,
   "id": "99e15696-8fc4-41f1-a42b-686389f70443",
   "metadata": {},
   "outputs": [],
   "source": [
    "def print_person_details(**kwargs):\n",
    "    print(type(kwargs)) # it's a dictionary\n",
    "    print(\"Person Details:\")\n",
    "    for key, value in kwargs.items():\n",
    "        print(f\"{key}: {value}\")"
   ]
  },
  {
   "cell_type": "code",
   "execution_count": null,
   "id": "b7304603-ac40-47fc-8fbd-eb29a52d0019",
   "metadata": {},
   "outputs": [],
   "source": [
    "print_person_details(name=\"John\", age=30, city=\"New York\", profession=\"Engineer\")"
   ]
  },
  {
   "cell_type": "markdown",
   "id": "c8d8e831",
   "metadata": {},
   "source": [
    "**lambda functions**"
   ]
  },
  {
   "cell_type": "code",
   "execution_count": 251,
   "id": "b879ee44",
   "metadata": {},
   "outputs": [],
   "source": [
    "# EXERCISE"
   ]
  },
  {
   "cell_type": "markdown",
   "id": "08e34d56",
   "metadata": {},
   "source": [
    "Create a function $f(v_o,a,t)$ which evaluates the position y of a particle starting at the origin,\n",
    "moving with initial speed v0, under a constant acceleration a, and at time t\n",
    "\n",
    "$y = v_0 t + \\frac{1}{2} a t^2$\n",
    "\n",
    "Use it to evaluate the position of the particle at times t = 0, 1, 2 and 3 seconds"
   ]
  },
  {
   "cell_type": "code",
   "execution_count": 253,
   "id": "625cecb3",
   "metadata": {},
   "outputs": [],
   "source": [
    "# with one parameter\n",
    "v0, a = 1, 2  # need to define this before de lambda function\n",
    "f = lambda t: v0 * t + a * t**2  # define lambda function f(t)"
   ]
  },
  {
   "cell_type": "code",
   "execution_count": 254,
   "id": "967bae5e",
   "metadata": {},
   "outputs": [
    {
     "name": "stdout",
     "output_type": "stream",
     "text": [
      "position y(t) =  [0, 3, 10, 21]\n"
     ]
    }
   ],
   "source": [
    "ypos = []\n",
    "for t in [0, 1, 2, 3]:  # or in range(4)\n",
    "    ypos.append(f(t))\n",
    "\n",
    "print(\"position y(t) = \", ypos)"
   ]
  },
  {
   "cell_type": "code",
   "execution_count": 255,
   "id": "911801f0",
   "metadata": {},
   "outputs": [],
   "source": [
    "# with multiple parameters\n",
    "f2 = lambda v0, a, t: v0 * t + a * t**2"
   ]
  },
  {
   "cell_type": "code",
   "execution_count": 256,
   "id": "f5b6cb94",
   "metadata": {},
   "outputs": [
    {
     "name": "stdout",
     "output_type": "stream",
     "text": [
      "position y(t) =  [0, 3, 10, 21]\n"
     ]
    }
   ],
   "source": [
    "ypos = []\n",
    "v0 = 1\n",
    "a = 2\n",
    "for t in [0, 1, 2, 3]:  # or in range(4)\n",
    "    ypos.append(f2(v0, a, t))\n",
    "\n",
    "print(\"position y(t) = \", ypos)"
   ]
  },
  {
   "cell_type": "code",
   "execution_count": 257,
   "id": "7ba6f186",
   "metadata": {},
   "outputs": [],
   "source": [
    "# using default values\n",
    "f3 = lambda t, v0=1, a=2: v0 * t + a * t**2  # non-default parameters must come first"
   ]
  },
  {
   "cell_type": "code",
   "execution_count": 258,
   "id": "15777a38",
   "metadata": {},
   "outputs": [
    {
     "name": "stdout",
     "output_type": "stream",
     "text": [
      "position y(t) =  [0, 3, 10, 21]\n"
     ]
    }
   ],
   "source": [
    "ypos = []\n",
    "for t in [0, 1, 2, 3]:  # or in range(4)\n",
    "    ypos.append(f3(t))\n",
    "\n",
    "print(\"position y(t) = \", ypos)"
   ]
  },
  {
   "cell_type": "markdown",
   "id": "6a0c9e83-24a4-419a-9fc4-01b34ef6a3c8",
   "metadata": {},
   "source": [
    "# user input"
   ]
  },
  {
   "cell_type": "markdown",
   "id": "84bd1fb3-19de-4bdf-8b8c-a537dc8222ba",
   "metadata": {},
   "source": [
    "eg. BMI calculator"
   ]
  },
  {
   "cell_type": "markdown",
   "id": "8c9f5688-4528-4cba-a476-2d4ba2b1ca5d",
   "metadata": {},
   "source": [
    "$$BMI = \\frac{mass_{kg}}{{height_m}^2}$$"
   ]
  },
  {
   "cell_type": "code",
   "execution_count": null,
   "id": "3f90ba2e-8d17-4506-8701-39c17d29f945",
   "metadata": {},
   "outputs": [],
   "source": [
    "user = input()"
   ]
  },
  {
   "cell_type": "code",
   "execution_count": null,
   "id": "b3382e2f-ecc9-42fd-b562-a5919200895f",
   "metadata": {},
   "outputs": [],
   "source": [
    "user"
   ]
  },
  {
   "cell_type": "code",
   "execution_count": null,
   "id": "c1b1ff96-2e22-4be4-ad0b-b8bdbd0eb3e5",
   "metadata": {},
   "outputs": [],
   "source": [
    "mass = input(\"Enter your weight in kg: \")"
   ]
  },
  {
   "cell_type": "code",
   "execution_count": null,
   "id": "e40cebe9-813f-4347-a8fe-60b12820e61a",
   "metadata": {},
   "outputs": [],
   "source": [
    "print(mass)\n",
    "type(mass)"
   ]
  },
  {
   "cell_type": "code",
   "execution_count": null,
   "id": "4eb0e223-3524-4bb2-8feb-f5c4e013458c",
   "metadata": {},
   "outputs": [],
   "source": [
    "mass = int(mass)\n",
    "type(weight)"
   ]
  },
  {
   "cell_type": "code",
   "execution_count": null,
   "id": "752e9873-f17f-4dd1-826f-0806775d108f",
   "metadata": {},
   "outputs": [],
   "source": [
    "height = input(\"Enter your height in cm: \")"
   ]
  },
  {
   "cell_type": "code",
   "execution_count": null,
   "id": "7e4a1567-639c-4a35-98f8-54a57c2cb52a",
   "metadata": {},
   "outputs": [],
   "source": [
    "height = int(height)\n",
    "print(height)\n",
    "height = height/100.0\n",
    "height"
   ]
  },
  {
   "cell_type": "code",
   "execution_count": null,
   "id": "b5a1ae96-7a3e-46fc-93e6-f273eaba6891",
   "metadata": {},
   "outputs": [],
   "source": [
    "print(f\"{height:.3f}\") # show more decimal places"
   ]
  },
  {
   "cell_type": "code",
   "execution_count": null,
   "id": "caac3d80-9634-4411-aa8e-f0bfa1e67349",
   "metadata": {},
   "outputs": [],
   "source": [
    "bmi = mass/height**2\n",
    "bmi"
   ]
  },
  {
   "cell_type": "markdown",
   "id": "79483483-de6e-4d90-829b-ae92472652c7",
   "metadata": {},
   "source": [
    "|Category | BMI (kg/m2) |\n",
    "| --- | --- |\n",
    "|\n",
    "Underweight (Severe thinness | \t< 1.. |4|\n",
    "Underweig t (Moderate thinnes | )\t16.0 – 16 |6|7\n",
    "Underweight (Mild thinne|s)\t17.0 – 1|.|73\n",
    "Normal r|nge\t18.5 – |0|.99\n",
    "Overweight (Pre-ob|ese)\t25.0 –| |1.19\n",
    "Obese (Cl|ss I\t0.0 |–| 1.39\n",
    "Obese (Cl|ss I)35.9| |– 1.59\n",
    "Obese (Cl|ss III|)\t≥ 40.0"
   ]
  },
  {
   "cell_type": "markdown",
   "id": "022a8d88-7ed4-4492-9a58-e2aa76b6baef",
   "metadata": {},
   "source": [
    "<table>\n",
    "    <tr>\n",
    "        <th>Category</th>\n",
    "        <th>BMI (kg/m2)</th>\n",
    "    </tr>\n",
    "    <tr>\n",
    "        <td>Underweight (Severe thinness)</td>\n",
    "        <td>< 16.0</td>\n",
    "    </tr>\n",
    "    <tr>\n",
    "        <td>Underweight (Moderate thinness)</td>\n",
    "        <td> 16.0 – 16.9</td>\n",
    "    </tr>\n",
    "    <tr>\n",
    "        <td>Underweight (Mild thinness)</td>\n",
    "        <td>17.0 – 18.4</td>\n",
    "    </tr>\n",
    "    <tr>\n",
    "        <td>Normal range</td>\n",
    "        <td>18.5 – 24.9</td>\n",
    "    </tr>\n",
    "    <tr>\n",
    "        <td>Overweight (Pre-obese)</td>\n",
    "        <td>25.0 – 29.9</td>\n",
    "    </tr>\n",
    "    <tr>\n",
    "        <td>Obese (Class I)</td>\n",
    "        <td>30.0–34.9</td>\n",
    "    </tr>\n",
    "    <tr>\n",
    "        <td>Obese (Class II)</td>\n",
    "        <td>35.0–39.9</td>\n",
    "    </tr>\n",
    "<tr>\n",
    "        <td>Obese (Class III)</td>\n",
    "        <td>≥ 40.0</td>\n",
    "    </tr>\n",
    "</table>"
   ]
  },
  {
   "cell_type": "code",
   "execution_count": null,
   "id": "d0d41e79-e57c-4042-a514-131b2633d872",
   "metadata": {},
   "outputs": [],
   "source": [
    "status = ''\n",
    "if bmi < 16.0:\n",
    "    status = 'Underweight (Severe thinness)'\n",
    "elif bmi <= 16.9:\n",
    "    status = 'Underweight (Moderate thinness)'\n",
    "elif bmi <= 18.4:\n",
    "    status = 'Underweight (Mild thinness)'\n",
    "elif bmi <= 24.9:\n",
    "    status = 'Normal range'\n",
    "elif bmi <= 29.9:\n",
    "    status = 'Overweight (Pre-obese)'\n",
    "elif bmi <= 34.9:\n",
    "    status = 'Obese (Class I)'\n",
    "elif bmi <= 39.9:\n",
    "    status = 'Obese (Class II)'\n",
    "elif bmi >= 40.0:\n",
    "    status = 'Obese (Class III)'\n",
    "status "
   ]
  },
  {
   "cell_type": "markdown",
   "id": "c4e33876",
   "metadata": {},
   "source": [
    "for dealing with streams, use the **io** module\n",
    "\n",
    "\n",
    "https://docs.python.org/3/library/io.html"
   ]
  },
  {
   "cell_type": "code",
   "execution_count": null,
   "id": "fce93418",
   "metadata": {},
   "outputs": [],
   "source": [
    "# TODO"
   ]
  },
  {
   "cell_type": "markdown",
   "id": "d8e2dab9",
   "metadata": {},
   "source": [
    "# installing packages"
   ]
  },
  {
   "cell_type": "markdown",
   "id": "b51baee4",
   "metadata": {},
   "source": [
    "check the environment path"
   ]
  },
  {
   "cell_type": "code",
   "execution_count": null,
   "id": "bf9719c6",
   "metadata": {},
   "outputs": [],
   "source": [
    "import sys"
   ]
  },
  {
   "cell_type": "code",
   "execution_count": null,
   "id": "607e3117",
   "metadata": {},
   "outputs": [],
   "source": [
    "sys.executable"
   ]
  },
  {
   "cell_type": "markdown",
   "id": "87db36e7",
   "metadata": {},
   "source": [
    "the installation will target this environment"
   ]
  },
  {
   "cell_type": "markdown",
   "id": "d9623164",
   "metadata": {},
   "source": [
    "**using pip**"
   ]
  },
  {
   "cell_type": "code",
   "execution_count": null,
   "id": "5a893839",
   "metadata": {},
   "outputs": [],
   "source": [
    "# !pip install package_name"
   ]
  },
  {
   "cell_type": "markdown",
   "id": "41a317f7",
   "metadata": {},
   "source": [
    "or"
   ]
  },
  {
   "cell_type": "code",
   "execution_count": null,
   "id": "7512d5a5",
   "metadata": {},
   "outputs": [],
   "source": [
    "# %pip install package_name"
   ]
  },
  {
   "cell_type": "code",
   "execution_count": null,
   "id": "35e70290",
   "metadata": {},
   "outputs": [],
   "source": [
    "pip install --upgrade pip"
   ]
  },
  {
   "cell_type": "code",
   "execution_count": 2,
   "id": "4fe45265",
   "metadata": {},
   "outputs": [
    {
     "name": "stdout",
     "output_type": "stream",
     "text": [
      "Requirement already satisfied: numpy in c:\\users\\ricar\\anaconda3\\lib\\site-packages (1.23.5)\n",
      "Note: you may need to restart the kernel to use updated packages.\n"
     ]
    }
   ],
   "source": [
    "%pip install numpy"
   ]
  },
  {
   "cell_type": "code",
   "execution_count": 3,
   "id": "e9f5b516",
   "metadata": {},
   "outputs": [
    {
     "name": "stdout",
     "output_type": "stream",
     "text": [
      "Name: numpy\n",
      "Version: 1.23.5\n",
      "Summary: NumPy is the fundamental package for array computing with Python.\n",
      "Home-page: https://www.numpy.org\n",
      "Author: Travis E. Oliphant et al.\n",
      "Author-email: \n",
      "License: BSD\n",
      "Location: c:\\users\\ricar\\anaconda3\\lib\\site-packages\n",
      "Requires: \n",
      "Required-by: astropy, bokeh, Bottleneck, contourpy, daal4py, datashader, datashape, gensim, h5py, holoviews, hvplot, imagecodecs, imageio, imbalanced-learn, matplotlib, mkl-fft, mkl-random, numba, numexpr, pandas, patsy, pyerfa, PyWavelets, scikit-image, scikit-learn, scipy, seaborn, statsmodels, tables, tifffile, transformers, xarray\n",
      "Note: you may need to restart the kernel to use updated packages.\n"
     ]
    }
   ],
   "source": [
    "pip show numpy"
   ]
  },
  {
   "cell_type": "markdown",
   "id": "72c6cc5e",
   "metadata": {},
   "source": [
    "to install a specific version"
   ]
  },
  {
   "cell_type": "markdown",
   "id": "f8657030",
   "metadata": {},
   "source": [
    "`pip install numpy==1.23`"
   ]
  },
  {
   "cell_type": "markdown",
   "id": "f7a9f160",
   "metadata": {},
   "source": [
    "**using conda**"
   ]
  },
  {
   "cell_type": "code",
   "execution_count": null,
   "id": "095a1d83",
   "metadata": {},
   "outputs": [],
   "source": [
    "!conda install -y numpy"
   ]
  },
  {
   "cell_type": "code",
   "execution_count": null,
   "id": "ea3cbe44",
   "metadata": {},
   "outputs": [],
   "source": [
    "# Install a conda package in the current Jupyter kernel\n",
    "!conda install --yes --prefix {sys.prefix} numpy"
   ]
  },
  {
   "cell_type": "code",
   "execution_count": null,
   "id": "34669fe2",
   "metadata": {},
   "outputs": [],
   "source": [
    "# TODO - i haven't added it to the PATH variable so it isn't working"
   ]
  },
  {
   "attachments": {
    "image.png": {
     "image/png": "[encoded data removed]"
    }
   },
   "cell_type": "markdown",
   "id": "116ab9f6",
   "metadata": {},
   "source": [
    "![image.png](attachment:image.png)"
   ]
  },
  {
   "cell_type": "markdown",
   "id": "46f2b1fb",
   "metadata": {},
   "source": [
    "# file and directory access"
   ]
  },
  {
   "cell_type": "markdown",
   "id": "4d76d773",
   "metadata": {},
   "source": [
    "There are a lot of modules related to this\n",
    "\n",
    "https://docs.python.org/3/library/filesys.html"
   ]
  },
  {
   "cell_type": "markdown",
   "id": "a552cdf9",
   "metadata": {},
   "source": [
    "Built-in function open() - The standard way to open files for reading and writing.\n",
    "\n",
    "https://docs.python.org/3/library/functions.html#open"
   ]
  },
  {
   "cell_type": "markdown",
   "id": "6e4e61b3",
   "metadata": {},
   "source": [
    "print the working directory"
   ]
  },
  {
   "cell_type": "code",
   "execution_count": null,
   "id": "a723f174",
   "metadata": {},
   "outputs": [],
   "source": [
    "pwd"
   ]
  },
  {
   "cell_type": "code",
   "execution_count": null,
   "id": "41275d38",
   "metadata": {},
   "outputs": [],
   "source": [
    "import os"
   ]
  },
  {
   "cell_type": "markdown",
   "id": "d7922626",
   "metadata": {},
   "source": [
    "os - Operating system interfaces, including functions to work with files at a lower level than Python file objects.\n",
    "\n",
    "https://docs.python.org/3/library/os.html#module-os"
   ]
  },
  {
   "cell_type": "code",
   "execution_count": null,
   "id": "fdef81d5",
   "metadata": {},
   "outputs": [],
   "source": [
    "help(dir)"
   ]
  },
  {
   "cell_type": "code",
   "execution_count": null,
   "id": "b0c56de4",
   "metadata": {},
   "outputs": [],
   "source": [
    "dir(os)"
   ]
  },
  {
   "cell_type": "code",
   "execution_count": null,
   "id": "45827811",
   "metadata": {},
   "outputs": [],
   "source": [
    "os.getcwd()"
   ]
  },
  {
   "cell_type": "code",
   "execution_count": null,
   "id": "7cbf4560",
   "metadata": {},
   "outputs": [],
   "source": [
    "# TODO - there's a lot of useful things it can be used for. Ask ChatGPT"
   ]
  },
  {
   "cell_type": "code",
   "execution_count": null,
   "id": "ca17f59a",
   "metadata": {},
   "outputs": [],
   "source": [
    "import shutil"
   ]
  },
  {
   "cell_type": "markdown",
   "id": "0a56fa22",
   "metadata": {},
   "source": [
    "shutil — High-level file operations\n",
    "\n",
    "https://docs.python.org/3/library/shutil.html"
   ]
  },
  {
   "cell_type": "markdown",
   "id": "c81bd89c",
   "metadata": {},
   "source": [
    "a path on Windows looks like\n",
    "\n",
    "`C:\\Users\\user_name\\projectx\\datasets\\file.txt`\n",
    "\n",
    "on a Mac or Linux, looks like\n",
    "\n",
    "`/home/user_name/projectx/datasets/file.txt`\n",
    "\n",
    "that is, Windows machines use backslashes `\\` in paths, while Macs/Linux use forward slashes `/`. "
   ]
  },
  {
   "cell_type": "markdown",
   "id": "10f9abc1",
   "metadata": {},
   "source": [
    "eg. automatic file sorter in file explorer - create a folder for each file extension and place the files in the corresponding folder"
   ]
  },
  {
   "cell_type": "code",
   "execution_count": null,
   "id": "3d274869",
   "metadata": {},
   "outputs": [],
   "source": [
    "path_abs = r\"D:\\repos\\python-jupyter\\automatic-file-sorter\" # absolute path, using a raw string\n",
    "path_abs"
   ]
  },
  {
   "cell_type": "markdown",
   "id": "e61e80fc",
   "metadata": {},
   "source": [
    "Both string and bytes literals may optionally be prefixed with a letter `'r'` or `'R'`; such constructs are called raw string literals and raw bytes literals respectively and treat backslashes as literal characters. As a result, in raw string literals, `'\\U'` and `'\\u'` escapes are not treated specially."
   ]
  },
  {
   "cell_type": "code",
   "execution_count": null,
   "id": "6547c6f6-3ff3-4054-8330-407b42b487f4",
   "metadata": {},
   "outputs": [],
   "source": [
    "os.listdir(path_abs)"
   ]
  },
  {
   "cell_type": "markdown",
   "id": "e7cf611b",
   "metadata": {},
   "source": [
    "for portability, it's better to use forward slashes and relative paths in the code"
   ]
  },
  {
   "cell_type": "code",
   "execution_count": null,
   "id": "ae2818ab",
   "metadata": {},
   "outputs": [],
   "source": [
    "os.listdir('.') # working directory"
   ]
  },
  {
   "cell_type": "code",
   "execution_count": null,
   "id": "989468b6-ff04-4cd7-8b60-a80f87f14a37",
   "metadata": {},
   "outputs": [],
   "source": [
    "path_rel = './automatic-file-sorter' # relative path\n",
    "path_rel"
   ]
  },
  {
   "cell_type": "code",
   "execution_count": null,
   "id": "78be6ab0",
   "metadata": {},
   "outputs": [],
   "source": [
    "os.listdir(path_rel)"
   ]
  },
  {
   "cell_type": "code",
   "execution_count": null,
   "id": "5a9d8dd4",
   "metadata": {},
   "outputs": [],
   "source": [
    "os.path.exists(path_rel + 'some_folder_name') # check if a folder or path exists"
   ]
  },
  {
   "cell_type": "code",
   "execution_count": null,
   "id": "d35afd4b",
   "metadata": {},
   "outputs": [],
   "source": [
    "folder_names = ['csv files', 'image files', 'gif files', 'text files']\n",
    "\n",
    "for e in folder_names:\n",
    "    if not os.path.exists(path_rel + '/' + e):\n",
    "        os.mkdir(path_rel + '/' + e)"
   ]
  },
  {
   "cell_type": "code",
   "execution_count": null,
   "id": "59d8d4ad",
   "metadata": {},
   "outputs": [],
   "source": [
    "os.listdir(path_rel)"
   ]
  },
  {
   "cell_type": "code",
   "execution_count": null,
   "id": "540d04c3",
   "metadata": {},
   "outputs": [],
   "source": [
    "filenames = os.listdir(path_rel)\n",
    "\n",
    "for filename in filenames:\n",
    "    if '.txt' in filename:\n",
    "        # move from initial path to new path\n",
    "        shutil.move(path_rel + '/' + filename, path_rel + '/' + 'text files' + '/' + filename)\n",
    "    elif '.csv' in filename:\n",
    "        shutil.move(path_rel + '/' + filename, path_rel + '/' + 'csv files' + '/' + filename)\n",
    "    elif '.jpeg' in filename or '.png' in filename:\n",
    "        shutil.move(path_rel + '/' + filename, path_rel + '/' + 'image files' + '/' + filename)\n",
    "    elif '.gif' in filename:\n",
    "        shutil.move(path_rel + '/' + filename, path_rel + '/' + 'gif files' + '/' + filename)"
   ]
  },
  {
   "cell_type": "code",
   "execution_count": null,
   "id": "5c91661e",
   "metadata": {},
   "outputs": [],
   "source": [
    "os.listdir(path_rel)"
   ]
  },
  {
   "cell_type": "markdown",
   "id": "11063016",
   "metadata": {},
   "source": [
    "# regular expressions"
   ]
  },
  {
   "cell_type": "markdown",
   "id": "bfadea0b",
   "metadata": {},
   "source": [
    "**re** — Regular expression operations\n",
    "\n",
    "https://docs.python.org/3/library/re.html"
   ]
  },
  {
   "cell_type": "code",
   "execution_count": 183,
   "id": "dd84da35",
   "metadata": {},
   "outputs": [],
   "source": [
    "import re"
   ]
  },
  {
   "cell_type": "code",
   "execution_count": 184,
   "id": "9300bf6d",
   "metadata": {},
   "outputs": [],
   "source": [
    "text = \"Hello!\\n  World... \\n \\r ssssss\""
   ]
  },
  {
   "cell_type": "code",
   "execution_count": 185,
   "id": "4f069dec",
   "metadata": {},
   "outputs": [
    {
     "data": {
      "text/plain": [
       "['Hello!', 'World...', 'ssssss']"
      ]
     },
     "execution_count": 185,
     "metadata": {},
     "output_type": "execute_result"
    }
   ],
   "source": [
    "# Split the text into a list of sentences using regex\n",
    "sentences = re.split(r'(?<=[.!?])\\s+', text)\n",
    "sentences"
   ]
  }
 ],
 "metadata": {
  "kernelspec": {
   "display_name": "Python 3 (ipykernel)",
   "language": "python",
   "name": "python3"
  },
  "language_info": {
   "codemirror_mode": {
    "name": "ipython",
    "version": 3
   },
   "file_extension": ".py",
   "mimetype": "text/x-python",
   "name": "python",
   "nbconvert_exporter": "python",
   "pygments_lexer": "ipython3",
   "version": "3.10.4"
  },
  "toc": {
   "base_numbering": 1,
   "nav_menu": {},
   "number_sections": true,
   "sideBar": true,
   "skip_h1_title": false,
   "title_cell": "Table of Contents",
   "title_sidebar": "Contents",
   "toc_cell": false,
   "toc_position": {
    "height": "calc(100% - 180px)",
    "left": "10px",
    "top": "150px",
    "width": "384px"
   },
   "toc_section_display": true,
   "toc_window_display": true
  }
 },
 "nbformat": 4,
 "nbformat_minor": 5
}
