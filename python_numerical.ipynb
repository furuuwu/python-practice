{
 "cells": [
  {
   "cell_type": "code",
   "execution_count": null,
   "id": "3726ea4c-0748-4954-be3c-d00152496a67",
   "metadata": {},
   "outputs": [],
   "source": [
    "%pip install jupyter_contrib_nbextensions\n",
    "!jupyter contrib nbextension install --user\n",
    "!jupyter nbextension enable toc2/main"
   ]
  },
  {
   "cell_type": "markdown",
   "id": "bb359972",
   "metadata": {},
   "source": [
    "# numpy"
   ]
  },
  {
   "cell_type": "markdown",
   "id": "5cd26229",
   "metadata": {},
   "source": [
    "https://numpy.org/"
   ]
  },
  {
   "cell_type": "code",
   "execution_count": 2,
   "id": "506b0ef4",
   "metadata": {},
   "outputs": [],
   "source": [
    "import numpy as np"
   ]
  },
  {
   "cell_type": "code",
   "execution_count": 48,
   "id": "2f5b391f",
   "metadata": {},
   "outputs": [
    {
     "data": {
      "text/plain": [
       "'2.0.0'"
      ]
     },
     "execution_count": 48,
     "metadata": {},
     "output_type": "execute_result"
    }
   ],
   "source": [
    "np.__version__"
   ]
  },
  {
   "cell_type": "code",
   "execution_count": 260,
   "id": "9b5427b2",
   "metadata": {},
   "outputs": [
    {
     "data": {
      "text/plain": [
       "np.float64(0.8775825618903728)"
      ]
     },
     "execution_count": 260,
     "metadata": {},
     "output_type": "execute_result"
    }
   ],
   "source": [
    "np.cos(0.5)"
   ]
  },
  {
   "cell_type": "markdown",
   "id": "005ec18e",
   "metadata": {},
   "source": [
    "## numpy arrays - ndarray"
   ]
  },
  {
   "cell_type": "markdown",
   "id": "398aeefd",
   "metadata": {},
   "source": [
    "The core functionality of NumPy is the `ndarray` class, a multidimensional (n-dimensional) array. All elements of the array must be of the same type"
   ]
  },
  {
   "cell_type": "code",
   "execution_count": 16,
   "id": "e75a879e",
   "metadata": {},
   "outputs": [
    {
     "data": {
      "text/plain": [
       "array([[1, 2, 3],\n",
       "       [4, 5, 6]])"
      ]
     },
     "execution_count": 16,
     "metadata": {},
     "output_type": "execute_result"
    }
   ],
   "source": [
    "x = np.array([[1, 2, 3], [4, 5, 6]])\n",
    "x"
   ]
  },
  {
   "cell_type": "code",
   "execution_count": 17,
   "id": "19ac6006",
   "metadata": {},
   "outputs": [
    {
     "name": "stdout",
     "output_type": "stream",
     "text": [
      "x:\n",
      "[[1 2 3]\n",
      " [4 5 6]]\n"
     ]
    }
   ],
   "source": [
    "print(\"x:\\n{}\".format(x))"
   ]
  },
  {
   "cell_type": "code",
   "execution_count": 265,
   "id": "e4d29e3c",
   "metadata": {},
   "outputs": [
    {
     "name": "stdout",
     "output_type": "stream",
     "text": [
      "printing the list [1,2,3]:  [1, 2, 3]\n",
      "printing the array np.array([1,2,3]):  [1 2 3]\n"
     ]
    }
   ],
   "source": [
    "print(\"printing the list [1,2,3]: \", [1, 2, 3])\n",
    "print(\"printing the array np.array([1,2,3]): \", np.array([1, 2, 3]))\n",
    "# the difference is numpy array elements are separeted by spaces rather than commas"
   ]
  },
  {
   "cell_type": "code",
   "execution_count": 264,
   "id": "ebe0be25",
   "metadata": {},
   "outputs": [
    {
     "name": "stdout",
     "output_type": "stream",
     "text": [
      "np.arange(5) gives:  [0 1 2 3 4]\n",
      "np.arange(0,3.5,.5) gives:  [0.  0.5 1.  1.5 2.  2.5 3. ]\n"
     ]
    }
   ],
   "source": [
    "print(\"np.arange(5) gives: \", np.arange(5))\n",
    "print(\"np.arange(0,3.5,.5) gives: \", np.arange(0, 3.2, 0.5))\n",
    "# array from 0 to 3.5 steps 0.5 (excluding 7)\n",
    "# np.arange(start,stop,step) is very similar to the list function range(start,stop,step)"
   ]
  },
  {
   "cell_type": "code",
   "execution_count": 266,
   "id": "7567a2b1",
   "metadata": {},
   "outputs": [
    {
     "name": "stdout",
     "output_type": "stream",
     "text": [
      "np.linspace(0,8,6) gives:  [0.  1.6 3.2 4.8 6.4 8. ]\n"
     ]
    }
   ],
   "source": [
    "print(\"np.linspace(0,8,6) gives: \", np.linspace(0, 8, 6))\n",
    "# create array with 6 values between 0 and 8"
   ]
  },
  {
   "cell_type": "code",
   "execution_count": 267,
   "id": "a15a5908",
   "metadata": {},
   "outputs": [
    {
     "name": "stdout",
     "output_type": "stream",
     "text": [
      "array with zeros:  [0. 0. 0. 0. 0.]\n",
      "array with ones:  [[1.]\n",
      " [1.]]\n"
     ]
    }
   ],
   "source": [
    "print(\"array with zeros: \", np.zeros(5))  # generate array with 5 zeros\n",
    "print(\"array with ones: \", np.ones([2, 1]))\n",
    "# generate two rows and one column, with ones"
   ]
  },
  {
   "cell_type": "code",
   "execution_count": 268,
   "id": "1d1695fc",
   "metadata": {},
   "outputs": [
    {
     "name": "stdout",
     "output_type": "stream",
     "text": [
      "array with random values:  [[0.24452965 0.85958015]]\n"
     ]
    }
   ],
   "source": [
    "print(\"array with random values: \", np.random.random([1, 2]))\n",
    "# generate random numbers in one row and two columns, in interval (0,1)"
   ]
  },
  {
   "cell_type": "code",
   "execution_count": 269,
   "id": "0af4d110",
   "metadata": {},
   "outputs": [
    {
     "name": "stdout",
     "output_type": "stream",
     "text": [
      "A =  [[1 2 3]\n",
      " [4 5 6]]\n",
      "Data type of A is:  int64\n",
      "dimension of A is: 2\n",
      "shape of A is:  (2, 3)\n",
      "size of A is:  6\n"
     ]
    }
   ],
   "source": [
    "A = np.array([[1, 2, 3], [4, 5, 6]])\n",
    "print(\"A = \", A)\n",
    "print(\"Data type of A is: \", A.dtype)\n",
    "print(\"dimension of A is:\", A.ndim)\n",
    "print(\"shape of A is: \", A.shape)\n",
    "print(\"size of A is: \", A.size)"
   ]
  },
  {
   "cell_type": "code",
   "execution_count": 270,
   "id": "86858861",
   "metadata": {},
   "outputs": [
    {
     "name": "stdout",
     "output_type": "stream",
     "text": [
      "u =  [0.   0.25 0.5  0.75 1.  ]\n",
      "Data type of u is:  float64 \n",
      "\n"
     ]
    }
   ],
   "source": [
    "u = np.linspace(0, 1, 5)\n",
    "print(\"u = \", u)\n",
    "print(\"Data type of u is: \", u.dtype, \"\\n\")"
   ]
  },
  {
   "cell_type": "markdown",
   "id": "3efcf46c",
   "metadata": {},
   "source": [
    "## vectorized functions"
   ]
  },
  {
   "cell_type": "code",
   "execution_count": 271,
   "id": "28e5577b",
   "metadata": {},
   "outputs": [
    {
     "data": {
      "text/plain": [
       "array([ 0.0000000e+00,  1.0000000e+00,  1.2246468e-16, -1.0000000e+00,\n",
       "       -2.4492936e-16])"
      ]
     },
     "execution_count": 271,
     "metadata": {},
     "output_type": "execute_result"
    }
   ],
   "source": [
    "x = np.arange(0, 1.25, 0.25)\n",
    "np.sin(2 * np.pi * x)"
   ]
  },
  {
   "cell_type": "code",
   "execution_count": 272,
   "id": "a71273c2",
   "metadata": {},
   "outputs": [
    {
     "data": {
      "text/plain": [
       "np.float64(6.0)"
      ]
     },
     "execution_count": 272,
     "metadata": {},
     "output_type": "execute_result"
    }
   ],
   "source": [
    "np.mean([5, 6, 7])  # mean/average of [5, 6, 7]"
   ]
  },
  {
   "cell_type": "code",
   "execution_count": 273,
   "id": "38ee31e2",
   "metadata": {},
   "outputs": [
    {
     "data": {
      "text/plain": [
       "np.int64(2)"
      ]
     },
     "execution_count": 273,
     "metadata": {},
     "output_type": "execute_result"
    }
   ],
   "source": [
    "np.argmax([5, 6, 7])  # find the index of the maximum element in the array\n",
    "# gives the value of the index 2 (identifies the 3rd element in the array as the max value)"
   ]
  },
  {
   "cell_type": "markdown",
   "id": "bfb05041",
   "metadata": {},
   "source": [
    "## broadcasting"
   ]
  },
  {
   "cell_type": "markdown",
   "id": "9cfcfed6",
   "metadata": {},
   "source": [
    "eg. adding a vector to each row of a matrix"
   ]
  },
  {
   "cell_type": "code",
   "execution_count": 274,
   "id": "c14a3bee",
   "metadata": {},
   "outputs": [
    {
     "name": "stdout",
     "output_type": "stream",
     "text": [
      "Result without broadcasting:\n",
      "[[11 22 33]\n",
      " [14 25 36]\n",
      " [17 28 39]]\n"
     ]
    }
   ],
   "source": [
    "## without broadcasting (using explicit loops)\n",
    "\n",
    "# Define a 2D array (matrix)\n",
    "matrix = np.array([[1, 2, 3], [4, 5, 6], [7, 8, 9]])\n",
    "\n",
    "# Define a 1D array (vector)\n",
    "vector = np.array([10, 20, 30])\n",
    "\n",
    "# Initialize an empty array to store the result\n",
    "result = np.zeros_like(matrix)\n",
    "\n",
    "# Add the vector to each row of the matrix using loops\n",
    "for i in range(matrix.shape[0]):\n",
    "    result[i, :] = matrix[i, :] + vector\n",
    "\n",
    "print(\"Result without broadcasting:\")\n",
    "print(result)"
   ]
  },
  {
   "cell_type": "code",
   "execution_count": 275,
   "id": "bbd94988",
   "metadata": {},
   "outputs": [
    {
     "name": "stdout",
     "output_type": "stream",
     "text": [
      "Result with broadcasting:\n",
      "[[11 22 33]\n",
      " [14 25 36]\n",
      " [17 28 39]]\n"
     ]
    }
   ],
   "source": [
    "## with broadcasting (using vectorized operations)\n",
    "\n",
    "# Define a 2D array (matrix)\n",
    "matrix = np.array([[1, 2, 3], [4, 5, 6], [7, 8, 9]])\n",
    "\n",
    "# Define a 1D array (vector)\n",
    "vector = np.array([10, 20, 30])\n",
    "\n",
    "# Add the vector to each row of the matrix using broadcasting\n",
    "result = matrix + vector\n",
    "\n",
    "print(\"Result with broadcasting:\")\n",
    "print(result)"
   ]
  },
  {
   "cell_type": "markdown",
   "id": "17c7c495",
   "metadata": {},
   "source": [
    "Array functions apply to multi-dimensional arrays as well, but we have to choose along which axis of the array to apply the function"
   ]
  },
  {
   "cell_type": "code",
   "execution_count": 276,
   "id": "b927d5f7",
   "metadata": {},
   "outputs": [
    {
     "name": "stdout",
     "output_type": "stream",
     "text": [
      "Sum of all elements in M: 17\n",
      "Sum of the columns: [7 7 3]\n"
     ]
    },
    {
     "data": {
      "text/plain": [
       "array([8, 4, 5])"
      ]
     },
     "execution_count": 276,
     "metadata": {},
     "output_type": "execute_result"
    }
   ],
   "source": [
    "M = np.array([[2, 4, 2], [2, 1, 1], [3, 2, 0]])\n",
    "\n",
    "print(\"Sum of all elements in M:\", np.sum(M))\n",
    "\n",
    "print(\"Sum of the columns:\", np.sum(M, axis=0))  # sum of elements along axis 0\n",
    "\n",
    "np.sum(M, axis=1)  # sum of the rows"
   ]
  },
  {
   "cell_type": "markdown",
   "id": "b7bcf84c",
   "metadata": {},
   "source": [
    "## indexing and slicing"
   ]
  },
  {
   "cell_type": "code",
   "execution_count": 277,
   "id": "683b390b",
   "metadata": {},
   "outputs": [],
   "source": [
    "import pprint"
   ]
  },
  {
   "cell_type": "code",
   "execution_count": 278,
   "id": "037c9a41",
   "metadata": {},
   "outputs": [],
   "source": [
    "pp = pprint.PrettyPrinter(width=41, compact=True)"
   ]
  },
  {
   "cell_type": "code",
   "execution_count": 279,
   "id": "f2f4a477",
   "metadata": {},
   "outputs": [
    {
     "name": "stdout",
     "output_type": "stream",
     "text": [
      "array v = \n",
      "array([[1, 2, 3],\n",
      "       [4, 5, 6],\n",
      "       [7, 8, 9]])\n"
     ]
    }
   ],
   "source": [
    "v = np.array([[1, 2, 3], [4, 5, 6], [7, 8, 9]])\n",
    "print(\"array v = \")\n",
    "pp.pprint(v)"
   ]
  },
  {
   "cell_type": "code",
   "execution_count": 280,
   "id": "9ad5ff57",
   "metadata": {},
   "outputs": [
    {
     "name": "stdout",
     "output_type": "stream",
     "text": [
      "The third element v[2] =  [7 8 9]\n",
      "The element at row index 1 and column index 2= 6\n",
      "The element v[1,0] =  4\n"
     ]
    }
   ],
   "source": [
    "print(\"The third element v[2] = \", v[2])\n",
    "print(\"The element at row index 1 and column index 2=\", v[1][2])\n",
    "print(\"The element v[1,0] = \", v[1, 0])"
   ]
  },
  {
   "cell_type": "code",
   "execution_count": 281,
   "id": "0e0f6ce3",
   "metadata": {},
   "outputs": [
    {
     "name": "stdout",
     "output_type": "stream",
     "text": [
      "The column with index 0 =  [1 4 7]\n",
      "The row with index 2 =  [7 8 9]\n"
     ]
    }
   ],
   "source": [
    "print(\"The column with index 0 = \", v[:, 0])\n",
    "print(\"The row with index 2 = \", v[2, :])"
   ]
  },
  {
   "cell_type": "code",
   "execution_count": 282,
   "id": "41748246",
   "metadata": {
    "scrolled": true
   },
   "outputs": [
    {
     "name": "stdout",
     "output_type": "stream",
     "text": [
      "The sub-matrix v[1:3, 1:3] =  [[5 6]\n",
      " [8 9]]\n"
     ]
    }
   ],
   "source": [
    "print(\"The sub-matrix v[1:3, 1:3] = \", v[1:3, 1:3])"
   ]
  },
  {
   "cell_type": "markdown",
   "id": "ef2a596c-a9ed-4f42-a2a3-8dba6a3e09c0",
   "metadata": {},
   "source": [
    "## reshaping"
   ]
  },
  {
   "cell_type": "markdown",
   "id": "4495c2b0-bcc6-45e3-b35e-26460226afca",
   "metadata": {},
   "source": [
    "**general reshaping**"
   ]
  },
  {
   "cell_type": "markdown",
   "id": "e03ae3d1-a4f9-4ed0-9ca6-35bc646aab52",
   "metadata": {},
   "source": [
    "`reshape()` changes the shape of an array to any desired shape\n",
    "\n",
    "`np.reshape(a, newshape, order='C')`\n",
    "* newshape: Desired shape. Can be an integer or a tuple of integers.\n",
    "* order: {'C', 'F', 'A'}, optional. Specifies the order to read/write the elements"
   ]
  },
  {
   "cell_type": "code",
   "execution_count": 8,
   "id": "1fb8f2fa-9530-4645-8df9-ea2106a3ef1b",
   "metadata": {},
   "outputs": [
    {
     "data": {
      "text/plain": [
       "array([ 0,  1,  2,  3,  4,  5,  6,  7,  8,  9, 10, 11])"
      ]
     },
     "execution_count": 8,
     "metadata": {},
     "output_type": "execute_result"
    }
   ],
   "source": [
    "# Original 1D array\n",
    "a = np.arange(12)\n",
    "a"
   ]
  },
  {
   "cell_type": "code",
   "execution_count": 10,
   "id": "5793800f-5a07-4cc3-ad31-9d58c0ba9d85",
   "metadata": {},
   "outputs": [
    {
     "data": {
      "text/plain": [
       "array([[ 0,  1,  2,  3],\n",
       "       [ 4,  5,  6,  7],\n",
       "       [ 8,  9, 10, 11]])"
      ]
     },
     "execution_count": 10,
     "metadata": {},
     "output_type": "execute_result"
    }
   ],
   "source": [
    "# Reshape to 3x4\n",
    "b = a.reshape((3, 4))\n",
    "b"
   ]
  },
  {
   "cell_type": "code",
   "execution_count": 11,
   "id": "db7197a4-b552-4611-bf08-cf919c2f0c62",
   "metadata": {},
   "outputs": [
    {
     "data": {
      "text/plain": [
       "array([[[ 0,  1,  2],\n",
       "        [ 3,  4,  5]],\n",
       "\n",
       "       [[ 6,  7,  8],\n",
       "        [ 9, 10, 11]]])"
      ]
     },
     "execution_count": 11,
     "metadata": {},
     "output_type": "execute_result"
    }
   ],
   "source": [
    "# Reshape to 2x2x3\n",
    "c = a.reshape((2, 2, 3))\n",
    "c"
   ]
  },
  {
   "cell_type": "markdown",
   "id": "f99f11cf-1b29-4a90-9efc-7fc4a381a615",
   "metadata": {},
   "source": [
    "**flattening** (reshaping to 1D)"
   ]
  },
  {
   "cell_type": "markdown",
   "id": "4494be29-74ed-4594-a3e6-90b47ac6bf54",
   "metadata": {},
   "source": [
    "Both `flatten` and `ravel` convert multi-dimensional arrays into 1D arrays. The difference is that flatten returns a copy, whereas ravel returns a view when possible"
   ]
  },
  {
   "cell_type": "markdown",
   "id": "8f1fab23-da7d-4f2f-ba75-ae2562075fa8",
   "metadata": {},
   "source": [
    "`X = X.flatten()` reshapes the array X from a higher-dimensional array (typically 2D or more) into a 1D array. Specifically, it converts a multi-dimensional array into a single, contiguous 1D array by collapsing all the dimensions."
   ]
  },
  {
   "cell_type": "code",
   "execution_count": 3,
   "id": "358cf831-5981-4550-9b2a-88dea43bb6a7",
   "metadata": {},
   "outputs": [],
   "source": [
    "X = np.array([[1, 2],\n",
    "              [3, 4],\n",
    "              [5, 6]])"
   ]
  },
  {
   "cell_type": "code",
   "execution_count": 5,
   "id": "f1119d24-557b-4c1f-94a7-0c21b105280c",
   "metadata": {},
   "outputs": [
    {
     "data": {
      "text/plain": [
       "(3, 2)"
      ]
     },
     "execution_count": 5,
     "metadata": {},
     "output_type": "execute_result"
    }
   ],
   "source": [
    "X.shape # 2D array X with a shape of (n_samples, n_features)=(3,2)"
   ]
  },
  {
   "cell_type": "code",
   "execution_count": 7,
   "id": "83ef4c70-4261-4e88-8225-3762cb834c6c",
   "metadata": {},
   "outputs": [
    {
     "data": {
      "text/plain": [
       "array([1, 2, 3, 4, 5, 6])"
      ]
     },
     "execution_count": 7,
     "metadata": {},
     "output_type": "execute_result"
    }
   ],
   "source": [
    "X_flat = X.flatten()\n",
    "X_flat"
   ]
  },
  {
   "cell_type": "code",
   "execution_count": 16,
   "id": "14083102-c21a-48cb-a0af-aa8cd0f70e0f",
   "metadata": {},
   "outputs": [],
   "source": [
    "a = np.array([[1, 2, 3],\n",
    "              [4, 5, 6]])"
   ]
  },
  {
   "cell_type": "code",
   "execution_count": 17,
   "id": "54b9ee09-1ccf-43c6-b730-2b74086c9479",
   "metadata": {},
   "outputs": [
    {
     "data": {
      "text/plain": [
       "array([1, 2, 3, 4, 5, 6])"
      ]
     },
     "execution_count": 17,
     "metadata": {},
     "output_type": "execute_result"
    }
   ],
   "source": [
    "# Using flatten\n",
    "flattened = a.flatten()\n",
    "flattened"
   ]
  },
  {
   "cell_type": "code",
   "execution_count": 18,
   "id": "b24852a4-9405-48c1-abc6-2c4d6a1bf69d",
   "metadata": {},
   "outputs": [
    {
     "name": "stdout",
     "output_type": "stream",
     "text": [
      "Modified flattened array: [100   2   3   4   5   6]\n",
      "Original array after modifying flattened: [[1 2 3]\n",
      " [4 5 6]]\n"
     ]
    }
   ],
   "source": [
    "# Modify the flattened array\n",
    "flattened[0] = 100\n",
    "print(\"Modified flattened array:\", flattened)\n",
    "print(\"Original array after modifying flattened:\", a)"
   ]
  },
  {
   "cell_type": "markdown",
   "id": "7632d88f-ca4f-47ff-b3e8-c8781095f091",
   "metadata": {},
   "source": [
    "`ravel`, if possible, returns a `view` (i.e., a reference to the original data). If not, it returns a copy. If a view is returned, modifying the flattened array will affect the original array."
   ]
  },
  {
   "cell_type": "code",
   "execution_count": 19,
   "id": "7943d4d4-204a-4fec-9ef5-103602006242",
   "metadata": {},
   "outputs": [
    {
     "data": {
      "text/plain": [
       "array([1, 2, 3, 4, 5, 6])"
      ]
     },
     "execution_count": 19,
     "metadata": {},
     "output_type": "execute_result"
    }
   ],
   "source": [
    "# Using ravel\n",
    "\n",
    "a = np.array([[1, 2, 3],\n",
    "              [4, 5, 6]])\n",
    "\n",
    "raveled = a.ravel()\n",
    "raveled"
   ]
  },
  {
   "cell_type": "code",
   "execution_count": 20,
   "id": "532bc765-84ba-49d5-94ab-11aed3886a9d",
   "metadata": {},
   "outputs": [
    {
     "name": "stdout",
     "output_type": "stream",
     "text": [
      "Modified raveled array: [100   2   3   4   5   6]\n",
      "Original array after modifying raveled: [[100   2   3]\n",
      " [  4   5   6]]\n"
     ]
    }
   ],
   "source": [
    "# Modify the raveled array\n",
    "raveled[0] = 100\n",
    "print(\"Modified raveled array:\", raveled)\n",
    "print(\"Original array after modifying raveled:\", a)"
   ]
  },
  {
   "cell_type": "markdown",
   "id": "dc62f746-b455-48b6-bdb1-04636d5c05df",
   "metadata": {},
   "source": [
    "**rearranging the axes**"
   ]
  },
  {
   "cell_type": "markdown",
   "id": "989edde3-edea-4e87-bfbb-d4ba83057188",
   "metadata": {},
   "source": [
    "Both `transpose` and `swapaxes` are used to rearrange the axes of an array"
   ]
  },
  {
   "cell_type": "markdown",
   "id": "58a9a63f-2f68-42c0-a5a1-58ff7f201b18",
   "metadata": {},
   "source": [
    "`transpose` can rearrange all axes of an array in any order\n",
    "* accepts a tuple specifying the desired order of axes"
   ]
  },
  {
   "cell_type": "code",
   "execution_count": 22,
   "id": "b9bc37c5-dc23-4824-b26d-5d5d2890fb55",
   "metadata": {},
   "outputs": [],
   "source": [
    "# Original 2D array\n",
    "a = np.array([[1, 2, 3],\n",
    "              [4, 5, 6]])"
   ]
  },
  {
   "cell_type": "code",
   "execution_count": 23,
   "id": "9c9277e6-9a85-44d4-a2df-fe56a24f41fc",
   "metadata": {},
   "outputs": [
    {
     "data": {
      "text/plain": [
       "array([[1, 4],\n",
       "       [2, 5],\n",
       "       [3, 6]])"
      ]
     },
     "execution_count": 23,
     "metadata": {},
     "output_type": "execute_result"
    }
   ],
   "source": [
    "transposed = a.transpose()\n",
    "transposed"
   ]
  },
  {
   "cell_type": "code",
   "execution_count": 25,
   "id": "bf30054b-ad64-4a17-b900-dfd8f61f8d0c",
   "metadata": {},
   "outputs": [
    {
     "data": {
      "text/plain": [
       "array([[[ 0,  1,  2,  3],\n",
       "        [ 4,  5,  6,  7],\n",
       "        [ 8,  9, 10, 11]],\n",
       "\n",
       "       [[12, 13, 14, 15],\n",
       "        [16, 17, 18, 19],\n",
       "        [20, 21, 22, 23]]])"
      ]
     },
     "execution_count": 25,
     "metadata": {},
     "output_type": "execute_result"
    }
   ],
   "source": [
    "# original 3D array\n",
    "a = np.arange(24).reshape((2, 3, 4))\n",
    "a"
   ]
  },
  {
   "cell_type": "code",
   "execution_count": 27,
   "id": "379c3d88-a064-4f5b-ab2b-c0ac2307fb9f",
   "metadata": {},
   "outputs": [
    {
     "data": {
      "text/plain": [
       "array([[[ 0,  1,  2,  3],\n",
       "        [12, 13, 14, 15]],\n",
       "\n",
       "       [[ 4,  5,  6,  7],\n",
       "        [16, 17, 18, 19]],\n",
       "\n",
       "       [[ 8,  9, 10, 11],\n",
       "        [20, 21, 22, 23]]])"
      ]
     },
     "execution_count": 27,
     "metadata": {},
     "output_type": "execute_result"
    }
   ],
   "source": [
    "# Transpose by rearranging axes\n",
    "transposed = a.transpose((1, 0, 2))\n",
    "transposed\n",
    "# The axes are reordered from (0, 1, 2) to (1, 0, 2), effectively swapping the first two axes"
   ]
  },
  {
   "cell_type": "code",
   "execution_count": 28,
   "id": "53123f92-f753-47d8-8c7f-07f3e60cfd23",
   "metadata": {},
   "outputs": [
    {
     "data": {
      "text/plain": [
       "array([[[ 0, 12],\n",
       "        [ 4, 16],\n",
       "        [ 8, 20]],\n",
       "\n",
       "       [[ 1, 13],\n",
       "        [ 5, 17],\n",
       "        [ 9, 21]],\n",
       "\n",
       "       [[ 2, 14],\n",
       "        [ 6, 18],\n",
       "        [10, 22]],\n",
       "\n",
       "       [[ 3, 15],\n",
       "        [ 7, 19],\n",
       "        [11, 23]]])"
      ]
     },
     "execution_count": 28,
     "metadata": {},
     "output_type": "execute_result"
    }
   ],
   "source": [
    "# Transpose with a different axis order\n",
    "transposed = a.transpose((2, 1, 0))\n",
    "transposed"
   ]
  },
  {
   "cell_type": "markdown",
   "id": "986ef15d-7898-4ee1-a324-130643d552b7",
   "metadata": {},
   "source": [
    "`swapaxes` is designed to swap exactly two axes\n",
    "* takes two integers representing the axes to swap"
   ]
  },
  {
   "cell_type": "code",
   "execution_count": 29,
   "id": "12c976f2-c517-4e4e-9441-ecc7a0b360dd",
   "metadata": {},
   "outputs": [],
   "source": [
    "a = np.array([[1, 2, 3],\n",
    "              [4, 5, 6]])"
   ]
  },
  {
   "cell_type": "code",
   "execution_count": 30,
   "id": "1de8e70f-89f8-4498-b89a-b8193f65d510",
   "metadata": {},
   "outputs": [
    {
     "data": {
      "text/plain": [
       "array([[1, 4],\n",
       "       [2, 5],\n",
       "       [3, 6]])"
      ]
     },
     "execution_count": 30,
     "metadata": {},
     "output_type": "execute_result"
    }
   ],
   "source": [
    "# Swap axes 0 and 1\n",
    "swapped = a.swapaxes(0, 1)\n",
    "swapped"
   ]
  },
  {
   "cell_type": "code",
   "execution_count": 31,
   "id": "d9daca27-72de-4826-87b0-183dfb6d276a",
   "metadata": {},
   "outputs": [
    {
     "data": {
      "text/plain": [
       "array([[[ 0,  1,  2,  3],\n",
       "        [ 4,  5,  6,  7],\n",
       "        [ 8,  9, 10, 11]],\n",
       "\n",
       "       [[12, 13, 14, 15],\n",
       "        [16, 17, 18, 19],\n",
       "        [20, 21, 22, 23]]])"
      ]
     },
     "execution_count": 31,
     "metadata": {},
     "output_type": "execute_result"
    }
   ],
   "source": [
    "a = np.arange(24).reshape((2, 3, 4))\n",
    "a"
   ]
  },
  {
   "cell_type": "code",
   "execution_count": 32,
   "id": "996adea8-533f-41fa-b61e-d3bd51024c33",
   "metadata": {},
   "outputs": [
    {
     "data": {
      "text/plain": [
       "array([[[ 0, 12],\n",
       "        [ 4, 16],\n",
       "        [ 8, 20]],\n",
       "\n",
       "       [[ 1, 13],\n",
       "        [ 5, 17],\n",
       "        [ 9, 21]],\n",
       "\n",
       "       [[ 2, 14],\n",
       "        [ 6, 18],\n",
       "        [10, 22]],\n",
       "\n",
       "       [[ 3, 15],\n",
       "        [ 7, 19],\n",
       "        [11, 23]]])"
      ]
     },
     "execution_count": 32,
     "metadata": {},
     "output_type": "execute_result"
    }
   ],
   "source": [
    "# Swap axes 0 and 2\n",
    "swapped = a.swapaxes(0, 2)\n",
    "swapped"
   ]
  },
  {
   "cell_type": "markdown",
   "id": "d54d575c-1300-4e82-9163-c9c4941b868c",
   "metadata": {},
   "source": [
    "**adding and removing dimensions** (without changing the data)"
   ]
  },
  {
   "cell_type": "markdown",
   "id": "f72d4984-62cc-4685-b3d9-18df1178ffad",
   "metadata": {},
   "source": [
    "`np.newaxis` or `None` can be used to add new dimensions"
   ]
  },
  {
   "cell_type": "code",
   "execution_count": 39,
   "id": "3f85ed38-a558-4265-b9f9-f23724f94c58",
   "metadata": {},
   "outputs": [
    {
     "data": {
      "text/plain": [
       "array([1, 2, 3])"
      ]
     },
     "execution_count": 39,
     "metadata": {},
     "output_type": "execute_result"
    }
   ],
   "source": [
    "a = np.array([1, 2, 3])\n",
    "a"
   ]
  },
  {
   "cell_type": "code",
   "execution_count": 36,
   "id": "c55f66d8-c982-4b31-b066-e8af08cc14d6",
   "metadata": {},
   "outputs": [
    {
     "data": {
      "text/plain": [
       "array([[1],\n",
       "       [2],\n",
       "       [3]])"
      ]
     },
     "execution_count": 36,
     "metadata": {},
     "output_type": "execute_result"
    }
   ],
   "source": [
    "# Add a new axis to make it a column vector\n",
    "a_col = a[:, np.newaxis]\n",
    "a_col"
   ]
  },
  {
   "cell_type": "code",
   "execution_count": 38,
   "id": "70fe5329-882f-4285-88d9-43f2add39ad3",
   "metadata": {},
   "outputs": [
    {
     "data": {
      "text/plain": [
       "array([[1, 2, 3]])"
      ]
     },
     "execution_count": 38,
     "metadata": {},
     "output_type": "execute_result"
    }
   ],
   "source": [
    "# Add a new axis to make it a row vector\n",
    "a_row = a[np.newaxis, :]\n",
    "a_row"
   ]
  },
  {
   "cell_type": "markdown",
   "id": "bf2ed7e2-8368-4ff6-9d33-bee166f861e3",
   "metadata": {},
   "source": [
    "`np.squeeze` removes single-dimensional entries from the shape"
   ]
  },
  {
   "cell_type": "code",
   "execution_count": 40,
   "id": "12f8857a-fe11-4cbb-bacb-15ed03486a50",
   "metadata": {},
   "outputs": [
    {
     "data": {
      "text/plain": [
       "array([[[1, 2, 3]]])"
      ]
     },
     "execution_count": 40,
     "metadata": {},
     "output_type": "execute_result"
    }
   ],
   "source": [
    "a = np.array([[[1, 2, 3]]])  # Shape (1, 1, 3)\n",
    "a"
   ]
  },
  {
   "cell_type": "code",
   "execution_count": 41,
   "id": "86e9e520-b4c5-4227-a02b-11088c1427d2",
   "metadata": {},
   "outputs": [
    {
     "data": {
      "text/plain": [
       "array([1, 2, 3])"
      ]
     },
     "execution_count": 41,
     "metadata": {},
     "output_type": "execute_result"
    }
   ],
   "source": [
    "squeezed = np.squeeze(a)\n",
    "squeezed"
   ]
  },
  {
   "cell_type": "markdown",
   "id": "c7e5f8f9-eaf1-492d-997e-5420275ce1d2",
   "metadata": {},
   "source": [
    "**stacking**"
   ]
  },
  {
   "cell_type": "code",
   "execution_count": 283,
   "id": "85033abf",
   "metadata": {
    "scrolled": true
   },
   "outputs": [
    {
     "name": "stdout",
     "output_type": "stream",
     "text": [
      "array x =  [1 1 1]\n",
      "array y =  [2 2 2]\n",
      "vertical stack of x,y,x =  [[1 1 1]\n",
      " [2 2 2]\n",
      " [1 1 1]]\n",
      "horizontal stack of x,y,x =  [1 1 1 2 2 2 1 1 1]\n"
     ]
    }
   ],
   "source": [
    "x = np.array([1, 1, 1])\n",
    "y = np.array([2, 2, 2])\n",
    "print(\"array x = \", x)\n",
    "print(\"array y = \", y)\n",
    "print(\"vertical stack of x,y,x = \", np.vstack((x, y, x)))\n",
    "print(\"horizontal stack of x,y,x = \", np.hstack((x, y, x)))"
   ]
  },
  {
   "cell_type": "markdown",
   "id": "b05dc0da",
   "metadata": {},
   "source": [
    "## symbolic computation with `Sympy`"
   ]
  },
  {
   "cell_type": "markdown",
   "id": "c328fbf3",
   "metadata": {},
   "source": [
    "SymPy is a Python library for symbolic mathematics. It aims to become a full-featured computer algebra system (CAS)\n",
    "\n",
    "https://www.sympy.org/en/index.html\n",
    "\n",
    "Symbolic Computation involves using a computer to help find closed-form solutions to differential equations, integrals, eigenvalues, and many more types of symbolic evaluations.\n",
    "\n",
    "For example, we can enter the equation or integral we want solved, and the computer program returns a closed form solution, if it exists."
   ]
  },
  {
   "cell_type": "code",
   "execution_count": 301,
   "id": "589667a2",
   "metadata": {},
   "outputs": [
    {
     "data": {
      "text/plain": [
       "'\\nequations of motion\\ny = v0*t - (1/2)*g*t^2\\nv(t) = v0 - g*t\\n\\nBy setting the speed v(t) = v0 - g*t = 0 at the maximum height reached by the ball, we\\nfind the corresponding time t = v0/g. Substituting this value of t into the position equation\\nwe find the maximum height ymax = v0*(v0/g) - (1/2)*g*(v0/g)^2 = v0^2/(2*g)\\n'"
      ]
     },
     "execution_count": 301,
     "metadata": {},
     "output_type": "execute_result"
    }
   ],
   "source": [
    "\"\"\"\n",
    "Maria throws a ball straight up with an initial speed v0 = 5 m/s.\n",
    "Symbollically find (solve for) the maximum height reached by the ball\n",
    "\"\"\"\n",
    "\n",
    "\"\"\"\n",
    "equations of motion\n",
    "y = v0*t - (1/2)*g*t^2\n",
    "v(t) = v0 - g*t\n",
    "\n",
    "By setting the speed v(t) = v0 - g*t = 0 at the maximum height reached by the ball, we\n",
    "find the corresponding time t = v0/g. Substituting this value of t into the position equation\n",
    "we find the maximum height ymax = v0*(v0/g) - (1/2)*g*(v0/g)^2 = v0^2/(2*g)\n",
    "\"\"\""
   ]
  },
  {
   "cell_type": "code",
   "execution_count": 303,
   "id": "f3af5be5",
   "metadata": {},
   "outputs": [
    {
     "name": "stdout",
     "output_type": "stream",
     "text": [
      "Collecting sympy\n",
      "  Downloading sympy-1.13.3-py3-none-any.whl.metadata (12 kB)\n",
      "Collecting mpmath<1.4,>=1.1.0 (from sympy)\n",
      "  Downloading mpmath-1.3.0-py3-none-any.whl.metadata (8.6 kB)\n",
      "Downloading sympy-1.13.3-py3-none-any.whl (6.2 MB)\n",
      "   ---------------------------------------- 0.0/6.2 MB ? eta -:--:--\n",
      "   ------------- -------------------------- 2.1/6.2 MB 13.0 MB/s eta 0:00:01\n",
      "   ------------------------------ --------- 4.7/6.2 MB 13.6 MB/s eta 0:00:01\n",
      "   ---------------------------------------- 6.2/6.2 MB 13.1 MB/s eta 0:00:00\n",
      "Downloading mpmath-1.3.0-py3-none-any.whl (536 kB)\n",
      "   ---------------------------------------- 0.0/536.2 kB ? eta -:--:--\n",
      "   ---------------------------------------- 536.2/536.2 kB 8.6 MB/s eta 0:00:00\n",
      "Installing collected packages: mpmath, sympy\n",
      "Successfully installed mpmath-1.3.0 sympy-1.13.3\n",
      "Note: you may need to restart the kernel to use updated packages.\n"
     ]
    }
   ],
   "source": [
    "%pip install sympy"
   ]
  },
  {
   "cell_type": "code",
   "execution_count": 304,
   "id": "8e281e50",
   "metadata": {},
   "outputs": [],
   "source": [
    "from sympy import symbols, solve"
   ]
  },
  {
   "cell_type": "code",
   "execution_count": 305,
   "id": "7c9ba860",
   "metadata": {},
   "outputs": [],
   "source": [
    "vo, t, g = symbols(\"vo, t, g \", real=True)  # define variables\n",
    "# real=True means they are real variables"
   ]
  },
  {
   "cell_type": "code",
   "execution_count": 306,
   "id": "4598d00d",
   "metadata": {},
   "outputs": [
    {
     "name": "stdout",
     "output_type": "stream",
     "text": [
      "Time to reach max height= vo/g\n"
     ]
    }
   ],
   "source": [
    "# solve equation for tmax symbolically using solve() function\n",
    "tmax = solve(vo - g * t, t)[0]\n",
    "print(\"Time to reach max height=\", tmax)"
   ]
  },
  {
   "cell_type": "code",
   "execution_count": 307,
   "id": "946d5d6e",
   "metadata": {},
   "outputs": [
    {
     "name": "stdout",
     "output_type": "stream",
     "text": [
      "Max height reached =  vo**2/(2*g)\n"
     ]
    }
   ],
   "source": [
    "y = vo * t - g * t**2 / 2\n",
    "# substitute tmax in y(t) to find ymax, using method .subs\n",
    "print(\"Max height reached = \", y.subs(t, tmax))"
   ]
  },
  {
   "cell_type": "markdown",
   "id": "adbe9b68",
   "metadata": {},
   "source": [
    "**lambdify()** - combine the results from NumPy and SymPy libraries\n",
    "\n",
    "https://docs.sympy.org/latest/modules/utilities/lambdify.html"
   ]
  },
  {
   "cell_type": "code",
   "execution_count": 308,
   "id": "985e8713",
   "metadata": {},
   "outputs": [
    {
     "data": {
      "text/plain": [
       "'\\nUse SymPy to evaluate the symbolic derivative of the function f = a sin(b t) with respect to time t, \\nPlot the function f(t) and its derivative in the interval t = 0 to t = 6. \\nUse the numerical values a = 1 and b = 2.\\n'"
      ]
     },
     "execution_count": 308,
     "metadata": {},
     "output_type": "execute_result"
    }
   ],
   "source": [
    "\"\"\"\n",
    "Use SymPy to evaluate the symbolic derivative of the function f = a sin(b t) with respect to time t, \n",
    "Plot the function f(t) and its derivative in the interval t = 0 to t = 6. \n",
    "Use the numerical values a = 1 and b = 2.\n",
    "\"\"\""
   ]
  },
  {
   "cell_type": "code",
   "execution_count": 309,
   "id": "6273edca",
   "metadata": {},
   "outputs": [],
   "source": [
    "from sympy import symbols, sin, diff\n",
    "from sympy.utilities.lambdify import lambdify"
   ]
  },
  {
   "cell_type": "code",
   "execution_count": 310,
   "id": "00dddfc4",
   "metadata": {},
   "outputs": [],
   "source": [
    "# define symbols\n",
    "a, b, t = symbols(\"a,b,t\", real=True)"
   ]
  },
  {
   "cell_type": "code",
   "execution_count": 311,
   "id": "9f6d38a5",
   "metadata": {},
   "outputs": [
    {
     "name": "stdout",
     "output_type": "stream",
     "text": [
      "Symbolic Derivative v=dy/dt:  a*b*cos(b*t)\n"
     ]
    }
   ],
   "source": [
    "f = a * sin(b * t)\n",
    "deriv = diff(f, t)  # evaluate symbolic derivarive of f\n",
    "print(\"Symbolic Derivative v=dy/dt: \", deriv)"
   ]
  },
  {
   "cell_type": "code",
   "execution_count": 312,
   "id": "9a43ee51",
   "metadata": {},
   "outputs": [],
   "source": [
    "# substitute a=1 and b=2 in f, using the .subs method\n",
    "y = lambdify(t, f.subs({a: 1, b: 2}))"
   ]
  },
  {
   "cell_type": "code",
   "execution_count": 314,
   "id": "99d5a91d",
   "metadata": {},
   "outputs": [
    {
     "data": {
      "image/png": "[encoded data removed]",
      "text/plain": [
       "<Figure size 640x480 with 2 Axes>"
      ]
     },
     "metadata": {},
     "output_type": "display_data"
    }
   ],
   "source": [
    "# plot y(t) and v(t)\n",
    "plt.subplot(1, 2, 1)  # first subplot, positions y(t)\n",
    "tims = np.linspace(0, 6, 50)  # sequence of times tims\n",
    "plt.plot(tims, y(tims))\n",
    "plt.xlabel(\"Time [s]\")\n",
    "plt.ylabel(\"y(t)\")\n",
    "\n",
    "u = deriv.subs({a: 1, b: 2})  # substitute a=1 and b=2 in deriv\n",
    "v = lambdify(t, u)  # lambdify creates derivative function v(t)\n",
    "plt.subplot(1, 2, 2)  # second subplot, speed v(t)\n",
    "plt.plot(tims, v(tims))\n",
    "plt.xlabel(\"Time [s]\")\n",
    "plt.ylabel(\"Speed v(t)=dy/dt\")\n",
    "plt.tight_layout()  # create the 2 subplots with thight layout\n",
    "plt.show()"
   ]
  },
  {
   "cell_type": "code",
   "execution_count": null,
   "id": "a3d342d9-a21c-4052-9b6a-6ad3ba55a712",
   "metadata": {},
   "outputs": [],
   "source": []
  }
 ],
 "metadata": {
  "kernelspec": {
   "display_name": "Python 3 (ipykernel)",
   "language": "python",
   "name": "python3"
  },
  "language_info": {
   "codemirror_mode": {
    "name": "ipython",
    "version": 3
   },
   "file_extension": ".py",
   "mimetype": "text/x-python",
   "name": "python",
   "nbconvert_exporter": "python",
   "pygments_lexer": "ipython3",
   "version": "3.10.4"
  },
  "toc": {
   "base_numbering": 1,
   "nav_menu": {},
   "number_sections": true,
   "sideBar": true,
   "skip_h1_title": false,
   "title_cell": "Table of Contents",
   "title_sidebar": "Contents",
   "toc_cell": false,
   "toc_position": {},
   "toc_section_display": true,
   "toc_window_display": false
  }
 },
 "nbformat": 4,
 "nbformat_minor": 5
}
