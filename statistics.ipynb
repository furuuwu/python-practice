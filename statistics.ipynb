{
 "cells": [
  {
   "cell_type": "code",
   "execution_count": 2,
   "id": "57ffcdfe",
   "metadata": {},
   "outputs": [],
   "source": [
    "import numpy as np"
   ]
  },
  {
   "cell_type": "code",
   "execution_count": 3,
   "id": "0055939e",
   "metadata": {},
   "outputs": [],
   "source": [
    "import matplotlib\n",
    "import matplotlib.pyplot as plt"
   ]
  },
  {
   "cell_type": "code",
   "execution_count": 4,
   "id": "b975536e",
   "metadata": {},
   "outputs": [],
   "source": [
    "import scipy"
   ]
  },
  {
   "cell_type": "code",
   "execution_count": 5,
   "id": "3ba9be66",
   "metadata": {},
   "outputs": [],
   "source": [
    "import sklearn\n",
    "from sklearn import datasets\n",
    "from sklearn.model_selection import train_test_split\n",
    "from sklearn.preprocessing import StandardScaler"
   ]
  },
  {
   "cell_type": "code",
   "execution_count": 6,
   "id": "499b7b44",
   "metadata": {},
   "outputs": [],
   "source": [
    "import pandas as pd"
   ]
  },
  {
   "cell_type": "code",
   "execution_count": 7,
   "id": "bd38e31c",
   "metadata": {},
   "outputs": [],
   "source": [
    "import seaborn as sns"
   ]
  },
  {
   "cell_type": "code",
   "execution_count": 8,
   "id": "1fc4beb0",
   "metadata": {},
   "outputs": [],
   "source": [
    "filepath = './data/'"
   ]
  },
  {
   "cell_type": "markdown",
   "id": "0e5b03dc",
   "metadata": {},
   "source": [
    "# Descriptive statistics"
   ]
  },
  {
   "cell_type": "code",
   "execution_count": 44,
   "id": "13370cd2",
   "metadata": {},
   "outputs": [],
   "source": [
    "speed = [99, 86, 87, 88, 111, 86, 103, 87, 94, 78, 77, 85, 86]"
   ]
  },
  {
   "cell_type": "markdown",
   "id": "ddabd378",
   "metadata": {},
   "source": [
    "if there's a sequence $x$ the i-th element in the sequence is denoted $x_i$ and in python that's `x[i-1]` (because indexing starts at 0)"
   ]
  },
  {
   "cell_type": "markdown",
   "id": "80b46706",
   "metadata": {},
   "source": [
    "eg. the 1st element of the speed array, $\\text{speed}_1$, is accessed as `speed[0]`"
   ]
  },
  {
   "cell_type": "code",
   "execution_count": 45,
   "id": "a6d98ef8",
   "metadata": {},
   "outputs": [
    {
     "data": {
      "text/plain": [
       "99"
      ]
     },
     "execution_count": 45,
     "metadata": {},
     "output_type": "execute_result"
    }
   ],
   "source": [
    "speed[0]"
   ]
  },
  {
   "cell_type": "markdown",
   "id": "cac71a48",
   "metadata": {},
   "source": [
    "$x^{(i)}$ denotes the i-th element in the ordered (from lowest value to highest) sequence"
   ]
  },
  {
   "cell_type": "markdown",
   "id": "427b0a74",
   "metadata": {},
   "source": [
    "eg. the 1st element in the ordered speed array is $\\text{speed}^{(1)}$"
   ]
  },
  {
   "cell_type": "code",
   "execution_count": 46,
   "id": "f218cfc1",
   "metadata": {},
   "outputs": [
    {
     "data": {
      "text/plain": [
       "[77, 78, 85, 86, 86, 86, 87, 87, 88, 94, 99, 103, 111]"
      ]
     },
     "execution_count": 46,
     "metadata": {},
     "output_type": "execute_result"
    }
   ],
   "source": [
    "sorted_speed = sorted(speed)\n",
    "sorted_speed"
   ]
  },
  {
   "cell_type": "code",
   "execution_count": 47,
   "id": "8e8c10c5",
   "metadata": {},
   "outputs": [
    {
     "data": {
      "text/plain": [
       "77"
      ]
     },
     "execution_count": 47,
     "metadata": {},
     "output_type": "execute_result"
    }
   ],
   "source": [
    "sorted_speed[0]"
   ]
  },
  {
   "cell_type": "markdown",
   "id": "46850f55",
   "metadata": {},
   "source": [
    "$x^{(-i)}$ denotes the last i-th element in the ordered (from lowest value to highest) sequence"
   ]
  },
  {
   "cell_type": "markdown",
   "id": "b5bd4451",
   "metadata": {},
   "source": [
    "eg. the last element in the ordered speed array is $\\text{speed}^{(-1)}$"
   ]
  },
  {
   "cell_type": "code",
   "execution_count": 48,
   "id": "c89966a0",
   "metadata": {},
   "outputs": [
    {
     "data": {
      "text/plain": [
       "111"
      ]
     },
     "execution_count": 48,
     "metadata": {},
     "output_type": "execute_result"
    }
   ],
   "source": [
    "sorted_speed[-1]"
   ]
  },
  {
   "cell_type": "markdown",
   "id": "4269f64d",
   "metadata": {},
   "source": [
    "for the examples with a numeric attribute from a pandas df"
   ]
  },
  {
   "cell_type": "code",
   "execution_count": 18,
   "id": "736a055f",
   "metadata": {
    "scrolled": true
   },
   "outputs": [
    {
     "data": {
      "text/html": [
       "<div>\n",
       "<style scoped>\n",
       "    .dataframe tbody tr th:only-of-type {\n",
       "        vertical-align: middle;\n",
       "    }\n",
       "\n",
       "    .dataframe tbody tr th {\n",
       "        vertical-align: top;\n",
       "    }\n",
       "\n",
       "    .dataframe thead th {\n",
       "        text-align: right;\n",
       "    }\n",
       "</style>\n",
       "<table border=\"1\" class=\"dataframe\">\n",
       "  <thead>\n",
       "    <tr style=\"text-align: right;\">\n",
       "      <th></th>\n",
       "      <th>Name</th>\n",
       "      <th>Location</th>\n",
       "      <th>Age</th>\n",
       "      <th>Gender</th>\n",
       "      <th>Education_Level</th>\n",
       "      <th>Income</th>\n",
       "    </tr>\n",
       "  </thead>\n",
       "  <tbody>\n",
       "    <tr>\n",
       "      <th>0</th>\n",
       "      <td>John</td>\n",
       "      <td>New York</td>\n",
       "      <td>25</td>\n",
       "      <td>Female</td>\n",
       "      <td>Bachelor</td>\n",
       "      <td>50000</td>\n",
       "    </tr>\n",
       "    <tr>\n",
       "      <th>1</th>\n",
       "      <td>Anna</td>\n",
       "      <td>Paris</td>\n",
       "      <td>30</td>\n",
       "      <td>Male</td>\n",
       "      <td>Master</td>\n",
       "      <td>60000</td>\n",
       "    </tr>\n",
       "    <tr>\n",
       "      <th>2</th>\n",
       "      <td>Peter</td>\n",
       "      <td>Berlin</td>\n",
       "      <td>22</td>\n",
       "      <td>Female</td>\n",
       "      <td>Bachelor</td>\n",
       "      <td>45000</td>\n",
       "    </tr>\n",
       "    <tr>\n",
       "      <th>3</th>\n",
       "      <td>Linda</td>\n",
       "      <td>London</td>\n",
       "      <td>35</td>\n",
       "      <td>Male</td>\n",
       "      <td>PhD</td>\n",
       "      <td>70000</td>\n",
       "    </tr>\n",
       "    <tr>\n",
       "      <th>4</th>\n",
       "      <td>John</td>\n",
       "      <td>London</td>\n",
       "      <td>29</td>\n",
       "      <td>Female</td>\n",
       "      <td>Master</td>\n",
       "      <td>55000</td>\n",
       "    </tr>\n",
       "  </tbody>\n",
       "</table>\n",
       "</div>"
      ],
      "text/plain": [
       "    Name  Location  Age  Gender Education_Level  Income\n",
       "0   John  New York   25  Female        Bachelor   50000\n",
       "1   Anna     Paris   30    Male          Master   60000\n",
       "2  Peter    Berlin   22  Female        Bachelor   45000\n",
       "3  Linda    London   35    Male             PhD   70000\n",
       "4   John    London   29  Female          Master   55000"
      ]
     },
     "execution_count": 18,
     "metadata": {},
     "output_type": "execute_result"
    }
   ],
   "source": [
    "people = {\n",
    "    'Name': [\"John\", \"Anna\", \"Peter\", \"Linda\", \"John\"], # categorical\n",
    "    'Location' : [\"New York\", \"Paris\", \"Berlin\", \"London\", \"London\"], # categorical\n",
    "    'Age': [25, 30, 22, 35, 29], # numerical discrete\n",
    "    'Gender': ['Female', 'Male', 'Female', 'Male', 'Female'],  # categorical\n",
    "    'Education_Level': ['Bachelor', 'Master', 'Bachelor', 'PhD', 'Master'],  # categorical\n",
    "    'Income': [50000, 60000, 45000, 70000, 55000]  # numerical continuous\n",
    "}\n",
    "df = pd.DataFrame(people)\n",
    "df"
   ]
  },
  {
   "cell_type": "code",
   "execution_count": 19,
   "id": "6fb708ab",
   "metadata": {},
   "outputs": [
    {
     "data": {
      "text/plain": [
       "Name               object\n",
       "Location           object\n",
       "Age                 int64\n",
       "Gender             object\n",
       "Education_Level    object\n",
       "Income              int64\n",
       "dtype: object"
      ]
     },
     "execution_count": 19,
     "metadata": {},
     "output_type": "execute_result"
    }
   ],
   "source": [
    "df.dtypes"
   ]
  },
  {
   "cell_type": "code",
   "execution_count": 20,
   "id": "38984166",
   "metadata": {},
   "outputs": [],
   "source": [
    "df['Income'] = df['Income'].astype(float)"
   ]
  },
  {
   "cell_type": "code",
   "execution_count": 10,
   "id": "2cee1f32",
   "metadata": {},
   "outputs": [
    {
     "data": {
      "text/html": [
       "<div>\n",
       "<style scoped>\n",
       "    .dataframe tbody tr th:only-of-type {\n",
       "        vertical-align: middle;\n",
       "    }\n",
       "\n",
       "    .dataframe tbody tr th {\n",
       "        vertical-align: top;\n",
       "    }\n",
       "\n",
       "    .dataframe thead th {\n",
       "        text-align: right;\n",
       "    }\n",
       "</style>\n",
       "<table border=\"1\" class=\"dataframe\">\n",
       "  <thead>\n",
       "    <tr style=\"text-align: right;\">\n",
       "      <th></th>\n",
       "      <th>gender</th>\n",
       "      <th>situation</th>\n",
       "      <th>tea</th>\n",
       "      <th>coffee</th>\n",
       "      <th>height</th>\n",
       "      <th>weight</th>\n",
       "      <th>age</th>\n",
       "      <th>meat</th>\n",
       "      <th>fish</th>\n",
       "      <th>raw_fruit</th>\n",
       "      <th>...</th>\n",
       "      <th>chocol</th>\n",
       "      <th>fat</th>\n",
       "      <th>meat_label</th>\n",
       "      <th>fish_label</th>\n",
       "      <th>raw_fruit_label</th>\n",
       "      <th>cooked_fruit_veg_label</th>\n",
       "      <th>chocol_label</th>\n",
       "      <th>gender_label</th>\n",
       "      <th>situation_label</th>\n",
       "      <th>fat_label</th>\n",
       "    </tr>\n",
       "  </thead>\n",
       "  <tbody>\n",
       "    <tr>\n",
       "      <th>0</th>\n",
       "      <td>2</td>\n",
       "      <td>1</td>\n",
       "      <td>0</td>\n",
       "      <td>0</td>\n",
       "      <td>151.0</td>\n",
       "      <td>58.0</td>\n",
       "      <td>72</td>\n",
       "      <td>4</td>\n",
       "      <td>3</td>\n",
       "      <td>1</td>\n",
       "      <td>...</td>\n",
       "      <td>5</td>\n",
       "      <td>6</td>\n",
       "      <td>4-6 times a week</td>\n",
       "      <td>2-3 times a week</td>\n",
       "      <td>Less than once a week</td>\n",
       "      <td>4-6 times a week</td>\n",
       "      <td>Everyday</td>\n",
       "      <td>Female</td>\n",
       "      <td>Single</td>\n",
       "      <td>Mix of vegetable oils (eg. Isio4)</td>\n",
       "    </tr>\n",
       "    <tr>\n",
       "      <th>1</th>\n",
       "      <td>2</td>\n",
       "      <td>1</td>\n",
       "      <td>1</td>\n",
       "      <td>1</td>\n",
       "      <td>162.0</td>\n",
       "      <td>60.0</td>\n",
       "      <td>68</td>\n",
       "      <td>5</td>\n",
       "      <td>2</td>\n",
       "      <td>5</td>\n",
       "      <td>...</td>\n",
       "      <td>1</td>\n",
       "      <td>4</td>\n",
       "      <td>Everyday</td>\n",
       "      <td>Once a week</td>\n",
       "      <td>Everyday</td>\n",
       "      <td>Everyday</td>\n",
       "      <td>Less than once a week</td>\n",
       "      <td>Female</td>\n",
       "      <td>Single</td>\n",
       "      <td>Sunflower oil</td>\n",
       "    </tr>\n",
       "    <tr>\n",
       "      <th>2</th>\n",
       "      <td>2</td>\n",
       "      <td>1</td>\n",
       "      <td>0</td>\n",
       "      <td>4</td>\n",
       "      <td>162.0</td>\n",
       "      <td>75.0</td>\n",
       "      <td>78</td>\n",
       "      <td>3</td>\n",
       "      <td>1</td>\n",
       "      <td>5</td>\n",
       "      <td>...</td>\n",
       "      <td>5</td>\n",
       "      <td>4</td>\n",
       "      <td>2-3 times a week</td>\n",
       "      <td>Less than once a week</td>\n",
       "      <td>Everyday</td>\n",
       "      <td>Once a week</td>\n",
       "      <td>Everyday</td>\n",
       "      <td>Female</td>\n",
       "      <td>Single</td>\n",
       "      <td>Sunflower oil</td>\n",
       "    </tr>\n",
       "    <tr>\n",
       "      <th>3</th>\n",
       "      <td>2</td>\n",
       "      <td>1</td>\n",
       "      <td>0</td>\n",
       "      <td>0</td>\n",
       "      <td>154.0</td>\n",
       "      <td>45.0</td>\n",
       "      <td>91</td>\n",
       "      <td>0</td>\n",
       "      <td>4</td>\n",
       "      <td>4</td>\n",
       "      <td>...</td>\n",
       "      <td>3</td>\n",
       "      <td>2</td>\n",
       "      <td>Never</td>\n",
       "      <td>4-6 times a week</td>\n",
       "      <td>4-6 times a week</td>\n",
       "      <td>Never</td>\n",
       "      <td>2-3 times a week</td>\n",
       "      <td>Female</td>\n",
       "      <td>Single</td>\n",
       "      <td>Margarine</td>\n",
       "    </tr>\n",
       "    <tr>\n",
       "      <th>4</th>\n",
       "      <td>2</td>\n",
       "      <td>1</td>\n",
       "      <td>2</td>\n",
       "      <td>1</td>\n",
       "      <td>154.0</td>\n",
       "      <td>50.0</td>\n",
       "      <td>65</td>\n",
       "      <td>5</td>\n",
       "      <td>3</td>\n",
       "      <td>5</td>\n",
       "      <td>...</td>\n",
       "      <td>3</td>\n",
       "      <td>2</td>\n",
       "      <td>Everyday</td>\n",
       "      <td>2-3 times a week</td>\n",
       "      <td>Everyday</td>\n",
       "      <td>Everyday</td>\n",
       "      <td>2-3 times a week</td>\n",
       "      <td>Female</td>\n",
       "      <td>Single</td>\n",
       "      <td>Margarine</td>\n",
       "    </tr>\n",
       "  </tbody>\n",
       "</table>\n",
       "<p>5 rows × 21 columns</p>\n",
       "</div>"
      ],
      "text/plain": [
       "   gender  situation  tea  coffee  height  weight  age  meat  fish  raw_fruit  \\\n",
       "0       2          1    0       0   151.0    58.0   72     4     3          1   \n",
       "1       2          1    1       1   162.0    60.0   68     5     2          5   \n",
       "2       2          1    0       4   162.0    75.0   78     3     1          5   \n",
       "3       2          1    0       0   154.0    45.0   91     0     4          4   \n",
       "4       2          1    2       1   154.0    50.0   65     5     3          5   \n",
       "\n",
       "   ...  chocol  fat        meat_label             fish_label  \\\n",
       "0  ...       5    6  4-6 times a week       2-3 times a week   \n",
       "1  ...       1    4          Everyday            Once a week   \n",
       "2  ...       5    4  2-3 times a week  Less than once a week   \n",
       "3  ...       3    2             Never       4-6 times a week   \n",
       "4  ...       3    2          Everyday       2-3 times a week   \n",
       "\n",
       "         raw_fruit_label cooked_fruit_veg_label           chocol_label  \\\n",
       "0  Less than once a week       4-6 times a week               Everyday   \n",
       "1               Everyday               Everyday  Less than once a week   \n",
       "2               Everyday            Once a week               Everyday   \n",
       "3       4-6 times a week                  Never       2-3 times a week   \n",
       "4               Everyday               Everyday       2-3 times a week   \n",
       "\n",
       "  gender_label situation_label                          fat_label  \n",
       "0       Female          Single  Mix of vegetable oils (eg. Isio4)  \n",
       "1       Female          Single                      Sunflower oil  \n",
       "2       Female          Single                      Sunflower oil  \n",
       "3       Female          Single                          Margarine  \n",
       "4       Female          Single                          Margarine  \n",
       "\n",
       "[5 rows x 21 columns]"
      ]
     },
     "execution_count": 10,
     "metadata": {},
     "output_type": "execute_result"
    }
   ],
   "source": [
    "nutri = pd.read_csv(filepath + 'nutri.csv')\n",
    "nutri.head()"
   ]
  },
  {
   "cell_type": "markdown",
   "id": "cdd54945",
   "metadata": {},
   "source": [
    "## extreme values"
   ]
  },
  {
   "cell_type": "markdown",
   "id": "c3859f8a",
   "metadata": {},
   "source": [
    "* maximum\n",
    "* minimum\n",
    "* outliers"
   ]
  },
  {
   "cell_type": "markdown",
   "id": "53e89f1d",
   "metadata": {},
   "source": [
    "### max/min"
   ]
  },
  {
   "cell_type": "markdown",
   "id": "ecf9fe49",
   "metadata": {},
   "source": [
    "for a vector, $\\max(x)=\\max_i x_i = x^{(-1)}$ and $\\min(x)=\\min_i x_i = x^{(1)}$"
   ]
  },
  {
   "cell_type": "code",
   "execution_count": 57,
   "id": "5f339527",
   "metadata": {},
   "outputs": [],
   "source": [
    "def my_min(x):\n",
    "    sorted_x = sorted(x)\n",
    "    return sorted_x[0]"
   ]
  },
  {
   "cell_type": "code",
   "execution_count": 58,
   "id": "20096e0c",
   "metadata": {},
   "outputs": [
    {
     "name": "stdout",
     "output_type": "stream",
     "text": [
      "77\n"
     ]
    }
   ],
   "source": [
    "print(my_min(speed))"
   ]
  },
  {
   "cell_type": "code",
   "execution_count": 59,
   "id": "e6a69811",
   "metadata": {},
   "outputs": [],
   "source": [
    "# using numpy arrays\n",
    "def my_max(x):\n",
    "    sorted_x = np.sort(x)\n",
    "    return sorted_x[0]"
   ]
  },
  {
   "cell_type": "code",
   "execution_count": 52,
   "id": "d7f840a4",
   "metadata": {},
   "outputs": [
    {
     "name": "stdout",
     "output_type": "stream",
     "text": [
      "77\n"
     ]
    }
   ],
   "source": [
    "print(my_min(speed))"
   ]
  },
  {
   "cell_type": "code",
   "execution_count": 60,
   "id": "5be06d4a",
   "metadata": {},
   "outputs": [],
   "source": [
    "def my_max(x):\n",
    "    sorted_x = sorted(x)\n",
    "    return sorted_x[len(x)-1]"
   ]
  },
  {
   "cell_type": "code",
   "execution_count": 61,
   "id": "a7d530f8",
   "metadata": {},
   "outputs": [
    {
     "name": "stdout",
     "output_type": "stream",
     "text": [
      "111\n"
     ]
    }
   ],
   "source": [
    "print(my_max(speed))"
   ]
  },
  {
   "cell_type": "code",
   "execution_count": 62,
   "id": "015df2fe",
   "metadata": {},
   "outputs": [],
   "source": [
    "# using numpy arrays\n",
    "def my_max(x):\n",
    "    sorted_x = np.sort(x)\n",
    "    return sorted_x[-1]"
   ]
  },
  {
   "cell_type": "code",
   "execution_count": 63,
   "id": "2bab3f2a",
   "metadata": {},
   "outputs": [
    {
     "name": "stdout",
     "output_type": "stream",
     "text": [
      "111\n"
     ]
    }
   ],
   "source": [
    "print(my_max(speed))"
   ]
  },
  {
   "cell_type": "markdown",
   "id": "500dfc74",
   "metadata": {},
   "source": [
    "using numpy"
   ]
  },
  {
   "cell_type": "code",
   "execution_count": 35,
   "id": "77572b13",
   "metadata": {},
   "outputs": [
    {
     "data": {
      "text/plain": [
       "np.int64(77)"
      ]
     },
     "execution_count": 35,
     "metadata": {},
     "output_type": "execute_result"
    }
   ],
   "source": [
    "np.min(speed)"
   ]
  },
  {
   "cell_type": "code",
   "execution_count": 34,
   "id": "a0fc8b41",
   "metadata": {},
   "outputs": [
    {
     "data": {
      "text/plain": [
       "np.int64(111)"
      ]
     },
     "execution_count": 34,
     "metadata": {},
     "output_type": "execute_result"
    }
   ],
   "source": [
    "np.max(speed)"
   ]
  },
  {
   "cell_type": "markdown",
   "id": "1a1615b6",
   "metadata": {},
   "source": [
    "using dataframes"
   ]
  },
  {
   "cell_type": "code",
   "execution_count": 25,
   "id": "259fd52d",
   "metadata": {},
   "outputs": [],
   "source": [
    "col = 'Age'"
   ]
  },
  {
   "cell_type": "code",
   "execution_count": 26,
   "id": "7fa6fe40",
   "metadata": {},
   "outputs": [
    {
     "data": {
      "text/plain": [
       "np.int64(22)"
      ]
     },
     "execution_count": 26,
     "metadata": {},
     "output_type": "execute_result"
    }
   ],
   "source": [
    "df[col].min()"
   ]
  },
  {
   "cell_type": "code",
   "execution_count": 27,
   "id": "14bc927f",
   "metadata": {
    "scrolled": true
   },
   "outputs": [
    {
     "data": {
      "text/plain": [
       "np.int64(35)"
      ]
     },
     "execution_count": 27,
     "metadata": {},
     "output_type": "execute_result"
    }
   ],
   "source": [
    "df[col].max()"
   ]
  },
  {
   "cell_type": "markdown",
   "id": "8aadcf1e",
   "metadata": {},
   "source": [
    "### outliers"
   ]
  },
  {
   "cell_type": "markdown",
   "id": "309a8858",
   "metadata": {},
   "source": [
    "this is discussed in other notebooks"
   ]
  },
  {
   "cell_type": "markdown",
   "id": "96796902",
   "metadata": {},
   "source": [
    "## central tendency"
   ]
  },
  {
   "cell_type": "markdown",
   "id": "3ea15704",
   "metadata": {},
   "source": [
    "These sample statistics give information about the `location` of the data"
   ]
  },
  {
   "cell_type": "markdown",
   "id": "292cf77b",
   "metadata": {},
   "source": [
    "### arithmetic mean"
   ]
  },
  {
   "cell_type": "markdown",
   "id": "c90a0f91",
   "metadata": {},
   "source": [
    "The sample `mean` of the vector with n elements $x = (x_1, x_2, \\ldots, x_n)$ is \n",
    "$$\\bar{x} = \\frac{1}{n}\\sum_{i=1}^n x_i = \\frac{x_1 + x_2 + \\ldots + x_n}{n}$$"
   ]
  },
  {
   "cell_type": "code",
   "execution_count": 29,
   "id": "36ea5cb9",
   "metadata": {},
   "outputs": [],
   "source": [
    "# To calculate the mean, find the sum of all values, and divide the sum by the number of values\n",
    "def my_mean(nums):\n",
    "    res = 0\n",
    "    \n",
    "    # the part inside the parenthesis\n",
    "    for e in nums:\n",
    "        res += e\n",
    "    \n",
    "    # division by n\n",
    "    n = len(nums)\n",
    "    res = res/n\n",
    "\n",
    "    return res"
   ]
  },
  {
   "cell_type": "code",
   "execution_count": 30,
   "id": "5d5af23d",
   "metadata": {},
   "outputs": [],
   "source": [
    "# same thing but using a index in the loop to make it look more similar to the formula\n",
    "def my_mean2(nums):\n",
    "    res = 0\n",
    "    \n",
    "    # the part inside the parenthesis\n",
    "    for i in range(len(nums)): # 1 to n\n",
    "        res += nums[i]\n",
    "    \n",
    "    # division by n\n",
    "    n = len(nums)\n",
    "    res = res/n\n",
    "\n",
    "    return res"
   ]
  },
  {
   "cell_type": "code",
   "execution_count": 31,
   "id": "2baffaba",
   "metadata": {},
   "outputs": [
    {
     "name": "stdout",
     "output_type": "stream",
     "text": [
      "89.76923076923077\n",
      "89.76923076923077\n"
     ]
    }
   ],
   "source": [
    "print(my_mean(speed))\n",
    "print(my_mean2(speed))"
   ]
  },
  {
   "cell_type": "code",
   "execution_count": 32,
   "id": "171d1781",
   "metadata": {},
   "outputs": [
    {
     "data": {
      "text/plain": [
       "np.float64(89.76923076923077)"
      ]
     },
     "execution_count": 32,
     "metadata": {},
     "output_type": "execute_result"
    }
   ],
   "source": [
    "np.mean(speed)"
   ]
  },
  {
   "cell_type": "code",
   "execution_count": 69,
   "id": "0cc3ca3e",
   "metadata": {},
   "outputs": [],
   "source": [
    "col = 'Income'"
   ]
  },
  {
   "cell_type": "code",
   "execution_count": 70,
   "id": "0475e5e0",
   "metadata": {},
   "outputs": [
    {
     "data": {
      "text/plain": [
       "np.float64(56000.0)"
      ]
     },
     "execution_count": 70,
     "metadata": {},
     "output_type": "execute_result"
    }
   ],
   "source": [
    "df[col].mean()"
   ]
  },
  {
   "cell_type": "markdown",
   "id": "b928299e",
   "metadata": {},
   "source": [
    "### median"
   ]
  },
  {
   "cell_type": "markdown",
   "id": "e3b82fb7",
   "metadata": {},
   "source": [
    "* The sample `median` is the sample's `0.5-quantile`.\n",
    "* The `p-quantile` of x is a value x such that at least a fraction $p$ of the data is less than or equal to x and at least a fraction $1 − p$ of the data is greater than or equal to x. The p-sample quantile is also called the $100 \\times p$ `percentile`\n",
    "* The 25, 50, and 75 sample percentiles are called the first, second, and third `quartiles` of x"
   ]
  },
  {
   "cell_type": "markdown",
   "id": "27a404d5",
   "metadata": {},
   "source": [
    "$\n",
    "\\text{med}(x) =\n",
    "\\Large\n",
    "\\left \\{\n",
    "\\begin{matrix}\n",
    "x^{(\\frac{n+1}{2})} & \\text{if } n \\text{ is odd} \\\\\n",
    "\\frac{x^{(\\frac{n}{2})} + x^{(\\frac{n}{2} + 1)}}{2}  & \\text{if } n \\text{ is even}\n",
    "\\end{matrix}\n",
    "\\right .\n",
    "$"
   ]
  },
  {
   "cell_type": "code",
   "execution_count": 35,
   "id": "188891f2",
   "metadata": {},
   "outputs": [],
   "source": [
    "# The median value is the value in the middle, after you have sorted all the values\n",
    "# If there are two numbers in the middle, divide the sum of those numbers by two.\n",
    "def my_median(nums): \n",
    "    \"\"\" \n",
    "    Calculates the median of a list of numbers. \n",
    "\n",
    "    Args: \n",
    "        numbers (list): A list of numeric values. \n",
    "\n",
    "    Returns: \n",
    "        float: The median of the input list. \n",
    "    \"\"\" \n",
    "    # Sort the list in ascending order \n",
    "    sorted_nums = sorted(nums) \n",
    "\n",
    "    # Find the length of the list \n",
    "    n = len(sorted_nums) \n",
    "\n",
    "    # Calculate the median \n",
    "    if n % 2 == 0: \n",
    "        # If the length is even, take the average of the two middle elements \n",
    "        middle1 = sorted_nums[n//2 - 1] \n",
    "        middle2 = sorted_nums[n//2] \n",
    "        median_value = (middle1 + middle2) / 2.\n",
    "    else: \n",
    "        # If the length is odd, take the middle element \n",
    "        median_value = sorted_nums[n//2] \n",
    "\n",
    "    return median_value"
   ]
  },
  {
   "cell_type": "code",
   "execution_count": 36,
   "id": "63b8fb2e",
   "metadata": {},
   "outputs": [
    {
     "data": {
      "text/plain": [
       "87"
      ]
     },
     "execution_count": 36,
     "metadata": {},
     "output_type": "execute_result"
    }
   ],
   "source": [
    "my_median(speed)"
   ]
  },
  {
   "cell_type": "code",
   "execution_count": 37,
   "id": "baf21ca4",
   "metadata": {},
   "outputs": [
    {
     "data": {
      "text/plain": [
       "np.float64(87.0)"
      ]
     },
     "execution_count": 37,
     "metadata": {},
     "output_type": "execute_result"
    }
   ],
   "source": [
    "np.median(speed)"
   ]
  },
  {
   "cell_type": "code",
   "execution_count": 38,
   "id": "5b311dc3",
   "metadata": {},
   "outputs": [
    {
     "data": {
      "text/plain": [
       "np.float64(50000.0)"
      ]
     },
     "execution_count": 38,
     "metadata": {},
     "output_type": "execute_result"
    }
   ],
   "source": [
    "df[col].median()"
   ]
  },
  {
   "cell_type": "code",
   "execution_count": 64,
   "id": "e398ced7",
   "metadata": {},
   "outputs": [
    {
     "data": {
      "text/plain": [
       "np.float64(163.96017699115043)"
      ]
     },
     "execution_count": 64,
     "metadata": {},
     "output_type": "execute_result"
    }
   ],
   "source": [
    "nutri['height'].mean()"
   ]
  },
  {
   "cell_type": "code",
   "execution_count": 74,
   "id": "786a006d",
   "metadata": {},
   "outputs": [
    {
     "data": {
      "text/plain": [
       "0.25    157.0\n",
       "0.50    163.0\n",
       "0.75    170.0\n",
       "Name: height, dtype: float64"
      ]
     },
     "execution_count": 74,
     "metadata": {},
     "output_type": "execute_result"
    }
   ],
   "source": [
    "quantiles = nutri['height'].quantile(q = [0.25, 0.5, 0.75])\n",
    "quantiles"
   ]
  },
  {
   "cell_type": "code",
   "execution_count": 77,
   "id": "a188b7b0",
   "metadata": {},
   "outputs": [
    {
     "data": {
      "text/plain": [
       "pandas.core.series.Series"
      ]
     },
     "execution_count": 77,
     "metadata": {},
     "output_type": "execute_result"
    }
   ],
   "source": [
    "type(quantiles)"
   ]
  },
  {
   "cell_type": "code",
   "execution_count": 78,
   "id": "8a575136",
   "metadata": {},
   "outputs": [
    {
     "data": {
      "text/plain": [
       "np.float64(157.0)"
      ]
     },
     "execution_count": 78,
     "metadata": {},
     "output_type": "execute_result"
    }
   ],
   "source": [
    "# Get the first quantile (25th percentile)\n",
    "Q1 = quantiles[0.25]\n",
    "Q1"
   ]
  },
  {
   "cell_type": "markdown",
   "id": "1b5a94e9",
   "metadata": {},
   "source": [
    "### mode"
   ]
  },
  {
   "cell_type": "markdown",
   "id": "a6351db6",
   "metadata": {},
   "source": [
    "<p>\n",
    "In <a href=\"/wiki/Statistics\" title=\"Statistics\">statistics</a>, the <b>mode</b> is the value that appears most often in a set of data values.<sup id=\"cite_ref-1\" class=\"reference\"><a href=\"#cite_note-1\"><span class=\"cite-bracket\">[</span>1<span class=\"cite-bracket\">]</span></a></sup> If <span class=\"texhtml mvar\" style=\"font-style:italic;\"><b>X</b></span> is a discrete random variable, the mode is the value <span class=\"texhtml mvar\" style=\"font-style:italic;\">x</span> at which the <a href=\"/wiki/Probability_mass_function\" title=\"Probability mass function\">probability mass function</a> takes its maximum value (i.e., <span class=\"texhtml\"><i>x</i>=argmax<sub><i>x</i><sub><i>i</i></sub></sub> P(<i><b>X</b></i> = <i>x</i><sub><i>i</i></sub>)</span>). In other words, it is the value that is most likely to be sampled.\n",
    "</p>"
   ]
  },
  {
   "cell_type": "code",
   "execution_count": 39,
   "id": "0303ec59",
   "metadata": {},
   "outputs": [],
   "source": [
    "# The mode value is the value that appears the most number of times\n",
    "def my_mode(lst):\n",
    "    \n",
    "    # creating a dictionary\n",
    "    freq = {}\n",
    "    for i in lst:\n",
    "\n",
    "        # mapping each value of list to a \n",
    "        # dictionary\n",
    "        freq.setdefault(i, 0)\n",
    "        freq[i] += 1\n",
    "\n",
    "    # finding maximum value of dictionary\n",
    "    hf = max(freq.values())\n",
    "\n",
    "    # creating an empty list\n",
    "    hflst = []\n",
    "\n",
    "    # using for loop we are checking for most \n",
    "    # repeated value\n",
    "    for i, j in freq.items():\n",
    "        if j == hf:\n",
    "            hflst.append(i)\n",
    "\n",
    "    # returning the result\n",
    "    return hflst"
   ]
  },
  {
   "cell_type": "code",
   "execution_count": 40,
   "id": "608e2790",
   "metadata": {},
   "outputs": [
    {
     "data": {
      "text/plain": [
       "[86]"
      ]
     },
     "execution_count": 40,
     "metadata": {},
     "output_type": "execute_result"
    }
   ],
   "source": [
    "my_mode(speed)"
   ]
  },
  {
   "cell_type": "markdown",
   "id": "57df3306",
   "metadata": {},
   "source": [
    "In NumPy, there's no direct function to compute the mode\n",
    "* use `np.unique` to get the unique values and their counts.\n",
    "* use `np.argmax` to get the index of the maximum count, which will give you the mode."
   ]
  },
  {
   "cell_type": "code",
   "execution_count": 41,
   "id": "5f436fd9",
   "metadata": {},
   "outputs": [
    {
     "data": {
      "text/plain": [
       "np.int64(86)"
      ]
     },
     "execution_count": 41,
     "metadata": {},
     "output_type": "execute_result"
    }
   ],
   "source": [
    "# Step 1: Get the unique values and their counts\n",
    "values, counts = np.unique(speed, return_counts=True)\n",
    "\n",
    "# Step 2: Find the index of the maximum count (mode)\n",
    "mode_index = np.argmax(counts)\n",
    "\n",
    "# Step 3: Get the mode value\n",
    "mode = values[mode_index]\n",
    "mode"
   ]
  },
  {
   "cell_type": "markdown",
   "id": "aee4f03f",
   "metadata": {},
   "source": [
    "in ScyPy, there's a function for that"
   ]
  },
  {
   "cell_type": "code",
   "execution_count": 42,
   "id": "a9a40706",
   "metadata": {},
   "outputs": [
    {
     "data": {
      "text/plain": [
       "['LowLevelCallable',\n",
       " '__version__',\n",
       " 'cluster',\n",
       " 'constants',\n",
       " 'datasets',\n",
       " 'fft',\n",
       " 'fftpack',\n",
       " 'integrate',\n",
       " 'interpolate',\n",
       " 'io',\n",
       " 'linalg',\n",
       " 'misc',\n",
       " 'ndimage',\n",
       " 'odr',\n",
       " 'optimize',\n",
       " 'show_config',\n",
       " 'signal',\n",
       " 'sparse',\n",
       " 'spatial',\n",
       " 'special',\n",
       " 'stats',\n",
       " 'test']"
      ]
     },
     "execution_count": 42,
     "metadata": {},
     "output_type": "execute_result"
    }
   ],
   "source": [
    "dir(scipy)"
   ]
  },
  {
   "cell_type": "code",
   "execution_count": 43,
   "id": "8aa4c082",
   "metadata": {},
   "outputs": [
    {
     "data": {
      "text/plain": [
       "ModeResult(mode=np.int64(86), count=np.int64(3))"
      ]
     },
     "execution_count": 43,
     "metadata": {},
     "output_type": "execute_result"
    }
   ],
   "source": [
    "scipy.stats.mode(speed)"
   ]
  },
  {
   "cell_type": "code",
   "execution_count": 44,
   "id": "b794932f",
   "metadata": {},
   "outputs": [
    {
     "data": {
      "text/plain": [
       "0    50000\n",
       "Name: Income, dtype: int64"
      ]
     },
     "execution_count": 44,
     "metadata": {},
     "output_type": "execute_result"
    }
   ],
   "source": [
    "df[col].mode()"
   ]
  },
  {
   "cell_type": "code",
   "execution_count": 45,
   "id": "3d8498d5",
   "metadata": {},
   "outputs": [
    {
     "data": {
      "text/plain": [
       "np.int64(50000)"
      ]
     },
     "execution_count": 45,
     "metadata": {},
     "output_type": "execute_result"
    }
   ],
   "source": [
    "df[col].mode()[0]"
   ]
  },
  {
   "cell_type": "markdown",
   "id": "58f54549",
   "metadata": {},
   "source": [
    "### midrange"
   ]
  },
  {
   "cell_type": "code",
   "execution_count": 46,
   "id": "0e33af24",
   "metadata": {},
   "outputs": [
    {
     "data": {
      "text/plain": [
       "np.float64(12500.0)"
      ]
     },
     "execution_count": 46,
     "metadata": {},
     "output_type": "execute_result"
    }
   ],
   "source": [
    "min_value = df[col].min()\n",
    "max_value = df[col].max()\n",
    "midrange = (max_value - min_value)/2\n",
    "midrange"
   ]
  },
  {
   "cell_type": "markdown",
   "id": "e471c122",
   "metadata": {},
   "source": [
    "## dispersion"
   ]
  },
  {
   "cell_type": "markdown",
   "id": "5baed45c",
   "metadata": {},
   "source": [
    "These sample statistics give information about the `dispersion` (`spread`) of the data"
   ]
  },
  {
   "cell_type": "markdown",
   "id": "476f07cc",
   "metadata": {},
   "source": [
    "### range"
   ]
  },
  {
   "cell_type": "markdown",
   "id": "ed639b9c",
   "metadata": {},
   "source": [
    "$\\text{range}(x) = \\max(x) - \\min(x)$"
   ]
  },
  {
   "cell_type": "code",
   "execution_count": 72,
   "id": "9daa750a",
   "metadata": {},
   "outputs": [
    {
     "data": {
      "text/plain": [
       "np.float64(25000.0)"
      ]
     },
     "execution_count": 72,
     "metadata": {},
     "output_type": "execute_result"
    }
   ],
   "source": [
    "df[col].max() - df[col].min()"
   ]
  },
  {
   "cell_type": "markdown",
   "id": "58cbb2b7",
   "metadata": {},
   "source": [
    "### a distance between sample quantiles"
   ]
  },
  {
   "cell_type": "markdown",
   "id": "c73f3f34",
   "metadata": {},
   "source": [
    "eg. between the 0.1- and 0.9-quantiles"
   ]
  },
  {
   "cell_type": "code",
   "execution_count": 79,
   "id": "656af8b3",
   "metadata": {},
   "outputs": [
    {
     "data": {
      "text/plain": [
       "0.1    47000.0\n",
       "0.9    66000.0\n",
       "Name: Income, dtype: float64"
      ]
     },
     "execution_count": 79,
     "metadata": {},
     "output_type": "execute_result"
    }
   ],
   "source": [
    "quantiles = df[col].quantile([0.1, 0.9])\n",
    "quantiles"
   ]
  },
  {
   "cell_type": "code",
   "execution_count": 81,
   "id": "d4439752",
   "metadata": {},
   "outputs": [
    {
     "data": {
      "text/plain": [
       "np.float64(-19000.0)"
      ]
     },
     "execution_count": 81,
     "metadata": {},
     "output_type": "execute_result"
    }
   ],
   "source": [
    "quantiles[0.1]-quantiles[0.9]"
   ]
  },
  {
   "cell_type": "code",
   "execution_count": 80,
   "id": "771c7c54",
   "metadata": {},
   "outputs": [
    {
     "name": "stdout",
     "output_type": "stream",
     "text": [
      "distance between 0.1 and 0.9 quantiles:  19000.0\n"
     ]
    }
   ],
   "source": [
    "print('distance between 0.1 and 0.9 quantiles: ', abs(quantiles[0.1]-quantiles[0.9]))"
   ]
  },
  {
   "cell_type": "markdown",
   "id": "094f5867",
   "metadata": {},
   "source": [
    "### IQR"
   ]
  },
  {
   "cell_type": "code",
   "execution_count": 83,
   "id": "0a36ca0e",
   "metadata": {},
   "outputs": [],
   "source": [
    "quantiles = df[col].quantile([0.25, 0.5, 0.75])"
   ]
  },
  {
   "cell_type": "code",
   "execution_count": 84,
   "id": "be2db2a4",
   "metadata": {},
   "outputs": [
    {
     "data": {
      "text/plain": [
       "np.float64(10000.0)"
      ]
     },
     "execution_count": 84,
     "metadata": {},
     "output_type": "execute_result"
    }
   ],
   "source": [
    "Q1 = quantiles[0.25]\n",
    "Q3 = quantiles[0.75]\n",
    "IQR = Q3 - Q1\n",
    "IQR"
   ]
  },
  {
   "cell_type": "markdown",
   "id": "04394029",
   "metadata": {},
   "source": [
    "### variance and standard deviation"
   ]
  },
  {
   "cell_type": "markdown",
   "id": "a44851bb",
   "metadata": {},
   "source": [
    "One can find the standard deviation of an entire population in cases (such as standardized testing) where every member of a population is sampled. In cases where that cannot be done, the `standard deviation σ` is estimated by examining a random sample taken from the population and computing a statistic of the sample, which is used as an estimate of the population standard deviation. Such a statistic is called an estimator, and the estimator (or the value of the estimator, namely the estimate) is called a sample standard deviation, and is denoted by s (possibly with modifiers).\n",
    "\n",
    "Unlike in the case of estimating the population mean of a normal distribution, for which the sample mean is a simple estimator with many desirable properties (unbiased, efficient, maximum likelihood), there is no single estimator for the standard deviation with all these properties, and unbiased estimation of standard deviation is a very technically involved problem. Most often, the standard deviation is estimated using the corrected sample standard deviation (using N − 1), defined below, and this is often referred to as the \"sample standard deviation\", without qualifiers."
   ]
  },
  {
   "cell_type": "markdown",
   "id": "920b0436",
   "metadata": {},
   "source": [
    "<p>If the <i>biased <a href=\"/wiki/Sample_variance\" class=\"mw-redirect\" title=\"Sample variance\">sample variance</a></i> (the second <a href=\"/wiki/Central_moment\" title=\"Central moment\">central moment</a> of the sample, which is a downward-biased estimate of the population variance) is used to compute an estimate of the population's standard deviation, the result is\n",
    "<span class=\"mwe-math-element\"><span class=\"mwe-math-mathml-display mwe-math-mathml-a11y\" style=\"display: none;\"><math display=\"block\" xmlns=\"http://www.w3.org/1998/Math/MathML\" alttext=\"{\\displaystyle s_{N}={\\sqrt {{\\frac {1}{N}}\\sum _{i=1}^{N}\\left(x_{i}-{\\bar {x}}\\right)^{2}}}.}\">\n",
    "  <semantics>\n",
    "    <mrow class=\"MJX-TeXAtom-ORD\">\n",
    "      <mstyle displaystyle=\"true\" scriptlevel=\"0\">\n",
    "        <msub>\n",
    "          <mi>s</mi>\n",
    "          <mrow class=\"MJX-TeXAtom-ORD\">\n",
    "            <mi>N</mi>\n",
    "          </mrow>\n",
    "        </msub>\n",
    "        <mo>=</mo>\n",
    "        <mrow class=\"MJX-TeXAtom-ORD\">\n",
    "          <msqrt>\n",
    "            <mrow class=\"MJX-TeXAtom-ORD\">\n",
    "              <mfrac>\n",
    "                <mn>1</mn>\n",
    "                <mi>N</mi>\n",
    "              </mfrac>\n",
    "            </mrow>\n",
    "            <munderover>\n",
    "              <mo>∑<!-- ∑ --></mo>\n",
    "              <mrow class=\"MJX-TeXAtom-ORD\">\n",
    "                <mi>i</mi>\n",
    "                <mo>=</mo>\n",
    "                <mn>1</mn>\n",
    "              </mrow>\n",
    "              <mrow class=\"MJX-TeXAtom-ORD\">\n",
    "                <mi>N</mi>\n",
    "              </mrow>\n",
    "            </munderover>\n",
    "            <msup>\n",
    "              <mrow>\n",
    "                <mo>(</mo>\n",
    "                <mrow>\n",
    "                  <msub>\n",
    "                    <mi>x</mi>\n",
    "                    <mrow class=\"MJX-TeXAtom-ORD\">\n",
    "                      <mi>i</mi>\n",
    "                    </mrow>\n",
    "                  </msub>\n",
    "                  <mo>−<!-- − --></mo>\n",
    "                  <mrow class=\"MJX-TeXAtom-ORD\">\n",
    "                    <mrow class=\"MJX-TeXAtom-ORD\">\n",
    "                      <mover>\n",
    "                        <mi>x</mi>\n",
    "                        <mo stretchy=\"false\">¯<!-- ¯ --></mo>\n",
    "                      </mover>\n",
    "                    </mrow>\n",
    "                  </mrow>\n",
    "                </mrow>\n",
    "                <mo>)</mo>\n",
    "              </mrow>\n",
    "              <mrow class=\"MJX-TeXAtom-ORD\">\n",
    "                <mn>2</mn>\n",
    "              </mrow>\n",
    "            </msup>\n",
    "          </msqrt>\n",
    "        </mrow>\n",
    "        <mo>.</mo>\n",
    "      </mstyle>\n",
    "    </mrow>\n",
    "    <annotation encoding=\"application/x-tex\">{\\displaystyle s_{N}={\\sqrt {{\\frac {1}{N}}\\sum _{i=1}^{N}\\left(x_{i}-{\\bar {x}}\\right)^{2}}}.}</annotation>\n",
    "  </semantics>\n",
    "</math></span><img src=\"https://wikimedia.org/api/rest_v1/media/math/render/svg/05100833069f1eb35275f27bf59467b30efb7517\" class=\"mwe-math-fallback-image-display mw-invert skin-invert\" aria-hidden=\"true\" style=\"vertical-align: -3.005ex; width:25.173ex; height:8.009ex;\" alt=\"{\\displaystyle s_{N}={\\sqrt {{\\frac {1}{N}}\\sum _{i=1}^{N}\\left(x_{i}-{\\bar {x}}\\right)^{2}}}.}\"></span>\n",
    "</p>"
   ]
  },
  {
   "cell_type": "markdown",
   "id": "e5007ba0",
   "metadata": {},
   "source": [
    "<p>An unbiased estimator for the <i>variance</i> is given by applying <a href=\"/wiki/Bessel%27s_correction\" title=\"Bessel's correction\">Bessel's correction</a>, using <i>N</i>&nbsp;−&nbsp;1 instead of <i>N</i> to yield the <i>unbiased sample variance,</i> denoted <i>s</i><sup>2</sup>:\n",
    "<span class=\"mwe-math-element\"><span class=\"mwe-math-mathml-display mwe-math-mathml-a11y\" style=\"display: none;\"><math display=\"block\" xmlns=\"http://www.w3.org/1998/Math/MathML\" alttext=\"{\\displaystyle s^{2}={\\frac {1}{N-1}}\\sum _{i=1}^{N}\\left(x_{i}-{\\bar {x}}\\right)^{2}.}\">\n",
    "  <semantics>\n",
    "    <mrow class=\"MJX-TeXAtom-ORD\">\n",
    "      <mstyle displaystyle=\"true\" scriptlevel=\"0\">\n",
    "        <msup>\n",
    "          <mi>s</mi>\n",
    "          <mrow class=\"MJX-TeXAtom-ORD\">\n",
    "            <mn>2</mn>\n",
    "          </mrow>\n",
    "        </msup>\n",
    "        <mo>=</mo>\n",
    "        <mrow class=\"MJX-TeXAtom-ORD\">\n",
    "          <mfrac>\n",
    "            <mn>1</mn>\n",
    "            <mrow>\n",
    "              <mi>N</mi>\n",
    "              <mo>−<!-- − --></mo>\n",
    "              <mn>1</mn>\n",
    "            </mrow>\n",
    "          </mfrac>\n",
    "        </mrow>\n",
    "        <munderover>\n",
    "          <mo>∑<!-- ∑ --></mo>\n",
    "          <mrow class=\"MJX-TeXAtom-ORD\">\n",
    "            <mi>i</mi>\n",
    "            <mo>=</mo>\n",
    "            <mn>1</mn>\n",
    "          </mrow>\n",
    "          <mrow class=\"MJX-TeXAtom-ORD\">\n",
    "            <mi>N</mi>\n",
    "          </mrow>\n",
    "        </munderover>\n",
    "        <msup>\n",
    "          <mrow>\n",
    "            <mo>(</mo>\n",
    "            <mrow>\n",
    "              <msub>\n",
    "                <mi>x</mi>\n",
    "                <mrow class=\"MJX-TeXAtom-ORD\">\n",
    "                  <mi>i</mi>\n",
    "                </mrow>\n",
    "              </msub>\n",
    "              <mo>−<!-- − --></mo>\n",
    "              <mrow class=\"MJX-TeXAtom-ORD\">\n",
    "                <mrow class=\"MJX-TeXAtom-ORD\">\n",
    "                  <mover>\n",
    "                    <mi>x</mi>\n",
    "                    <mo stretchy=\"false\">¯<!-- ¯ --></mo>\n",
    "                  </mover>\n",
    "                </mrow>\n",
    "              </mrow>\n",
    "            </mrow>\n",
    "            <mo>)</mo>\n",
    "          </mrow>\n",
    "          <mrow class=\"MJX-TeXAtom-ORD\">\n",
    "            <mn>2</mn>\n",
    "          </mrow>\n",
    "        </msup>\n",
    "        <mo>.</mo>\n",
    "      </mstyle>\n",
    "    </mrow>\n",
    "    <annotation encoding=\"application/x-tex\">{\\displaystyle s^{2}={\\frac {1}{N-1}}\\sum _{i=1}^{N}\\left(x_{i}-{\\bar {x}}\\right)^{2}.}</annotation>\n",
    "  </semantics>\n",
    "</math></span><img src=\"https://wikimedia.org/api/rest_v1/media/math/render/svg/82217533774779531cf082ea00e0cab8f487c533\" class=\"mwe-math-fallback-image-display mw-invert skin-invert\" aria-hidden=\"true\" style=\"vertical-align: -3.005ex; width:26.085ex; height:7.343ex;\" alt=\"{\\displaystyle s^{2}={\\frac {1}{N-1}}\\sum _{i=1}^{N}\\left(x_{i}-{\\bar {x}}\\right)^{2}.}\"></span>\n",
    "</p>"
   ]
  },
  {
   "cell_type": "markdown",
   "id": "fe93363e",
   "metadata": {},
   "source": [
    "<p>This estimator is unbiased if the variance exists and the sample values are drawn independently with replacement. <i>N</i>&nbsp;−&nbsp;1 corresponds to the number of <a href=\"/wiki/Degrees_of_freedom_(statistics)\" title=\"Degrees of freedom (statistics)\">degrees of freedom</a> in the vector of deviations from the mean, <span class=\"mwe-math-element\"><span class=\"mwe-math-mathml-inline mwe-math-mathml-a11y\" style=\"display: none;\"><math xmlns=\"http://www.w3.org/1998/Math/MathML\" alttext=\"{\\displaystyle \\textstyle (x_{1}-{\\bar {x}},\\;\\dots ,\\;x_{n}-{\\bar {x}}).}\">\n",
    "  <semantics>\n",
    "    <mrow class=\"MJX-TeXAtom-ORD\">\n",
    "      <mstyle displaystyle=\"true\" scriptlevel=\"0\">\n",
    "        <mstyle displaystyle=\"false\" scriptlevel=\"0\">\n",
    "          <mo stretchy=\"false\">(</mo>\n",
    "          <msub>\n",
    "            <mi>x</mi>\n",
    "            <mrow class=\"MJX-TeXAtom-ORD\">\n",
    "              <mn>1</mn>\n",
    "            </mrow>\n",
    "          </msub>\n",
    "          <mo>−<!-- − --></mo>\n",
    "          <mrow class=\"MJX-TeXAtom-ORD\">\n",
    "            <mrow class=\"MJX-TeXAtom-ORD\">\n",
    "              <mover>\n",
    "                <mi>x</mi>\n",
    "                <mo stretchy=\"false\">¯<!-- ¯ --></mo>\n",
    "              </mover>\n",
    "            </mrow>\n",
    "          </mrow>\n",
    "          <mo>,</mo>\n",
    "          <mspace width=\"thickmathspace\"></mspace>\n",
    "          <mo>…<!-- … --></mo>\n",
    "          <mo>,</mo>\n",
    "          <mspace width=\"thickmathspace\"></mspace>\n",
    "          <msub>\n",
    "            <mi>x</mi>\n",
    "            <mrow class=\"MJX-TeXAtom-ORD\">\n",
    "              <mi>n</mi>\n",
    "            </mrow>\n",
    "          </msub>\n",
    "          <mo>−<!-- − --></mo>\n",
    "          <mrow class=\"MJX-TeXAtom-ORD\">\n",
    "            <mrow class=\"MJX-TeXAtom-ORD\">\n",
    "              <mover>\n",
    "                <mi>x</mi>\n",
    "                <mo stretchy=\"false\">¯<!-- ¯ --></mo>\n",
    "              </mover>\n",
    "            </mrow>\n",
    "          </mrow>\n",
    "          <mo stretchy=\"false\">)</mo>\n",
    "          <mo>.</mo>\n",
    "        </mstyle>\n",
    "      </mstyle>\n",
    "    </mrow>\n",
    "    <annotation encoding=\"application/x-tex\">{\\displaystyle \\textstyle (x_{1}-{\\bar {x}},\\;\\dots ,\\;x_{n}-{\\bar {x}}).}</annotation>\n",
    "  </semantics>\n",
    "</math></span><img src=\"https://wikimedia.org/api/rest_v1/media/math/render/svg/f486a63ff6f56b50fc4a2634494c8dfd154040de\" class=\"mwe-math-fallback-image-inline mw-invert skin-invert\" aria-hidden=\"true\" style=\"vertical-align: -0.838ex; width:22.197ex; height:2.843ex;\" alt=\"{\\displaystyle \\textstyle (x_{1}-{\\bar {x}},\\;\\dots ,\\;x_{n}-{\\bar {x}}).}\"></span>\n",
    "</p>"
   ]
  },
  {
   "cell_type": "code",
   "execution_count": 50,
   "id": "3a699e19",
   "metadata": {},
   "outputs": [],
   "source": [
    "def my_unbiased_std(nums):\n",
    "    \n",
    "    # Step 1: Calculate the mean\n",
    "    mean = np.mean(nums)\n",
    "\n",
    "    # Step 2: Calculate the deviations of each data point from the mean\n",
    "    deviations = nums - mean\n",
    "\n",
    "    # Step 3: Square the deviations\n",
    "    squared_deviations = deviations ** 2\n",
    "\n",
    "    # Step 4: Sum the squared deviations and divide by N-1 (unbiased variance)\n",
    "    variance = np.sum(squared_deviations) / (len(nums) - 1)\n",
    "\n",
    "    # Step 5: Take the square root to get the standard deviation\n",
    "    std_dev = np.sqrt(variance)\n",
    "\n",
    "    return std_dev"
   ]
  },
  {
   "cell_type": "code",
   "execution_count": 51,
   "id": "df2ae148",
   "metadata": {},
   "outputs": [
    {
     "data": {
      "text/plain": [
       "np.float64(9.636336148089395)"
      ]
     },
     "execution_count": 51,
     "metadata": {},
     "output_type": "execute_result"
    }
   ],
   "source": [
    "my_unbiased_std(speed)"
   ]
  },
  {
   "cell_type": "code",
   "execution_count": 52,
   "id": "d6a2c003",
   "metadata": {},
   "outputs": [
    {
     "data": {
      "text/plain": [
       "np.float64(9.258292301032677)"
      ]
     },
     "execution_count": 52,
     "metadata": {},
     "output_type": "execute_result"
    }
   ],
   "source": [
    "np.std(speed) # ddof=0, (stands for degree of freedom) this is the biased one"
   ]
  },
  {
   "cell_type": "code",
   "execution_count": 53,
   "id": "d3f8dcca",
   "metadata": {
    "jupyter": {
     "outputs_hidden": true
    }
   },
   "outputs": [
    {
     "name": "stdout",
     "output_type": "stream",
     "text": [
      "Help on _ArrayFunctionDispatcher in module numpy:\n",
      "\n",
      "std(a, axis=None, dtype=None, out=None, ddof=0, keepdims=<no value>, *, where=<no value>, mean=<no value>, correction=<no value>)\n",
      "    Compute the standard deviation along the specified axis.\n",
      "    \n",
      "    Returns the standard deviation, a measure of the spread of a distribution,\n",
      "    of the array elements. The standard deviation is computed for the\n",
      "    flattened array by default, otherwise over the specified axis.\n",
      "    \n",
      "    Parameters\n",
      "    ----------\n",
      "    a : array_like\n",
      "        Calculate the standard deviation of these values.\n",
      "    axis : None or int or tuple of ints, optional\n",
      "        Axis or axes along which the standard deviation is computed. The\n",
      "        default is to compute the standard deviation of the flattened array.\n",
      "    \n",
      "        .. versionadded:: 1.7.0\n",
      "    \n",
      "        If this is a tuple of ints, a standard deviation is performed over\n",
      "        multiple axes, instead of a single axis or all the axes as before.\n",
      "    dtype : dtype, optional\n",
      "        Type to use in computing the standard deviation. For arrays of\n",
      "        integer type the default is float64, for arrays of float types it is\n",
      "        the same as the array type.\n",
      "    out : ndarray, optional\n",
      "        Alternative output array in which to place the result. It must have\n",
      "        the same shape as the expected output but the type (of the calculated\n",
      "        values) will be cast if necessary.\n",
      "        See :ref:`ufuncs-output-type` for more details.\n",
      "    ddof : {int, float}, optional\n",
      "        Means Delta Degrees of Freedom.  The divisor used in calculations\n",
      "        is ``N - ddof``, where ``N`` represents the number of elements.\n",
      "        By default `ddof` is zero. See Notes for details about use of `ddof`.\n",
      "    keepdims : bool, optional\n",
      "        If this is set to True, the axes which are reduced are left\n",
      "        in the result as dimensions with size one. With this option,\n",
      "        the result will broadcast correctly against the input array.\n",
      "    \n",
      "        If the default value is passed, then `keepdims` will not be\n",
      "        passed through to the `std` method of sub-classes of\n",
      "        `ndarray`, however any non-default value will be.  If the\n",
      "        sub-class' method does not implement `keepdims` any\n",
      "        exceptions will be raised.\n",
      "    where : array_like of bool, optional\n",
      "        Elements to include in the standard deviation.\n",
      "        See `~numpy.ufunc.reduce` for details.\n",
      "    \n",
      "        .. versionadded:: 1.20.0\n",
      "    \n",
      "    mean : array_like, optional\n",
      "        Provide the mean to prevent its recalculation. The mean should have\n",
      "        a shape as if it was calculated with ``keepdims=True``.\n",
      "        The axis for the calculation of the mean should be the same as used in\n",
      "        the call to this std function.\n",
      "    \n",
      "        .. versionadded:: 1.26.0\n",
      "    \n",
      "    correction : {int, float}, optional\n",
      "        Array API compatible name for the ``ddof`` parameter. Only one of them\n",
      "        can be provided at the same time.\n",
      "    \n",
      "        .. versionadded:: 2.0.0\n",
      "    \n",
      "    Returns\n",
      "    -------\n",
      "    standard_deviation : ndarray, see dtype parameter above.\n",
      "        If `out` is None, return a new array containing the standard deviation,\n",
      "        otherwise return a reference to the output array.\n",
      "    \n",
      "    See Also\n",
      "    --------\n",
      "    var, mean, nanmean, nanstd, nanvar\n",
      "    :ref:`ufuncs-output-type`\n",
      "    \n",
      "    Notes\n",
      "    -----\n",
      "    There are several common variants of the array standard deviation\n",
      "    calculation. Assuming the input `a` is a one-dimensional NumPy array\n",
      "    and ``mean`` is either provided as an argument or computed as\n",
      "    ``a.mean()``, NumPy computes the standard deviation of an array as::\n",
      "    \n",
      "        N = len(a)\n",
      "        d2 = abs(a - mean)**2  # abs is for complex `a`\n",
      "        var = d2.sum() / (N - ddof)  # note use of `ddof`\n",
      "        std = var**0.5\n",
      "    \n",
      "    Different values of the argument `ddof` are useful in different\n",
      "    contexts. NumPy's default ``ddof=0`` corresponds with the expression:\n",
      "    \n",
      "    .. math::\n",
      "    \n",
      "        \\sqrt{\\frac{\\sum_i{|a_i - \\bar{a}|^2 }}{N}}\n",
      "    \n",
      "    which is sometimes called the \"population standard deviation\" in the field\n",
      "    of statistics because it applies the definition of standard deviation to\n",
      "    `a` as if `a` were a complete population of possible observations.\n",
      "    \n",
      "    Many other libraries define the standard deviation of an array\n",
      "    differently, e.g.:\n",
      "    \n",
      "    .. math::\n",
      "    \n",
      "        \\sqrt{\\frac{\\sum_i{|a_i - \\bar{a}|^2 }}{N - 1}}\n",
      "    \n",
      "    In statistics, the resulting quantity is sometimed called the \"sample\n",
      "    standard deviation\" because if `a` is a random sample from a larger\n",
      "    population, this calculation provides the square root of an unbiased\n",
      "    estimate of the variance of the population. The use of :math:`N-1` in the\n",
      "    denominator is often called \"Bessel's correction\" because it corrects for\n",
      "    bias (toward lower values) in the variance estimate introduced when the\n",
      "    sample mean of `a` is used in place of the true mean of the population.\n",
      "    The resulting estimate of the standard deviation is still biased, but less\n",
      "    than it would have been without the correction. For this quantity, use\n",
      "    ``ddof=1``.\n",
      "    \n",
      "    Note that, for complex numbers, `std` takes the absolute\n",
      "    value before squaring, so that the result is always real and nonnegative.\n",
      "    \n",
      "    For floating-point input, the standard deviation is computed using the same\n",
      "    precision the input has. Depending on the input data, this can cause\n",
      "    the results to be inaccurate, especially for float32 (see example below).\n",
      "    Specifying a higher-accuracy accumulator using the `dtype` keyword can\n",
      "    alleviate this issue.\n",
      "    \n",
      "    Examples\n",
      "    --------\n",
      "    >>> a = np.array([[1, 2], [3, 4]])\n",
      "    >>> np.std(a)\n",
      "    1.1180339887498949 # may vary\n",
      "    >>> np.std(a, axis=0)\n",
      "    array([1.,  1.])\n",
      "    >>> np.std(a, axis=1)\n",
      "    array([0.5,  0.5])\n",
      "    \n",
      "    In single precision, std() can be inaccurate:\n",
      "    \n",
      "    >>> a = np.zeros((2, 512*512), dtype=np.float32)\n",
      "    >>> a[0, :] = 1.0\n",
      "    >>> a[1, :] = 0.1\n",
      "    >>> np.std(a)\n",
      "    0.45000005\n",
      "    \n",
      "    Computing the standard deviation in float64 is more accurate:\n",
      "    \n",
      "    >>> np.std(a, dtype=np.float64)\n",
      "    0.44999999925494177 # may vary\n",
      "    \n",
      "    Specifying a where argument:\n",
      "    \n",
      "    >>> a = np.array([[14, 8, 11, 10], [7, 9, 10, 11], [10, 15, 5, 10]])\n",
      "    >>> np.std(a)\n",
      "    2.614064523559687 # may vary\n",
      "    >>> np.std(a, where=[[True], [True], [False]])\n",
      "    2.0\n",
      "    \n",
      "    Using the mean keyword to save computation time:\n",
      "    \n",
      "    >>> import numpy as np\n",
      "    >>> from timeit import timeit\n",
      "    >>> a = np.array([[14, 8, 11, 10], [7, 9, 10, 11], [10, 15, 5, 10]])\n",
      "    >>> mean = np.mean(a, axis=1, keepdims=True)\n",
      "    >>>\n",
      "    >>> g = globals()\n",
      "    >>> n = 10000\n",
      "    >>> t1 = timeit(\"std = np.std(a, axis=1, mean=mean)\", globals=g, number=n)\n",
      "    >>> t2 = timeit(\"std = np.std(a, axis=1)\", globals=g, number=n)\n",
      "    >>> print(f'Percentage execution time saved {100*(t2-t1)/t2:.0f}%')\n",
      "    #doctest: +SKIP\n",
      "    Percentage execution time saved 30%\n",
      "\n"
     ]
    }
   ],
   "source": [
    "help(np.std)"
   ]
  },
  {
   "cell_type": "code",
   "execution_count": 54,
   "id": "a85ef0dd",
   "metadata": {},
   "outputs": [
    {
     "data": {
      "text/plain": [
       "np.float64(9.636336148089395)"
      ]
     },
     "execution_count": 54,
     "metadata": {},
     "output_type": "execute_result"
    }
   ],
   "source": [
    "np.std(speed, ddof=1) # unbiased one"
   ]
  },
  {
   "cell_type": "code",
   "execution_count": 55,
   "id": "2b07dacd",
   "metadata": {},
   "outputs": [
    {
     "data": {
      "text/plain": [
       "np.float64(85.71597633136093)"
      ]
     },
     "execution_count": 55,
     "metadata": {},
     "output_type": "execute_result"
    }
   ],
   "source": [
    "# variance\n",
    "np.var(speed)"
   ]
  },
  {
   "cell_type": "code",
   "execution_count": 56,
   "id": "c688b76b",
   "metadata": {},
   "outputs": [
    {
     "data": {
      "text/plain": [
       "np.float64(92500000.0)"
      ]
     },
     "execution_count": 56,
     "metadata": {},
     "output_type": "execute_result"
    }
   ],
   "source": [
    "df[col].var()"
   ]
  },
  {
   "cell_type": "code",
   "execution_count": 57,
   "id": "a8675ff4",
   "metadata": {},
   "outputs": [
    {
     "data": {
      "text/plain": [
       "np.float64(9617.692030835673)"
      ]
     },
     "execution_count": 57,
     "metadata": {},
     "output_type": "execute_result"
    }
   ],
   "source": [
    "df[col].std()"
   ]
  },
  {
   "cell_type": "markdown",
   "id": "d107a498",
   "metadata": {},
   "source": [
    "### correlation"
   ]
  },
  {
   "cell_type": "code",
   "execution_count": 58,
   "id": "28982c3d",
   "metadata": {},
   "outputs": [],
   "source": [
    "cols_ = ['Income', 'Age']"
   ]
  },
  {
   "cell_type": "code",
   "execution_count": 59,
   "id": "57d58579",
   "metadata": {},
   "outputs": [
    {
     "data": {
      "text/html": [
       "<div>\n",
       "<style scoped>\n",
       "    .dataframe tbody tr th:only-of-type {\n",
       "        vertical-align: middle;\n",
       "    }\n",
       "\n",
       "    .dataframe tbody tr th {\n",
       "        vertical-align: top;\n",
       "    }\n",
       "\n",
       "    .dataframe thead th {\n",
       "        text-align: right;\n",
       "    }\n",
       "</style>\n",
       "<table border=\"1\" class=\"dataframe\">\n",
       "  <thead>\n",
       "    <tr style=\"text-align: right;\">\n",
       "      <th></th>\n",
       "      <th>Income</th>\n",
       "      <th>Age</th>\n",
       "    </tr>\n",
       "  </thead>\n",
       "  <tbody>\n",
       "    <tr>\n",
       "      <th>Income</th>\n",
       "      <td>1.000000</td>\n",
       "      <td>0.894369</td>\n",
       "    </tr>\n",
       "    <tr>\n",
       "      <th>Age</th>\n",
       "      <td>0.894369</td>\n",
       "      <td>1.000000</td>\n",
       "    </tr>\n",
       "  </tbody>\n",
       "</table>\n",
       "</div>"
      ],
      "text/plain": [
       "          Income       Age\n",
       "Income  1.000000  0.894369\n",
       "Age     0.894369  1.000000"
      ]
     },
     "execution_count": 59,
     "metadata": {},
     "output_type": "execute_result"
    }
   ],
   "source": [
    "df[cols_].corr()"
   ]
  },
  {
   "cell_type": "code",
   "execution_count": 60,
   "id": "4ece9d90",
   "metadata": {},
   "outputs": [
    {
     "data": {
      "text/plain": [
       "<bound method DataFrame.corr of    Age  Gender Education_Level  Income\n",
       "0   25  Female        Bachelor   50000\n",
       "1   30    Male          Master   50000\n",
       "2   22  Female        Bachelor   45000\n",
       "3   35    Male             PhD   70000\n",
       "4   29  Female          Master   55000>"
      ]
     },
     "execution_count": 60,
     "metadata": {},
     "output_type": "execute_result"
    }
   ],
   "source": [
    "df.corr"
   ]
  },
  {
   "cell_type": "code",
   "execution_count": 61,
   "id": "a12f413d",
   "metadata": {},
   "outputs": [],
   "source": [
    "# TODO"
   ]
  },
  {
   "cell_type": "markdown",
   "id": "bc7bfcdd",
   "metadata": {},
   "source": [
    "https://www.w3schools.com/python/python_ml_percentile.asp"
   ]
  },
  {
   "cell_type": "code",
   "execution_count": null,
   "id": "39c3e0dd",
   "metadata": {},
   "outputs": [],
   "source": []
  }
 ],
 "metadata": {
  "kernelspec": {
   "display_name": "Python 3 (ipykernel)",
   "language": "python",
   "name": "python3"
  },
  "language_info": {
   "codemirror_mode": {
    "name": "ipython",
    "version": 3
   },
   "file_extension": ".py",
   "mimetype": "text/x-python",
   "name": "python",
   "nbconvert_exporter": "python",
   "pygments_lexer": "ipython3",
   "version": "3.10.4"
  },
  "toc": {
   "base_numbering": 1,
   "nav_menu": {},
   "number_sections": true,
   "sideBar": true,
   "skip_h1_title": false,
   "title_cell": "Table of Contents",
   "title_sidebar": "Contents",
   "toc_cell": false,
   "toc_position": {
    "height": "calc(100% - 180px)",
    "left": "10px",
    "top": "150px",
    "width": "384px"
   },
   "toc_section_display": true,
   "toc_window_display": true
  }
 },
 "nbformat": 4,
 "nbformat_minor": 5
}
