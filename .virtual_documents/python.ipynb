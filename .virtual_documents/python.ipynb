print("Hello World!")





import urllib
import json
from IPython.display import display, Markdown

def generate_toc(notebook_path, indent_char="&emsp;"):
    is_markdown = lambda it: "markdown" == it["cell_type"]
    is_title = lambda it: it.strip().startswith("#") and it.strip().lstrip("#").lstrip()
    
    # Load the notebook JSON
    with open(notebook_path, 'r', encoding='utf-8') as in_f: # Use 'utf-8-sig' if necessary
        nb_json = json.load(in_f)
    
    toc_lines = []
    for cell in filter(is_markdown, nb_json["cells"]):
        for line in filter(is_title, cell["source"]):
            line = line.strip()
            indent = indent_char * (line.index(" ") - 1)
            title = line.lstrip("#").lstrip()
            url = urllib.parse.quote(title.replace(" ", "-"))
            out_line = f"{indent}[{title}](#{url})<br>\n"
            toc_lines.append(out_line)
    
    # Join the lines into a single string
    toc_output = ''.join(toc_lines)
    
    # Display the TOC in the Jupyter notebook cell
    display(Markdown(toc_output))

# Call the function with the path to your notebook
generate_toc('python.ipynb')



































import sys


help(sys)


sys.version
# A string containing the version number of the Python interpreter plus additional information
# on the build number and compiler used.
# Do not extract version information out of it, rather, use version_info and the functions provided by the platform module.


sys.version_info
# A tuple containing the five components of the version number: major, minor, micro, releaselevel, and serial. 
# All values except releaselevel are integers; the release level is 'alpha', 'beta', 'candidate', or 'final'.


if sys.version_info.major != 3:
    raise Exception('Version problem', 'this assumes python 3')
else:
    print("using python v3")








sys.platform
# This string contains a platform identifier that can be used to append platform-specific components to sys.path, for instance.
# The platform module provides detailed checks for the system’s identity.


if sys.platform.startswith('freebsd'):
    # FreeBSD-specific code here...
    pass
elif sys.platform.startswith('linux'):
    # Linux-specific code here...
    pass
elif sys.platform.startswith('aix'):
    # AIX-specific code here...
    pass
elif sys.platform == 'win32':
    print("On Windows")
elif sys.platform == 'darwin':
    print("On a Mac")
elif sys.platform == 'cygwin':
    print("Windows/Cygwin")
else:
    print("IDK")


sys.executable
# A string giving the absolute path of the executable binary for the Python interpreter, on systems where this makes sense.


sys.path
# A list of strings that specifies the search path for modules. 
# Initialized from the environment variable PYTHONPATH, plus an installation-dependent default.















































# TODO





# TODO











# This is a comment. No code is executed


print("Hello, World!") #This is a comment


#This is a comment
#written in
#more than just one line
print("Hello, World!")





"""
This is a comment
written in
more than just one line
"""
print("Hello, World!")





x = 22

print(x)


type(x)


x = 22

x # in jupyter notebooks, the output of the last statement in each code cell is printed


my_name = "Ricardo Abreu"

my_name


type(my_name)


x, y, z = 'Choco', 'Vanilla', 'Berry'

print(x)
print(y)
print(z)


x = y = z = 'Choco'

print(x)
print(y)
print(z)


x, y, z = 'Choco', 'Vanilla', 'Berry'
icecream = [x, y, z]

print(icecream)


type(icecream)


a, b, c = icecream

print(a)
print(b)
print(c)














# Camel case
testVariableCase = 'Ric' # Words are delimited by capital letters, except the initial word





# Pascal case
TestVariableCase = 'Ric' # Words are delimited by capital letters





# Snake case
test_variable_case = 'Ric' # Words are delimited by an underscore








# Hungarian notation
# This notation describes the variable type or purpose at the start of the variable name, 
# followed by a descriptor that indicates the variable's function. The Camelcase notation is used to delimit words.
stestVariableCase = 'Ric'


arrDistributeGroup = [] # Array called "Distribute Group"
sUserName = '' # String called "User Name"
iRandomSeed = 0 # Integer called "Random Seed"
bBusy = True # Boolean called "Busy"


















































c = 10  # integer
print("c = 10 belongs to type:", type(c), "\n")  # <class 'int'>


type(-12 + 100)


type(0.55)





a = 0.00007  # float defined using decimal notation
a


# 1.64 * 10^(-4)
b = 1.64e-4  # float defined using scientific notation
b


b2 = 1.64 * 10**-4  # exponentiation operator ∗∗
b2


type(3 + 12j)


f = 1 + 3j  # j represents the imaginary unit j = sqrt(-1)
f


d = complex(3, 4) # built-in function complex(a,b) creates the complex number a+b*j
d


type(1j)


# EXERCISE
a = 5.0 / 3
b = 1.645





# a) print a using scientific notation with two significant figures


a # not what i want


print(f"Without formatting, the variable a={a}", "\n")


print(f"Using scientific notation, the variable a={a:.2e}")


# b) print a^2 without any formatting and by using generic notation


print(f"Without formatting, the square of variable a is {a**2}")


print(
f"Using generic notation, the square of variable a is \
{a**2:g}"
)


# c) print b using two decimal points


print(f"Using two decimals, the variable b=1.645 is {b:.3}")


# round(a,2) and round(b,1)
print("round(a, 2) produces", round(a, 2))
print("round(b, 1) produces", round(b, 1))





is_active = True
type(is_active)


type(True)


type(False)


1 > 5


1 == 1








isUsersOnline = True
areUsersOnline = True
# vs
isEveryUserOnline = True
isEachUserOnline = True
# vs
everyUserIsOnline = True
allUsersAreOnline = True

# NONE of these follow python's recommendations











# to exemplify this, i'll be using this class (classes are covered later on)
class User:
    def __init__(self, username, is_online=False):
        self.username = username
        self.is_online = is_online

    def __repr__(self):
        return f"User({self.username}, is_online={self.is_online})"        


# List of user objects
users = [
    User("Alice", is_online=True),
    User("Bob", is_online=False),
    User("Charlie", is_online=True),
    User("Diana", is_online=False)
]





# Check if all users are online
all_users_online = all(user.is_online for user in users)
# this means, "for every user in the set, the user is online"
# translated to a math statement, this is ∀x (x ∈ users → x.is_online = True)
all_users_online

# or you can name it these things
# all_users_are_online
# each_user_is_online
# every_user_online

# note that
# is_every_user_online
# has a type hint. Not everyone will like that (i don't)





# Checks if at least one user is online
some_users_online = any(user.is_online for user in users)
# "there exists at least one user in the set who is online"
# ∃x (x ∈ users ∧ x.is_online = True)





# Checks if exactly one user is online
exactly_one_user_online = sum(user.is_online for user in users) == 1
# ∃!x (x ∈ users ∧ x.is_online = True)





# Checks if no user is online
no_users_online = not any(user.is_online for user in users)
# "there is no user who is online"
# ¬∃x (x ∈ users ∧ x.is_online = True)











e = "some text"
e


type(e)


'Single quotes'


"Double quotes"


primavera = """
Triple quotes - multiline

Alberto Caeiro
Quando vier a Primavera,

Quando vier a Primavera,
Se eu já estiver morto,
As flores florirão da mesma maneira
E as árvores não serão menos verdes que na Primavera passada.
A realidade não precisa de mim.
Sinto uma alegria enorme
Ao pensar que a minha morte não tem importância nenhuma.
Se soubesse que amanhã morria
E a Primavera era depois de amanhã,
Morreria contente, porque ela era depois de amanhã.
Se esse é o seu tempo, quando havia ela de vir senão no seu tempo?
Gosto que tudo seja real e que tudo esteja certo;
E gosto porque assim seria, mesmo que eu não gostasse.
Por isso, se morrer agora, morro contente,
Porque tudo é real e tudo está certo.
Podem rezar latim sobre o meu caixão, se quiserem.
Se quiserem, podem dançar e cantar à roda dele.
Não tenho preferências para quando já não puder ter preferências.
O que for, quando for, é que será o que é.
"""


print(primavera) # printing is needed for propper formating of strings


"I've always wanted to be a cat but no meow meow for me"


a = 'Hello World'


a[0]


a[:5]


a[-1]


a[2:5]


print(a + "\nAnd Goodbye!") # string concatenation








# Exercise
a = range(1, 7, 2)


# a) convert an object range into a list
list(a)


# b) operations on a range
# maximum element, the sum of the elements and the length

print("max(a) gives: ", max(a))
print("sum(a) gives: ", sum(a))
print("len(a) gives: ", len(a))








[1, 2, 3] # defined using rectangle brackets


['another', 'day', '...']


x, y, z = 'Choco', 'Vanilla', 'Blueberry'
icecream = [x, y, z]

icecream.append('Caramel') # appending to a list
icecream


icecream[0] = 'Strawberry'
icecream





nested_list = ['gamer', [1, True]] # nested list
nested_list


nested_list[1][1]


# EXERCISE
a = [2,[3,0],5,[1,1,2],'s',[1,4],2,5]


# a) add the first and last element in this list
a[0]+a[-1]


# b) set the third element to -2
a[2] = -2


# c) a[3][2] element of the list
a[3][2]


# d) create a new list which starts from the third element in list a, and contains every third element of a
a[2:len(a):2]


# e) new list that contains the first five elements of a
a[:5]





# default copy
c = [1,[2,3],4]
d = c
d[1] = 0
print(c,d)


# shallow copy with copy()
original_list = [1, 2, 3]
shallow_copy = original_list.copy()

shallow_copy.append(4)

print("Original List:", original_list)  # Output: [1, 2, 3]
print("Shallow Copy:", shallow_copy)    # Output: [1, 2, 3, 4]


# shallow copy with slicing
original_list = [1, 2, 3]
shallow_copy = original_list[:]

shallow_copy.append(4)

print("Original List:", original_list)  # Output: [1, 2, 3]
print("Shallow Copy:", shallow_copy)    # Output: [1, 2, 3, 4]


# shallow copy using the copy module
import copy
original_list = [1, 2, 3]
new_list = copy.copy(original_list)


# deep copy using the copy module
original_list = [[1, 2], [3, 4]]
deep_copy = copy.deepcopy(original_list)

deep_copy[0].append(5)

print("Original List:", original_list)  # Output: [[1, 2], [3, 4]]
print("Deep Copy:", deep_copy)          # Output: [[1, 2, 5], [3, 4]]





b = [u**3 for u in [1, 2, 3]]
b


f = [x % 3 for x in range(0, 12)]
f








a = (1,2,3,2,1)
a


type(a)


a[1]


a.append(3) # cannot change it!








a = {1, 2, 3, 3} # defined using "squigly" brackets
a


type(a)





b = {2, 5, 0}

a | b # inclusive OR, using a bar


a ^ b # exclusive OR, using a carret. The elements in one set or the other but not in both


a & b # AND, using a ampersand


a - b # DIFFERENCE


b - a











player = {'name': 'Ric', 'health': 100, 'skills': ['sleep']}
player


player.values()


player.keys()


player.items()





player[0]


player['name']


player['name'] = 'Ricardo'
player


player.update({'name': 'Ric', 'health': 80, 'skills': ['yawn'], 'height (in cm)': 173})
player


del player['height (in cm)']
player











class Person:
    def __init__(self, name):
        self.name = name

    def greet(self):
        return f"Hello, my name is {self.name}."


alice = Person("Alice")
alice


type(alice)


alice.greet()


# Exercise
# Number guessing game


import random

# Define a Game class
class NumberGuessingGame:
    def __init__(self, lower=1, upper=100):
        # Initialize game parameters
        self.lower = lower
        self.upper = upper
        self.number_to_guess = random.randint(self.lower, self.upper)
        self.guess_count = 0

    def play(self):
        print(f"Welcome to the Number Guessing Game!")
        print(f"Guess a number between {self.lower} and {self.upper}")

        while True:
            try:
                # Get user's guess
                guess = int(input("Enter your guess: "))
                self.guess_count += 1

                # Check if guess is correct
                if guess < self.number_to_guess:
                    print("Too low! Try again.")
                elif guess > self.number_to_guess:
                    print("Too high! Try again.")
                else:
                    print(f"Congratulations! You guessed the number in {self.guess_count} attempts.")
                    break
            except ValueError:
                print("Please enter a valid number!")

    def reset(self):
        # Reset the game to allow a new round
        self.number_to_guess = random.randint(self.lower, self.upper)
        self.guess_count = 0
        print("\nGame reset. Let's play again!")


# Instantiate and play the game
game = NumberGuessingGame()
game.play()

# Reset and play again if you want to
# game.reset()
# game.play()








10 == 10 # IS EQUAL TO


10 != 10 # IS DIFFERENT FROM





# And


True and True


False and True


False and False


# Or


True or True


True or False


False or False


# Not


not True


not False





'a' in ('a', 'b', 'c', 'd')


'a' not in ('a', 'b', 'c', 'd')


'love' in 'I love you'


trusted_users = ['joao', 'rafael', 'maria']
'ric' in trusted_users





# String -> Integer


num_7 = int('7')


print(num_7)
print(type(num_7))


# List -> Tuple


a = [1, 2, 3, 3]
a_tuple = tuple(a)
a_tuple


# List -> Set


a = [1, 2, 3, 3]
a_set = set(a)
a_set


# Dictionary -> Lists


person = {"name": "Alice", "age": 25, "city": "London"}

# Convert dictionary keys to a list
keys_list = list(person.keys())

# Convert dictionary values to a list
values_list = list(person.values())

print("Keys List:", keys_list)
print("Values List:", values_list)


# String -> List


hello_str = 'Hello World'
list(hello_str)


# String -> Set


hello_str = 'Hello World'
set(hello_str)








if 2 > 1:
    print("2 > 1") # indentation is mandatory


if 1 > 2:
    print("1 > 2")
else:
    print("2 > 1")


# Example: Checking the status of a person based on their age

age = 25

if age < 18:
    print("You're a minor.")
elif age >= 18 and age < 65:
    print("You're an adult.")
else:
    print("You're a senior citizen.")


say_hello = False
print('Hello') if say_hello else print('Gn')





# Example: Checking if a number is positive, negative, or zero, and whether it's even or odd if it's positive

number = 8

if number >= 0:
    print("The number is positive or zero.")
    
    if number == 0:
        print("The number is zero.")
    else:
        if number % 2 == 0:
            print("The number is positive and even.")
        else:
            print("The number is positive and odd.")
else:
    print("The number is negative.")








print('Hello')
print('Hello')
print('Hello')
print('Hello')
print('Hello')


ind = [0, 1, 2, 3, 4]
for i in ind:
    print('Hello')


print(range(5)) # Create a range of numbers from 0 to 5 (exclusive).
for i in range(5):
    print('Hello')


# Example: Looping through a list of fruits and printing each one

fruits = ["apple", "banana", "cherry", "mango"]

for fruit in fruits:
    print(fruit)


# Example: Looping through a list using index numbers

fruits = ["apple", "banana", "cherry", "mango"]

for i in range(len(fruits)):
    print(f"Index {i}: {fruits[i]}")


# Example: Looping through the keys of a dictionary

person = {"name": "Alice", "age": 30, "city": "New York"}

for key in person:
    print(key)


# Example: Looping through the values of a dictionary

person = {"name": "Alice", "age": 30, "city": "New York"}

for value in person.values():
    print(value)


# Example: Looping through both keys and values of a dictionary

person = {"name": "Alice", "age": 30, "city": "New York"}

for key, value in person.items():
    print(key, '->', value)

print('\n')

for key, value in person.items():
    print(f"{key}: {value}")





# Example: Looping through dictionary keys with an index

person = {"name": "Alice", "age": 30, "city": "New York"}

for index, key in enumerate(person):
    print(f"Index {index}: {key} -> {person[key]}")





# Outer loop
for i in range(1, 4):  # i will take values 1, 2, 3
    # Inner loop
    for j in range(1, 4):  # j will take values 1, 2, 3
        print(f"i = {i}, j = {j}")


list1 = ['A', 'B', 'C']
list2 = [1, 2, 3]

# Outer loop iterates through list1
for item1 in list1:
    # Inner loop iterates through list2
    for item2 in list2:
        print(f"item1 = {item1}, item2 = {item2}")


# EXERCISE





# create the function
def f(v0, a, t):
    y = v0 * t + (1 / 2) * a * t**2
    return y


# use it
ypos = []
v0 = 1
a = 2
for t in [0, 1, 2, 3]:  # or in range(4)
    ypos.append(f(v0, a, t))

print("position y(t) = ", ypos)


# using default values
def f(t, v0=1, a=2):  # non-default parameters must come first
    y = v0 * t + (1 / 2) * a * t**2
    return y


ypos = []
for t in [0, 1, 2, 3]:
    ypos.append(f(t))

print("position y(t) = ", ypos)





i = 0

while i < 10:
    i += 1

    if i == 5:
        print("Skipping number 5")
        continue  # Skip the rest of the loop when i is 5

    if i == 8:
        print("Stopping the loop at number 8")
        break  # Exit the loop when i is 8

    print(f"Current number is {i}")








# function definition
def a_function_name():
    print("Hello World...") # function body


a_function_name() # function call





def my_squared(n):
    return n**2


my_squared(2)


def greet(name):
    return f"Hello, {name}!"


type(greet)





def my_power(n, power):
    return n**power


my_power(3, 3)


help(my_power)





my_power(n=3, power=5)


my_power(power=3, n=5)





def my_printAll(*args):
    print(type(args)) # it's a tuple
    for s in args:
        print(s)


my_printAll('Hello', 'World', '!')


def my_sumNums(*nums):
    total = 0
    for n in nums:
        total += n
    return total


my_sumNums(1, 2, 3, 5, 7, 8, 20, 33)





def print_person_details(**kwargs):
    print(type(kwargs)) # it's a dictionary
    print("Person Details:")
    for key, value in kwargs.items():
        print(f"{key}: {value}")


print_person_details(name="John", age=30, city="New York", profession="Engineer")





# EXERCISE





# with one parameter
v0, a = 1, 2  # need to define this before de lambda function
f = lambda t: v0 * t + a * t**2  # define lambda function f(t)


ypos = []
for t in [0, 1, 2, 3]:  # or in range(4)
    ypos.append(f(t))

print("position y(t) = ", ypos)


# with multiple parameters
f2 = lambda v0, a, t: v0 * t + a * t**2


ypos = []
v0 = 1
a = 2
for t in [0, 1, 2, 3]:  # or in range(4)
    ypos.append(f2(v0, a, t))

print("position y(t) = ", ypos)


# using default values
f3 = lambda t, v0=1, a=2: v0 * t + a * t**2  # non-default parameters must come first


ypos = []
for t in [0, 1, 2, 3]:  # or in range(4)
    ypos.append(f3(t))

print("position y(t) = ", ypos)











user = input()


user


mass = input("Enter your weight in kg: ")


print(mass)
type(mass)


mass = int(mass)
type(weight)


height = input("Enter your height in cm: ")


height = int(height)
print(height)
height = height/100.0
height


print(f"{height:.3f}") # show more decimal places


bmi = mass/height**2
bmi








status = ''
if bmi < 16.0:
    status = 'Underweight (Severe thinness)'
elif bmi <= 16.9:
    status = 'Underweight (Moderate thinness)'
elif bmi <= 18.4:
    status = 'Underweight (Mild thinness)'
elif bmi <= 24.9:
    status = 'Normal range'
elif bmi <= 29.9:
    status = 'Overweight (Pre-obese)'
elif bmi <= 34.9:
    status = 'Obese (Class I)'
elif bmi <= 39.9:
    status = 'Obese (Class II)'
elif bmi >= 40.0:
    status = 'Obese (Class III)'
status 





# TODO








import sys


sys.executable








# !pip install package_name





# %pip install package_name


pip install --upgrade pip


%pip install numpy


pip show numpy











!conda install -y numpy


# Install a conda package in the current Jupyter kernel
!conda install --yes --prefix {sys.prefix} numpy


# TODO - i haven't added it to the PATH variable so it isn't working

















pwd


import os





help(dir)


dir(os)


os.getcwd()


# TODO - there's a lot of useful things it can be used for. Ask ChatGPT


import shutil











path_abs = r"D:\repos\python-jupyter\automatic-file-sorter" # absolute path, using a raw string
path_abs





os.listdir(path_abs)





os.listdir('.') # working directory


path_rel = './automatic-file-sorter' # relative path
path_rel


os.listdir(path_rel)


os.path.exists(path_rel + 'some_folder_name') # check if a folder or path exists


folder_names = ['csv files', 'image files', 'gif files', 'text files']

for e in folder_names:
    if not os.path.exists(path_rel + '/' + e):
        os.mkdir(path_rel + '/' + e)


os.listdir(path_rel)


filenames = os.listdir(path_rel)

for filename in filenames:
    if '.txt' in filename:
        # move from initial path to new path
        shutil.move(path_rel + '/' + filename, path_rel + '/' + 'text files' + '/' + filename)
    elif '.csv' in filename:
        shutil.move(path_rel + '/' + filename, path_rel + '/' + 'csv files' + '/' + filename)
    elif '.jpeg' in filename or '.png' in filename:
        shutil.move(path_rel + '/' + filename, path_rel + '/' + 'image files' + '/' + filename)
    elif '.gif' in filename:
        shutil.move(path_rel + '/' + filename, path_rel + '/' + 'gif files' + '/' + filename)


os.listdir(path_rel)








import re


text = "Hello!\n  World... \n \r ssssss"


# Split the text into a list of sentences using regex
sentences = re.split(r'(?<=[.!?])\s+', text)
sentences
