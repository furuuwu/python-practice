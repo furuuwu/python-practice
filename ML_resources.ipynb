{
 "cells": [
  {
   "cell_type": "markdown",
   "id": "6c91fad9",
   "metadata": {},
   "source": [
    "**goals**\n",
    "* compile info on this topic\n",
    "* get some practice"
   ]
  },
  {
   "cell_type": "markdown",
   "id": "2d0ac461",
   "metadata": {},
   "source": [
    "**sources**\n",
    "\n",
    "So, after some initial indecision, i decided:\n",
    "* book 1\n",
    "    https://www.amazon.com/Machine-Learning-Physics-Astronomy-Acquaviva/dp/0691206414/\n",
    "    \n",
    "    is pretty much ideal. So, <span style=\"text-decoration:underline\">the organization of these notebooks will be based on this book</span> and much of it will be copied to here. However, i also wanted to see and do some implementation of the algorithms and see some math.\n",
    "* book 2 https://www.amazon.com/Programming-Machine-Learning-Zero-Deep/dp/1680506609/\n",
    "\n",
    "    seems helpful with the code and i like it's oriented towards deep learning. So i'll try to fuse these two together somehow \n",
    "* book 3 https://www.amazon.com/Data-Science-Machine-Learning-Mathematical/dp/1138492531/\n",
    "\n",
    "    seems good for the math (i least from what i saw, i like the notation and helps see where the math comes from). But, in here it's a pain to write it out so i mostly avoid copying it. \n",
    "* book 4 https://www.amazon.com/Introduction-Machine-Learning-Python-Scientists/dp/1449369413/\n",
    "\n",
    "    is a generic programming-oriented book that's pretty bad in regards to theory/math, as expected, but it has good examples. \n",
    "* book 5 https://www.amazon.com/Artificial-Intelligence-Modern-Approach-Global/dp/1292401133/\n",
    "    \n",
    "    is a huge tome with all things artificial intelligence."
   ]
  },
  {
   "cell_type": "markdown",
   "id": "aef9cea8",
   "metadata": {},
   "source": [
    "* also check the links below or those in each section to know more (these are just LMGTFY)\n",
    "    * [code basics - Machine Learning](https://www.youtube.com/watch?v=gmvvaobm7eQ&list=PLeo1K3hjS3uvCeTYTeyfe0-rN5r8zn9rw&index=1)\n",
    "    * [Kylie Ying - Machine Learning for Everybody](https://www.youtube.com/watch?v=i_LwzRVP7bg)\n",
    "    * [Jason Adleberg - Building and Evaluating Medical AI Models](https://www.youtube.com/watch?v=8m3LvPg8EuI)\n",
    "    * [Theja Tulabandhula - Deep Learning and AI](https://www.youtube.com/watch?v=5I6dq-xjuzk&list=PLzq3B7Hh4uvb5iMsbR68bmpMAU5HLrpcn&index=1)\n",
    "    * https://chicagodatascience.github.io/MLOps/\n",
    "    * https://github.com/recodehive/machine-learning-repos\n",
    "    * https://github.com/amueller/mglearn"
   ]
  }
 ],
 "metadata": {
  "kernelspec": {
   "display_name": "Python 3 (ipykernel)",
   "language": "python",
   "name": "python3"
  },
  "language_info": {
   "codemirror_mode": {
    "name": "ipython",
    "version": 3
   },
   "file_extension": ".py",
   "mimetype": "text/x-python",
   "name": "python",
   "nbconvert_exporter": "python",
   "pygments_lexer": "ipython3",
   "version": "3.10.4"
  },
  "toc": {
   "base_numbering": 1,
   "nav_menu": {},
   "number_sections": true,
   "sideBar": true,
   "skip_h1_title": false,
   "title_cell": "Table of Contents",
   "title_sidebar": "Contents",
   "toc_cell": false,
   "toc_position": {},
   "toc_section_display": true,
   "toc_window_display": false
  }
 },
 "nbformat": 4,
 "nbformat_minor": 5
}
